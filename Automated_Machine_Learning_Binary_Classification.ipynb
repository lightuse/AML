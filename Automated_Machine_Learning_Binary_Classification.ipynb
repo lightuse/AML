{
  "nbformat": 4,
  "nbformat_minor": 0,
  "metadata": {
    "colab": {
      "name": "Automated Machine Learning Binary Classification.ipynb",
      "provenance": [],
      "collapsed_sections": [],
      "authorship_tag": "ABX9TyP9LuSDWaF8LEMIPLGeIXn/",
      "include_colab_link": true
    },
    "kernelspec": {
      "name": "python3",
      "display_name": "Python 3"
    },
    "widgets": {
      "application/vnd.jupyter.widget-state+json": {
        "a9ef53cc7d8e413b9cbcde887f403b85": {
          "model_module": "@jupyter-widgets/controls",
          "model_name": "RadioButtonsModel",
          "state": {
            "_options_labels": [
              "AUC",
              "F1",
              "Recall",
              "Precision"
            ],
            "_view_name": "RadioButtonsView",
            "style": "IPY_MODEL_e38cf9a263574615be26219f6e4a1e10",
            "_dom_classes": [],
            "description": "",
            "_model_name": "RadioButtonsModel",
            "index": 0,
            "_view_module": "@jupyter-widgets/controls",
            "_model_module_version": "1.5.0",
            "_view_count": null,
            "disabled": false,
            "_view_module_version": "1.5.0",
            "description_tooltip": null,
            "_model_module": "@jupyter-widgets/controls",
            "layout": "IPY_MODEL_c743e2da380e4bdf9fa30b3a72c3c7c6"
          }
        },
        "e38cf9a263574615be26219f6e4a1e10": {
          "model_module": "@jupyter-widgets/controls",
          "model_name": "DescriptionStyleModel",
          "state": {
            "_view_name": "StyleView",
            "_model_name": "DescriptionStyleModel",
            "description_width": "",
            "_view_module": "@jupyter-widgets/base",
            "_model_module_version": "1.5.0",
            "_view_count": null,
            "_view_module_version": "1.2.0",
            "_model_module": "@jupyter-widgets/controls"
          }
        },
        "c743e2da380e4bdf9fa30b3a72c3c7c6": {
          "model_module": "@jupyter-widgets/base",
          "model_name": "LayoutModel",
          "state": {
            "_view_name": "LayoutView",
            "grid_template_rows": null,
            "right": null,
            "justify_content": null,
            "_view_module": "@jupyter-widgets/base",
            "overflow": null,
            "_model_module_version": "1.2.0",
            "_view_count": null,
            "flex_flow": null,
            "width": null,
            "min_width": null,
            "border": null,
            "align_items": null,
            "bottom": null,
            "_model_module": "@jupyter-widgets/base",
            "top": null,
            "grid_column": null,
            "overflow_y": null,
            "overflow_x": null,
            "grid_auto_flow": null,
            "grid_area": null,
            "grid_template_columns": null,
            "flex": null,
            "_model_name": "LayoutModel",
            "justify_items": null,
            "grid_row": null,
            "max_height": null,
            "align_content": null,
            "visibility": null,
            "align_self": null,
            "height": null,
            "min_height": null,
            "padding": null,
            "grid_auto_rows": null,
            "grid_gap": null,
            "max_width": null,
            "order": null,
            "_view_module_version": "1.2.0",
            "grid_template_areas": null,
            "object_position": null,
            "object_fit": null,
            "grid_auto_columns": null,
            "margin": null,
            "display": null,
            "left": null
          }
        },
        "fb3e6daf107247bc8c90864ca2a85c90": {
          "model_module": "@jupyter-widgets/controls",
          "model_name": "RadioButtonsModel",
          "state": {
            "_options_labels": [
              "knn",
              "logistic",
              "rsvc",
              "lsvc",
              "tree",
              "rf",
              "gb",
              "mlp",
              "lightgbm"
            ],
            "_view_name": "RadioButtonsView",
            "style": "IPY_MODEL_fc34658521404d9a90081aa3a4245b68",
            "_dom_classes": [],
            "description": "",
            "_model_name": "RadioButtonsModel",
            "index": 0,
            "_view_module": "@jupyter-widgets/controls",
            "_model_module_version": "1.5.0",
            "_view_count": null,
            "disabled": false,
            "_view_module_version": "1.5.0",
            "description_tooltip": null,
            "_model_module": "@jupyter-widgets/controls",
            "layout": "IPY_MODEL_8dedbdd62109462aa1dc7d1876aa9819"
          }
        },
        "fc34658521404d9a90081aa3a4245b68": {
          "model_module": "@jupyter-widgets/controls",
          "model_name": "DescriptionStyleModel",
          "state": {
            "_view_name": "StyleView",
            "_model_name": "DescriptionStyleModel",
            "description_width": "",
            "_view_module": "@jupyter-widgets/base",
            "_model_module_version": "1.5.0",
            "_view_count": null,
            "_view_module_version": "1.2.0",
            "_model_module": "@jupyter-widgets/controls"
          }
        },
        "8dedbdd62109462aa1dc7d1876aa9819": {
          "model_module": "@jupyter-widgets/base",
          "model_name": "LayoutModel",
          "state": {
            "_view_name": "LayoutView",
            "grid_template_rows": null,
            "right": null,
            "justify_content": null,
            "_view_module": "@jupyter-widgets/base",
            "overflow": null,
            "_model_module_version": "1.2.0",
            "_view_count": null,
            "flex_flow": null,
            "width": null,
            "min_width": null,
            "border": null,
            "align_items": null,
            "bottom": null,
            "_model_module": "@jupyter-widgets/base",
            "top": null,
            "grid_column": null,
            "overflow_y": null,
            "overflow_x": null,
            "grid_auto_flow": null,
            "grid_area": null,
            "grid_template_columns": null,
            "flex": null,
            "_model_name": "LayoutModel",
            "justify_items": null,
            "grid_row": null,
            "max_height": null,
            "align_content": null,
            "visibility": null,
            "align_self": null,
            "height": null,
            "min_height": null,
            "padding": null,
            "grid_auto_rows": null,
            "grid_gap": null,
            "max_width": null,
            "order": null,
            "_view_module_version": "1.2.0",
            "grid_template_areas": null,
            "object_position": null,
            "object_fit": null,
            "grid_auto_columns": null,
            "margin": null,
            "display": null,
            "left": null
          }
        }
      }
    }
  },
  "cells": [
    {
      "cell_type": "markdown",
      "metadata": {
        "id": "view-in-github",
        "colab_type": "text"
      },
      "source": [
        "<a href=\"https://colab.research.google.com/github/lightuse/AML/blob/master/Automated_Machine_Learning_Binary_Classification.ipynb\" target=\"_parent\"><img src=\"https://colab.research.google.com/assets/colab-badge.svg\" alt=\"Open In Colab\"/></a>"
      ]
    },
    {
      "cell_type": "markdown",
      "metadata": {
        "id": "ZQ0VKbF0TBSm",
        "colab_type": "text"
      },
      "source": [
        "# supervised learning\n",
        "## binary classification"
      ]
    },
    {
      "cell_type": "markdown",
      "metadata": {
        "id": "2VLl-w9W2BX0",
        "colab_type": "text"
      },
      "source": [
        "Setting"
      ]
    },
    {
      "cell_type": "code",
      "metadata": {
        "id": "W6adj8nKyT9L",
        "colab_type": "code",
        "colab": {}
      },
      "source": [
        "# set pipelines for different algorithms\n",
        "from sklearn.pipeline import Pipeline\n",
        "import numpy as np\n",
        "import lightgbm as lgb\n",
        "from sklearn.preprocessing import StandardScaler\n",
        "from sklearn.neighbors import KNeighborsClassifier\n",
        "from sklearn.linear_model import LogisticRegression\n",
        "from sklearn.svm import SVC, LinearSVC\n",
        "from sklearn.tree import DecisionTreeClassifier\n",
        "from sklearn.ensemble import RandomForestClassifier\n",
        "from sklearn.ensemble import GradientBoostingClassifier\n",
        "from sklearn.neural_network import MLPClassifier\n",
        "from sklearn.decomposition import PCA\n",
        "from sklearn.metrics import roc_auc_score\n",
        "from sklearn.metrics import recall_score\n",
        "from sklearn.metrics import precision_score\n",
        "from sklearn.metrics import f1_score\n",
        "options_algorithm = ['knn', 'logistic', 'rsvc', 'lsvc', 'tree', 'rf', 'gb', 'mlp', 'lightgbm']\n",
        "evaluation_list = {'AUC':'roc_auc',\n",
        "                   'F1':'f1',\n",
        "                   'Recall':'recall',\n",
        "                   'Precision':'precision'}\n",
        "evaluation_function_list = {'AUC':roc_auc_score,\n",
        "                            'F1':f1_score,\n",
        "                            'Recall':recall_score,\n",
        "                            'Precision':precision_score}\n",
        "pipelines = {\n",
        "    'knn':\n",
        "        Pipeline([('scl', StandardScaler()),\n",
        "                  ('pca', PCA(random_state=1)),\n",
        "                  ('est', KNeighborsClassifier(n_neighbors=5, p=2, metric='minkowski'))]),\n",
        "    'logistic':\n",
        "        Pipeline([('scl', StandardScaler()),\n",
        "                  ('pca', PCA(random_state=1)),\n",
        "                  ('est', LogisticRegression(random_state=1))]),\n",
        "    'rsvc':\n",
        "        Pipeline([('scl', StandardScaler()),\n",
        "                  ('pca', PCA(random_state=1)),\n",
        "                  ('est', SVC(C=1.0, kernel='rbf', class_weight='balanced', random_state=1))]),\n",
        "    'lsvc':\n",
        "        Pipeline([('scl', StandardScaler()),\n",
        "                  ('pca', PCA(random_state=1)),\n",
        "                  ('est', LinearSVC(C=1.0, class_weight='balanced', random_state=1, max_iter=10000))]),\n",
        "    'tree':\n",
        "        Pipeline([('pca', PCA(random_state=1)),\n",
        "                  ('est', DecisionTreeClassifier(random_state=1))]),\n",
        "    'rf':\n",
        "        Pipeline([('pca', PCA(random_state=1)),\n",
        "                  ('est', RandomForestClassifier(random_state=1))]),\n",
        "    'gb':\n",
        "        Pipeline([('pca', PCA(random_state=1)),\n",
        "                  ('est', GradientBoostingClassifier(random_state=1))]),\n",
        "    'mlp':\n",
        "        Pipeline([('scl', StandardScaler()),\n",
        "                  ('pca', PCA(random_state=1)),\n",
        "                  ('est', MLPClassifier(hidden_layer_sizes=(3,3), max_iter=10000, random_state=1))]),\n",
        "    'lightgbm':\n",
        "        Pipeline([('scl', StandardScaler()),\n",
        "                  ('pca', PCA(random_state=1)),\n",
        "                  ('est', lgb.LGBMClassifier(random_state=1))])\n",
        "}\n",
        "# Feature selection by RandomForestClassifier\n",
        "feature_selection_rf_list = ['knn',\n",
        "                             'logistic',\n",
        "                             'rsvc',\n",
        "                             'lsvc',\n",
        "                             'mlp']\n",
        "feature_importances_algorithm_list = ['tree',\n",
        "                                       'rf',\n",
        "                                       'gb',\n",
        "                                       'lightgbm']\n",
        "tuning_prarameter_list = ['knn',\n",
        "                          'logistic']\n",
        "# パラメータグリッドの設定\n",
        "tuning_prarameter = {\n",
        "    'knn':{\n",
        "        'est__n_neighbors':[1,2,3,4,5,],\n",
        "        'est__weights':['uniform','distance'],\n",
        "        'est__algorithm':['auto','ball_tree','kd_tree','brute'],\n",
        "        'est__leaf_size':[1,10,20,30,40,50],\n",
        "        'est__p':[1,2]\n",
        "    },\n",
        "    'logistic':{\n",
        "        'pca__n_components':[5,7,9],\n",
        "        'est__C':[0.1,1.0,10.0,100.0]\n",
        "    }\n",
        "}\n",
        "# カテゴリ変数をリストで設定\n",
        "ohe_columns = ['Dependents',\n",
        "               'Gender',\n",
        "               'Married',\n",
        "               'Education',\n",
        "               'Self_Employed',\n",
        "               'Property_Area']\n",
        "# カテゴリ変数をobject型で読み込むための準備\n",
        "my_dtype = {'Dependents':object,\n",
        "            'Gender':object,\n",
        "            'Married':object,\n",
        "            'Education':object,\n",
        "            'Self_Employed':object,\n",
        "            'Property_Area':object}\n",
        "# 表示オプションの変更\n",
        "import pandas as pd\n",
        "pd.options.display.max_columns = 50\n",
        "id_label = \"Loan_ID\"\n",
        "train_file_name = './data/av_loan_u6lujuX_CVtuZ9i.csv'\n",
        "test_file_name = './data/av_loan_test_Y3wMUE5_7gLdaTN.csv'\n",
        "# feature_selection\n",
        "n_features_to_select = 10\n",
        "# ファイル出力拡張子\n",
        "file_extention = 'csv'\n",
        "# ホールドアウト有無\n",
        "is_holdout = True\n",
        "# 出力ファイルを predict_proba にするか \n",
        "is_predict_proba = True\n",
        "# initialize\n",
        "dict_selector = {}"
      ],
      "execution_count": 124,
      "outputs": []
    },
    {
      "cell_type": "code",
      "metadata": {
        "id": "pTTNkzAE2FWH",
        "colab_type": "code",
        "colab": {}
      },
      "source": [
        "def input_train_file(filename, my_dtype, id_label):\n",
        "    df = pd.read_csv(train_file_name, header=0, dtype=my_dtype)\n",
        "    # データの形式に合わせて適時修正\n",
        "    X  = df.iloc[:,:-1]\n",
        "    ID = X.iloc[:,[0]]\n",
        "    X  = X.drop(id_label, axis=1)\n",
        "    y  = df.iloc[:,-1]\n",
        "    class_mapping = {'N':1, 'Y':0}\n",
        "    y = y.map(class_mapping)\n",
        "    return X, y"
      ],
      "execution_count": 125,
      "outputs": []
    },
    {
      "cell_type": "markdown",
      "metadata": {
        "id": "Uj28528Av2eG",
        "colab_type": "text"
      },
      "source": [
        "One-hot encoding"
      ]
    },
    {
      "cell_type": "code",
      "metadata": {
        "id": "5GNLkqrf2MFs",
        "colab_type": "code",
        "colab": {}
      },
      "source": [
        "import numpy as np\n",
        "# one-hot encoding\n",
        "def one_hot_encoding(X, ohe_columns):\n",
        "    X_ohe = pd.get_dummies(X, dummy_na=True, columns=ohe_columns)\n",
        "    #print(X_ohe.columns.values)\n",
        "    np.save('one_hot_encoding', np.array(X_ohe.columns.values))\n",
        "    return X_ohe"
      ],
      "execution_count": 126,
      "outputs": []
    },
    {
      "cell_type": "markdown",
      "metadata": {
        "id": "Fzed-2ZHv9gi",
        "colab_type": "text"
      },
      "source": [
        "Null imputation"
      ]
    },
    {
      "cell_type": "code",
      "metadata": {
        "id": "a8xSnJYh2Ohp",
        "colab_type": "code",
        "colab": {}
      },
      "source": [
        "from sklearn.impute import SimpleImputer\n",
        "# imputation\n",
        "def imputation(X_ohe):\n",
        "    imp = SimpleImputer(strategy='mean')\n",
        "    imp.fit(X_ohe)\n",
        "    X_ohe_columns = X_ohe.columns.values\n",
        "    X_ohe = pd.DataFrame(imp.transform(X_ohe), columns=X_ohe_columns)\n",
        "    return imp, X_ohe, X_ohe_columns"
      ],
      "execution_count": 127,
      "outputs": []
    },
    {
      "cell_type": "markdown",
      "metadata": {
        "colab_type": "text",
        "id": "r6hx_7aztIqU"
      },
      "source": [
        "Feature selection"
      ]
    },
    {
      "cell_type": "code",
      "metadata": {
        "id": "sIZgeR_qtKqq",
        "colab_type": "code",
        "colab": {}
      },
      "source": [
        "from sklearn.feature_selection import RFE\n",
        "# feature selection\n",
        "def feature_selection(X_ohe, y, X_ohe_columns, estimator):\n",
        "    selector = RFE(estimator, n_features_to_select=n_features_to_select, step=.05)\n",
        "    selector.fit(X_ohe, y)\n",
        "    X_fin = X_ohe.loc[:, X_ohe_columns[selector.support_]]\n",
        "    return X_fin, selector"
      ],
      "execution_count": 128,
      "outputs": []
    },
    {
      "cell_type": "markdown",
      "metadata": {
        "id": "UHYPXUfwbAdZ",
        "colab_type": "text"
      },
      "source": [
        "Holdout"
      ]
    },
    {
      "cell_type": "code",
      "metadata": {
        "id": "URsEj5dea_w5",
        "colab_type": "code",
        "colab": {}
      },
      "source": [
        "from sklearn.model_selection import train_test_split\n",
        "# holdout\n",
        "def holdout(X_ohe, y):\n",
        "    X_train, X_test, y_train, y_test = train_test_split(X_ohe, y, test_size=0.3, random_state=1)\n",
        "    return X_train, X_test, y_train, y_test"
      ],
      "execution_count": 129,
      "outputs": []
    },
    {
      "cell_type": "markdown",
      "metadata": {
        "id": "rjP_XkkP2rXU",
        "colab_type": "text"
      },
      "source": [
        "Modeling"
      ]
    },
    {
      "cell_type": "code",
      "metadata": {
        "id": "C2_BTK_G2TZE",
        "colab_type": "code",
        "colab": {}
      },
      "source": [
        "from joblib import dump\n",
        "from sklearn.model_selection import GridSearchCV\n",
        "# train\n",
        "def train_model(X, y, X_ohe_columns, evaluation, dict_selector):\n",
        "    for pipe_name, pipeline in pipelines.items():\n",
        "        if pipe_name in feature_selection_rf_list:\n",
        "            X_featured, selector = feature_selection(X, y, X_ohe_columns, pipelines['rf'].named_steps['est'])\n",
        "        else:\n",
        "            X_featured, selector = feature_selection(X, y, X_ohe_columns, pipeline.named_steps['est'])      \n",
        "        dict_selector[pipe_name] = selector\n",
        "        if is_holdout:\n",
        "            X_train, X_valid, y_train, y_valid = holdout(X_featured, y)\n",
        "            if pipe_name in tuning_prarameter_list:\n",
        "                gs = GridSearchCV(estimator=pipeline,\n",
        "                            param_grid=tuning_prarameter[pipe_name],\n",
        "                            scoring=evaluation_list[evaluation],\n",
        "                            cv=3,\n",
        "                            return_train_score=False)\n",
        "                gs.fit(X_train, y_train)\n",
        "                dump(gs, pipe_name + '_classiffier.joblib')\n",
        "                gs.fit(X_valid, y_valid)\n",
        "            else:\n",
        "                clf = pipeline.fit(X_train, y_train)\n",
        "                dump(clf, pipe_name + '_classiffier.joblib')\n",
        "        else:\n",
        "            if pipe_name in tuning_prarameter_list:\n",
        "                gs = GridSearchCV(estimator=pipeline,\n",
        "                            param_grid=tuning_prarameter[pipe_name],\n",
        "                            scoring=evaluation_list[evaluation],\n",
        "                            cv=3,\n",
        "                            return_train_score=False)\n",
        "                gs.fit(X_featured, y)\n",
        "                dump(gs, pipe_name + '_classiffier.joblib')\n",
        "            else:\n",
        "                clf = pipeline.fit(X_featured, y)\n",
        "                dump(clf, pipe_name + '_classiffier.joblib')\n",
        "            X_train = X_featured\n",
        "            X_valid = _\n",
        "            y_train = y\n",
        "            y_valid = _\n",
        "    return X_train, X_valid, y_train, y_valid"
      ],
      "execution_count": 130,
      "outputs": []
    },
    {
      "cell_type": "code",
      "metadata": {
        "id": "GlQ7cwebwWI_",
        "colab_type": "code",
        "colab": {}
      },
      "source": [
        "def input_test_file(filename, my_dtype, id_label):\n",
        "    df_s = pd.read_csv(filename, header=0, dtype=my_dtype)\n",
        "    ID_s = df_s.iloc[:,[0]]\n",
        "    X_s  = df_s.drop(id_label, axis=1)\n",
        "    return df_s, X_s"
      ],
      "execution_count": 131,
      "outputs": []
    },
    {
      "cell_type": "markdown",
      "metadata": {
        "id": "rqPw3EoHvtcN",
        "colab_type": "text"
      },
      "source": [
        "Preprocessing"
      ]
    },
    {
      "cell_type": "code",
      "metadata": {
        "id": "5qpOyzr7PeWt",
        "colab_type": "code",
        "colab": {}
      },
      "source": [
        "# preprocessing\n",
        "def preprocessing(X_s, X_ohe, X_ohe_s, imp, X_ohe_columns, selector):\n",
        "    cols_model = set(X_ohe.columns.values)\n",
        "    cols_score = set(X_ohe_s.columns.values)\n",
        "    diff1 = cols_model - cols_score\n",
        "    diff2 = cols_score - cols_model\n",
        "    df1 = pd.DataFrame([[1,2,3]], columns=['c1','c2','c3'])\n",
        "    df2 = pd.DataFrame([[3,2,1]], columns=['c1','c2','c3'])\n",
        "    df_all = pd.concat([df1, df2])\n",
        "    df3 = pd.DataFrame([[0,1,2,3]], columns=['c0','c1','c3','c4'])\n",
        "    df_all = pd.concat([df_all, df3])\n",
        "    df_cols_m = pd.DataFrame(None, columns=X_ohe_columns, dtype=float)\n",
        "    X_ohe_s2 = pd.concat([df_cols_m, X_ohe_s])\n",
        "    set_Xm = set(X_ohe.columns.values)\n",
        "    set_Xs = set(X_ohe_s.columns.values)\n",
        "    X_ohe_s3 = X_ohe_s2.drop(list(set_Xs-set_Xm), axis=1)\n",
        "    X_ohe_s3.loc[:,list(set_Xm-set_Xs)] = X_ohe_s3.loc[:,list(set_Xm-set_Xs)].fillna(0, axis=1)\n",
        "    test = pd.DataFrame([[1,2,3]], columns=['c1','c2','c3'])\n",
        "    test = test.reindex(['c2','c3','c1'], axis=1)\n",
        "    X_ohe_s3 = X_ohe_s3.reindex(X_ohe.columns.values, axis=1)\n",
        "    X_ohe_s4 = pd.DataFrame(imp.transform(X_ohe_s3), columns=X_ohe_columns)\n",
        "    X_fin_s = X_ohe_s4.loc[:, X_ohe_columns[selector.support_]]\n",
        "    return X_fin_s"
      ],
      "execution_count": 132,
      "outputs": []
    },
    {
      "cell_type": "markdown",
      "metadata": {
        "id": "9PWTMgPzvlCH",
        "colab_type": "text"
      },
      "source": [
        "Scoring"
      ]
    },
    {
      "cell_type": "code",
      "metadata": {
        "id": "hG4JHiGchCSV",
        "colab_type": "code",
        "colab": {}
      },
      "source": [
        "from joblib import load\n",
        "def scoring(algorithm_name :str, X, is_predict_proba = False):\n",
        "    clf = load(algorithm_name + '_classiffier.joblib')\n",
        "    if is_predict_proba:\n",
        "        return clf.predict_proba(X)[:, 1]\n",
        "    return clf.predict(X)"
      ],
      "execution_count": 133,
      "outputs": []
    },
    {
      "cell_type": "code",
      "metadata": {
        "id": "I0bdyUa4qq2n",
        "colab_type": "code",
        "colab": {}
      },
      "source": [
        "def evaluation(scores, X_train, y_train, text, function_evaluation):\n",
        "    for pipe_name, pipeline in pipelines.items():\n",
        "        scores[(pipe_name, text)] = function_evaluation(y_train, scoring(pipe_name, X_train))"
      ],
      "execution_count": 134,
      "outputs": []
    },
    {
      "cell_type": "code",
      "metadata": {
        "id": "053crigVoBuR",
        "colab_type": "code",
        "colab": {}
      },
      "source": [
        "def get_input(x):\n",
        "    return x"
      ],
      "execution_count": 135,
      "outputs": []
    },
    {
      "cell_type": "code",
      "metadata": {
        "id": "q7edk4EAoCby",
        "colab_type": "code",
        "colab": {}
      },
      "source": [
        "from ipywidgets import interact, interactive,fixed, interact_manual\n",
        "from IPython.display import display\n",
        "import ipywidgets as widgets\n",
        "def choice(options):\n",
        "    input = get_input(widgets.RadioButtons(options=options))\n",
        "    display(input)\n",
        "    return input"
      ],
      "execution_count": 136,
      "outputs": []
    },
    {
      "cell_type": "code",
      "metadata": {
        "id": "OjZaceOpp4rJ",
        "colab_type": "code",
        "colab": {}
      },
      "source": [
        "import datetime\n",
        "def output_file(df, id_label :str, y :float, model_name :str, extension :str, header=True):\n",
        "    file_name = 'submittion_' + model_name + '_' + datetime.datetime.now().strftime('%Y%m%d%H%M%S') + '.' + extension\n",
        "    separator = ','\n",
        "    if extension == 'tsv':\n",
        "        separator = '\\t'\n",
        "    pd.concat([df[id_label], pd.DataFrame(y, columns=['y'])], axis=1).to_csv(file_name, index=False, sep=separator, header=header)"
      ],
      "execution_count": 137,
      "outputs": []
    },
    {
      "cell_type": "code",
      "metadata": {
        "id": "zZuSFEidmqPT",
        "colab_type": "code",
        "colab": {
          "base_uri": "https://localhost:8080/",
          "height": 101,
          "referenced_widgets": [
            "a9ef53cc7d8e413b9cbcde887f403b85",
            "e38cf9a263574615be26219f6e4a1e10",
            "c743e2da380e4bdf9fa30b3a72c3c7c6"
          ]
        },
        "outputId": "82e651f8-ee90-41b6-ec8d-c9746ecbfb57"
      },
      "source": [
        "input_evaluation = choice(evaluation_list.keys())"
      ],
      "execution_count": 138,
      "outputs": [
        {
          "output_type": "display_data",
          "data": {
            "application/vnd.jupyter.widget-view+json": {
              "model_id": "a9ef53cc7d8e413b9cbcde887f403b85",
              "version_minor": 0,
              "version_major": 2
            },
            "text/plain": [
              "RadioButtons(options=('AUC', 'F1', 'Recall', 'Precision'), value='AUC')"
            ]
          },
          "metadata": {
            "tags": []
          }
        }
      ]
    },
    {
      "cell_type": "code",
      "metadata": {
        "id": "0nIw7PEVPt20",
        "colab_type": "code",
        "colab": {}
      },
      "source": [
        "X, y = input_train_file(train_file_name, my_dtype, id_label)\n",
        "X_ohe = one_hot_encoding(X, ohe_columns)\n",
        "imp, X_ohe, X_ohe_columns = imputation(X_ohe)\n",
        "X_train, X_valid, y_train, y_valid = train_model(X_ohe, y, X_ohe_columns, input_evaluation.value, dict_selector)"
      ],
      "execution_count": 139,
      "outputs": []
    },
    {
      "cell_type": "code",
      "metadata": {
        "id": "Hw6FhMrAmCbe",
        "colab_type": "code",
        "colab": {
          "base_uri": "https://localhost:8080/",
          "height": 328
        },
        "outputId": "97e87e06-b036-4504-f3bb-0e5fa4a30ec9"
      },
      "source": [
        "scores = {}\n",
        "if is_holdout:\n",
        "    evaluation(scores, X_train, y_train, 'train', evaluation_function_list[input_evaluation.value])\n",
        "    evaluation(scores, X_valid, y_valid, 'valid', evaluation_function_list[input_evaluation.value])\n",
        "else:\n",
        "    evaluation(scores, X_train, y_train, 'train', evaluation_function_list[input_evaluation.value])\n",
        "# sort score\n",
        "#sorted_score = sorted(scores.items(), key=lambda x:-x[1])\n",
        "display(pd.Series(scores).unstack().sort_values(by='train', ascending=False))"
      ],
      "execution_count": 140,
      "outputs": [
        {
          "output_type": "display_data",
          "data": {
            "text/html": [
              "<div>\n",
              "<style scoped>\n",
              "    .dataframe tbody tr th:only-of-type {\n",
              "        vertical-align: middle;\n",
              "    }\n",
              "\n",
              "    .dataframe tbody tr th {\n",
              "        vertical-align: top;\n",
              "    }\n",
              "\n",
              "    .dataframe thead th {\n",
              "        text-align: right;\n",
              "    }\n",
              "</style>\n",
              "<table border=\"1\" class=\"dataframe\">\n",
              "  <thead>\n",
              "    <tr style=\"text-align: right;\">\n",
              "      <th></th>\n",
              "      <th>train</th>\n",
              "      <th>valid</th>\n",
              "    </tr>\n",
              "  </thead>\n",
              "  <tbody>\n",
              "    <tr>\n",
              "      <th>lightgbm</th>\n",
              "      <td>1.000000</td>\n",
              "      <td>0.705843</td>\n",
              "    </tr>\n",
              "    <tr>\n",
              "      <th>tree</th>\n",
              "      <td>0.772914</td>\n",
              "      <td>0.674379</td>\n",
              "    </tr>\n",
              "    <tr>\n",
              "      <th>rf</th>\n",
              "      <td>0.761092</td>\n",
              "      <td>0.672924</td>\n",
              "    </tr>\n",
              "    <tr>\n",
              "      <th>gb</th>\n",
              "      <td>0.736846</td>\n",
              "      <td>0.677353</td>\n",
              "    </tr>\n",
              "    <tr>\n",
              "      <th>knn</th>\n",
              "      <td>0.721874</td>\n",
              "      <td>0.652631</td>\n",
              "    </tr>\n",
              "    <tr>\n",
              "      <th>rsvc</th>\n",
              "      <td>0.721412</td>\n",
              "      <td>0.673057</td>\n",
              "    </tr>\n",
              "    <tr>\n",
              "      <th>mlp</th>\n",
              "      <td>0.716802</td>\n",
              "      <td>0.696854</td>\n",
              "    </tr>\n",
              "    <tr>\n",
              "      <th>logistic</th>\n",
              "      <td>0.715124</td>\n",
              "      <td>0.684625</td>\n",
              "    </tr>\n",
              "    <tr>\n",
              "      <th>lsvc</th>\n",
              "      <td>0.702956</td>\n",
              "      <td>0.693747</td>\n",
              "    </tr>\n",
              "  </tbody>\n",
              "</table>\n",
              "</div>"
            ],
            "text/plain": [
              "             train     valid\n",
              "lightgbm  1.000000  0.705843\n",
              "tree      0.772914  0.674379\n",
              "rf        0.761092  0.672924\n",
              "gb        0.736846  0.677353\n",
              "knn       0.721874  0.652631\n",
              "rsvc      0.721412  0.673057\n",
              "mlp       0.716802  0.696854\n",
              "logistic  0.715124  0.684625\n",
              "lsvc      0.702956  0.693747"
            ]
          },
          "metadata": {
            "tags": []
          }
        }
      ]
    },
    {
      "cell_type": "code",
      "metadata": {
        "id": "9xaTzyIzTcnX",
        "colab_type": "code",
        "colab": {
          "base_uri": "https://localhost:8080/",
          "height": 201,
          "referenced_widgets": [
            "fb3e6daf107247bc8c90864ca2a85c90",
            "fc34658521404d9a90081aa3a4245b68",
            "8dedbdd62109462aa1dc7d1876aa9819"
          ]
        },
        "outputId": "f9d91311-6dc6-4812-eff6-c8fb84319d36"
      },
      "source": [
        "input_algorithm = choice(options_algorithm)"
      ],
      "execution_count": 141,
      "outputs": [
        {
          "output_type": "display_data",
          "data": {
            "application/vnd.jupyter.widget-view+json": {
              "model_id": "fb3e6daf107247bc8c90864ca2a85c90",
              "version_minor": 0,
              "version_major": 2
            },
            "text/plain": [
              "RadioButtons(options=('knn', 'logistic', 'rsvc', 'lsvc', 'tree', 'rf', 'gb', 'mlp', 'lightgbm'), value='knn')"
            ]
          },
          "metadata": {
            "tags": []
          }
        }
      ]
    },
    {
      "cell_type": "code",
      "metadata": {
        "id": "1HW5647I4KCB",
        "colab_type": "code",
        "colab": {}
      },
      "source": [
        "def main():\n",
        "    algorithm_name = input_algorithm.value\n",
        "    df_s, X_s = input_test_file(test_file_name, my_dtype, id_label)\n",
        "    X_ohe_s = one_hot_encoding(X_s, ohe_columns)\n",
        "    X_predicted = preprocessing(X_s, X_ohe, X_ohe_s, imp, X_ohe_columns, dict_selector[algorithm_name])\n",
        "    predict = scoring(algorithm_name, X_predicted, is_predict_proba);\n",
        "    output_file(df_s, id_label, predict, algorithm_name, file_extention, header=False)\n",
        "    #print(input_evaluation.value + ' selected')\n",
        "    #print(algorithm_name + ' selected')\n",
        "    if algorithm_name in feature_importances_algorithm_list:\n",
        "        feature_importances = pipelines[algorithm_name]['est'].feature_importances_\n",
        "        feature_importances = pd.Series(feature_importances, index=X_predicted.columns.values.tolist())\n",
        "        sorted_feature_importances = sorted(feature_importances.items(), key=lambda x:-x[1])\n",
        "        display(pd.DataFrame(sorted_feature_importances))"
      ],
      "execution_count": 142,
      "outputs": []
    },
    {
      "cell_type": "code",
      "metadata": {
        "id": "nalehpK6jyoH",
        "colab_type": "code",
        "colab": {}
      },
      "source": [
        "if __name__ == '__main__':\n",
        "    main()"
      ],
      "execution_count": 143,
      "outputs": []
    }
  ]
}