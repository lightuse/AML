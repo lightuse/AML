{
  "nbformat": 4,
  "nbformat_minor": 0,
  "metadata": {
    "colab": {
      "name": "Automated Machine Learning Binary Classification.ipynb",
      "provenance": [],
      "collapsed_sections": [],
      "include_colab_link": true
    },
    "kernelspec": {
      "display_name": "Python 3",
      "language": "python",
      "name": "python3"
    },
    "language_info": {
      "codemirror_mode": {
        "name": "ipython",
        "version": 3
      },
      "file_extension": ".py",
      "mimetype": "text/x-python",
      "name": "python",
      "nbconvert_exporter": "python",
      "pygments_lexer": "ipython3",
      "version": "3.7.6"
    },
    "widgets": {
      "application/vnd.jupyter.widget-state+json": {
        "c433b3ab69af489f82c5d7a89697ceba": {
          "model_module": "@jupyter-widgets/controls",
          "model_name": "RadioButtonsModel",
          "state": {
            "_options_labels": [
              "AUC",
              "F1",
              "Recall",
              "Precision",
              "Accuracy"
            ],
            "_view_name": "RadioButtonsView",
            "style": "IPY_MODEL_fcd592361ba8466290e4b85fbe540644",
            "_dom_classes": [],
            "description": "",
            "_model_name": "RadioButtonsModel",
            "index": 2,
            "_view_module": "@jupyter-widgets/controls",
            "_model_module_version": "1.5.0",
            "_view_count": null,
            "disabled": false,
            "_view_module_version": "1.5.0",
            "description_tooltip": null,
            "_model_module": "@jupyter-widgets/controls",
            "layout": "IPY_MODEL_569977923d5d464b81e5cd7933ffefb5"
          }
        },
        "fcd592361ba8466290e4b85fbe540644": {
          "model_module": "@jupyter-widgets/controls",
          "model_name": "DescriptionStyleModel",
          "state": {
            "_view_name": "StyleView",
            "_model_name": "DescriptionStyleModel",
            "description_width": "",
            "_view_module": "@jupyter-widgets/base",
            "_model_module_version": "1.5.0",
            "_view_count": null,
            "_view_module_version": "1.2.0",
            "_model_module": "@jupyter-widgets/controls"
          }
        },
        "569977923d5d464b81e5cd7933ffefb5": {
          "model_module": "@jupyter-widgets/base",
          "model_name": "LayoutModel",
          "state": {
            "_view_name": "LayoutView",
            "grid_template_rows": null,
            "right": null,
            "justify_content": null,
            "_view_module": "@jupyter-widgets/base",
            "overflow": null,
            "_model_module_version": "1.2.0",
            "_view_count": null,
            "flex_flow": null,
            "width": null,
            "min_width": null,
            "border": null,
            "align_items": null,
            "bottom": null,
            "_model_module": "@jupyter-widgets/base",
            "top": null,
            "grid_column": null,
            "overflow_y": null,
            "overflow_x": null,
            "grid_auto_flow": null,
            "grid_area": null,
            "grid_template_columns": null,
            "flex": null,
            "_model_name": "LayoutModel",
            "justify_items": null,
            "grid_row": null,
            "max_height": null,
            "align_content": null,
            "visibility": null,
            "align_self": null,
            "height": null,
            "min_height": null,
            "padding": null,
            "grid_auto_rows": null,
            "grid_gap": null,
            "max_width": null,
            "order": null,
            "_view_module_version": "1.2.0",
            "grid_template_areas": null,
            "object_position": null,
            "object_fit": null,
            "grid_auto_columns": null,
            "margin": null,
            "display": null,
            "left": null
          }
        },
        "7ee927f0228d459aa42e4e68878909cc": {
          "model_module": "@jupyter-widgets/controls",
          "model_name": "RadioButtonsModel",
          "state": {
            "_options_labels": [
              "knn",
              "logistic",
              "rsvc",
              "tree",
              "rf",
              "gb",
              "mlp",
              "lightgbm",
              "xgboost"
            ],
            "_view_name": "RadioButtonsView",
            "style": "IPY_MODEL_1a888caaae1a46e992e49b31dd1aa8b2",
            "_dom_classes": [],
            "description": "",
            "_model_name": "RadioButtonsModel",
            "index": 8,
            "_view_module": "@jupyter-widgets/controls",
            "_model_module_version": "1.5.0",
            "_view_count": null,
            "disabled": false,
            "_view_module_version": "1.5.0",
            "description_tooltip": null,
            "_model_module": "@jupyter-widgets/controls",
            "layout": "IPY_MODEL_700652bb62564082982fd43f66dc9744"
          }
        },
        "1a888caaae1a46e992e49b31dd1aa8b2": {
          "model_module": "@jupyter-widgets/controls",
          "model_name": "DescriptionStyleModel",
          "state": {
            "_view_name": "StyleView",
            "_model_name": "DescriptionStyleModel",
            "description_width": "",
            "_view_module": "@jupyter-widgets/base",
            "_model_module_version": "1.5.0",
            "_view_count": null,
            "_view_module_version": "1.2.0",
            "_model_module": "@jupyter-widgets/controls"
          }
        },
        "700652bb62564082982fd43f66dc9744": {
          "model_module": "@jupyter-widgets/base",
          "model_name": "LayoutModel",
          "state": {
            "_view_name": "LayoutView",
            "grid_template_rows": null,
            "right": null,
            "justify_content": null,
            "_view_module": "@jupyter-widgets/base",
            "overflow": null,
            "_model_module_version": "1.2.0",
            "_view_count": null,
            "flex_flow": null,
            "width": null,
            "min_width": null,
            "border": null,
            "align_items": null,
            "bottom": null,
            "_model_module": "@jupyter-widgets/base",
            "top": null,
            "grid_column": null,
            "overflow_y": null,
            "overflow_x": null,
            "grid_auto_flow": null,
            "grid_area": null,
            "grid_template_columns": null,
            "flex": null,
            "_model_name": "LayoutModel",
            "justify_items": null,
            "grid_row": null,
            "max_height": null,
            "align_content": null,
            "visibility": null,
            "align_self": null,
            "height": null,
            "min_height": null,
            "padding": null,
            "grid_auto_rows": null,
            "grid_gap": null,
            "max_width": null,
            "order": null,
            "_view_module_version": "1.2.0",
            "grid_template_areas": null,
            "object_position": null,
            "object_fit": null,
            "grid_auto_columns": null,
            "margin": null,
            "display": null,
            "left": null
          }
        }
      }
    }
  },
  "cells": [
    {
      "cell_type": "markdown",
      "metadata": {
        "id": "view-in-github",
        "colab_type": "text"
      },
      "source": [
        "<a href=\"https://colab.research.google.com/github/lightuse/AML/blob/master/Automated_Machine_Learning_Binary_Classification.ipynb\" target=\"_parent\"><img src=\"https://colab.research.google.com/assets/colab-badge.svg\" alt=\"Open In Colab\"/></a>"
      ]
    },
    {
      "cell_type": "markdown",
      "metadata": {
        "colab_type": "text",
        "id": "ZQ0VKbF0TBSm"
      },
      "source": [
        "# supervised learning\n",
        "## binary classification"
      ]
    },
    {
      "cell_type": "markdown",
      "metadata": {
        "colab_type": "text",
        "id": "2VLl-w9W2BX0"
      },
      "source": [
        "Setting"
      ]
    },
    {
      "cell_type": "code",
      "metadata": {
        "colab_type": "code",
        "id": "W6adj8nKyT9L",
        "colab": {}
      },
      "source": [
        "# set pipelines for different algorithms\n",
        "from sklearn.pipeline import Pipeline\n",
        "import numpy as np\n",
        "import lightgbm as lgb\n",
        "import xgboost as xgb\n",
        "from sklearn.preprocessing import StandardScaler\n",
        "from sklearn.neighbors import KNeighborsClassifier\n",
        "from sklearn.linear_model import LogisticRegression\n",
        "from sklearn.svm import SVC, LinearSVC\n",
        "from sklearn.multiclass import OneVsRestClassifier\n",
        "from sklearn.tree import DecisionTreeClassifier\n",
        "from sklearn.ensemble import RandomForestClassifier\n",
        "from sklearn.ensemble import GradientBoostingClassifier\n",
        "from sklearn.neural_network import MLPClassifier\n",
        "from sklearn.decomposition import PCA\n",
        "from sklearn.metrics import roc_auc_score\n",
        "from sklearn.metrics import recall_score\n",
        "from sklearn.metrics import precision_score\n",
        "from sklearn.metrics import f1_score\n",
        "from sklearn.metrics import accuracy_score\n",
        "evaluation_list = {'AUC':'roc_auc',\n",
        "                   'F1':'f1',\n",
        "                   'Recall':'recall',\n",
        "                   'Precision':'precision',\n",
        "                   'Accuracy':'accuracy'}\n",
        "evaluation_function_list = {'AUC':roc_auc_score,\n",
        "                            'F1':f1_score,\n",
        "                            'Recall':recall_score,\n",
        "                            'Precision':precision_score,\n",
        "                            'Accuracy':accuracy_score}\n",
        "options_algorithm = ['knn', 'logistic', 'rsvc', 'tree', 'rf', 'gb', 'mlp', 'lightgbm', 'xgboost']\n",
        "# 出力を predict_proba にするか \n",
        "is_predict_proba = True\n",
        "pipelines = {\n",
        "    'lightgbm':\n",
        "        Pipeline([('scl', StandardScaler()),\n",
        "                  ('pca', PCA(random_state=1)),\n",
        "                  ('est', lgb.LGBMClassifier(random_state=1))]),\n",
        "    'xgboost':\n",
        "        Pipeline([('scl', StandardScaler()),\n",
        "                  ('pca', PCA(random_state=1)),\n",
        "                  ('est', xgb.XGBClassifier(random_state=1))]),\n",
        "    'knn':\n",
        "        Pipeline([('scl', StandardScaler()),\n",
        "                  ('pca', PCA(random_state=1)),\n",
        "                  ('est', KNeighborsClassifier(n_neighbors=5, p=2, metric='minkowski'))]),\n",
        "    'logistic':\n",
        "        Pipeline([('scl', StandardScaler()),\n",
        "                  ('pca', PCA(random_state=1)),\n",
        "                  ('est', LogisticRegression(random_state=1))]),\n",
        "    'rsvc':\n",
        "        Pipeline([('scl', StandardScaler()),\n",
        "                  ('pca', PCA(random_state=1)),\n",
        "                  ('est', SVC(C=1.0, kernel='rbf', class_weight='balanced', probability=is_predict_proba, random_state=1))]),\n",
        "    'tree':\n",
        "        Pipeline([('pca', PCA(random_state=1)),\n",
        "                  ('est', DecisionTreeClassifier(random_state=1))]),\n",
        "    'rf':\n",
        "        Pipeline([('pca', PCA(random_state=1)),\n",
        "                  ('est', RandomForestClassifier(random_state=1))]),\n",
        "    'gb':\n",
        "        Pipeline([('scl', StandardScaler()),\n",
        "                  ('pca', PCA(random_state=1)),\n",
        "                  ('est', GradientBoostingClassifier(random_state=1))]),\n",
        "    'mlp':\n",
        "        Pipeline([('scl', StandardScaler()),\n",
        "                  ('pca', PCA(random_state=1)),\n",
        "                  ('est', MLPClassifier(hidden_layer_sizes=(3,3), max_iter=10000, random_state=1))])\n",
        "}\n",
        "# Feature selection by RandomForestClassifier\n",
        "feature_selection_rf_list = ['knn', 'logistic', 'rsvc', 'mlp']\n",
        "feature_importances_algorithm_list = ['tree', 'rf', 'gb', 'lightgbm', 'xgboost']\n",
        "#tuning_prarameter_list = ['lightgbm', 'knn', 'logistic']\n",
        "#tuning_prarameter_list = ['knn', 'logistic']\n",
        "#tuning_prarameter_list = ['logistic', 'rf', 'gb']\n",
        "#tuning_prarameter_list = ['knn', 'logistic', 'rf', 'gb', 'lightgbm']\n",
        "tuning_prarameter_list = []\n",
        "# パラメータグリッドの設定\n",
        "tuning_prarameter = {\n",
        "    'lightgbm':{\n",
        "        'est__learning_rate': [0.01, 0.02],\n",
        "        'est__n_estimators': [300, 400, 600, 800, 1000],\n",
        "        'est__max_depth': [2, 3, 4, 5, 6],\n",
        "        'est__boosting_type': ['gbdt'],\n",
        "        'est__random_state': [1],\n",
        "        'est__min_data_in_leaf': [10, 20],\n",
        "        'est__scoring': ['ndcg'],\n",
        "        'est__feature_fraction': [1, 0.9, 0.8, 0.4],\n",
        "        'est__subsample': [1, 0.9, 0.8, 0.5],\n",
        "        'est__max_bin': [50, 100, 200],\n",
        "        'est__is_unbalance': [True, False],\n",
        "    },\n",
        "    'knn':{\n",
        "        'est__n_neighbors':[1,2,3,4,5,],\n",
        "        'est__weights':['uniform','distance'],\n",
        "        'est__algorithm':['auto','ball_tree','kd_tree','brute'],\n",
        "        'est__leaf_size':[1,10,20,30,40,50],\n",
        "        'est__p':[1,2]\n",
        "    },\n",
        "    'logistic':{\n",
        "        'pca__n_components':[5,7,9],\n",
        "        'est__C':[0.1,1.0,10.0,100.0]\n",
        "    },\n",
        "    'rf':{\n",
        "        'est__n_estimators':[5,10,20,50,100],\n",
        "        'est__max_depth':[1,2,3,4,5],\n",
        "    },\n",
        "    'gb':{\n",
        "        'est__loss':['deviance','exponential'],\n",
        "        'est__n_estimators':[5,10,50,100,500],\n",
        "    }\n",
        "}"
      ],
      "execution_count": 199,
      "outputs": []
    },
    {
      "cell_type": "code",
      "metadata": {
        "colab_type": "code",
        "id": "y192l2ROoxMM",
        "colab": {}
      },
      "source": [
        "# 表示オプションの変更\n",
        "import pandas as pd\n",
        "pd.options.display.max_columns = 50\n",
        "# カテゴリ変数をリストで設定\n",
        "ohe_columns = ['sales',\n",
        "               'salary']\n",
        "# カテゴリ変数をobject型で読み込むための準備\n",
        "my_dtype = {'sales':object,\n",
        "            'salary':object,\n",
        "            'satisfaction_level':float,\n",
        "            'last_evaluation':float}\n",
        "id_label = 'index'\n",
        "target_label = 'left'\n",
        "train_file_name = './data/final_hr_analysis_train.csv'\n",
        "test_file_name = './data/final_hr_analysis_test.csv'\n",
        "model_columns_file_name = './data/model_columns.csv'\n",
        "# feature_selection range 50-100\n",
        "n_features_to_select = 100\n",
        "# ファイル出力拡張子\n",
        "file_extention = 'csv'\n",
        "# ホールドアウト有無\n",
        "is_holdout = True\n",
        "# k-fold 法を利用するか\n",
        "is_k_fold = False"
      ],
      "execution_count": 200,
      "outputs": []
    },
    {
      "cell_type": "code",
      "metadata": {
        "colab_type": "code",
        "id": "pTTNkzAE2FWH",
        "colab": {}
      },
      "source": [
        "def input_train_file(filename, my_dtype, id_label):\n",
        "    df = pd.read_csv(train_file_name, header=0, dtype=my_dtype)\n",
        "    # データの形式に合わせて適時修正\n",
        "    df = df.drop(id_label, axis=1)\n",
        "    y = df.iloc[:,0]\n",
        "    #y.to_csv('./data/' + 'y.csv')\n",
        "    class_mapping = {0:0, 1:1}\n",
        "    y = y.map(class_mapping)\n",
        "    X = df.drop(target_label, axis=1)\n",
        "    #X.to_csv('./data/' + 'X.csv')\n",
        "    return X, y"
      ],
      "execution_count": 201,
      "outputs": []
    },
    {
      "cell_type": "markdown",
      "metadata": {
        "colab_type": "text",
        "id": "Uj28528Av2eG"
      },
      "source": [
        "One-hot encoding"
      ]
    },
    {
      "cell_type": "code",
      "metadata": {
        "colab_type": "code",
        "id": "5GNLkqrf2MFs",
        "colab": {}
      },
      "source": [
        "# one-hot encoding\n",
        "def one_hot_encoding(X, ohe_columns):\n",
        "    X_ohe = pd.get_dummies(X, dummy_na=True, columns=ohe_columns)\n",
        "    return X_ohe"
      ],
      "execution_count": 202,
      "outputs": []
    },
    {
      "cell_type": "markdown",
      "metadata": {
        "colab_type": "text",
        "id": "Fzed-2ZHv9gi"
      },
      "source": [
        "Null imputation"
      ]
    },
    {
      "cell_type": "code",
      "metadata": {
        "colab_type": "code",
        "id": "a8xSnJYh2Ohp",
        "colab": {}
      },
      "source": [
        "from sklearn.impute import SimpleImputer\n",
        "# imputation\n",
        "def imputation(X_ohe):\n",
        "    imp = SimpleImputer(strategy='mean')\n",
        "    imp.fit(X_ohe)\n",
        "    dump(imp, './data/imputer.joblib')\n",
        "    X_ohe_columns = X_ohe.columns.values\n",
        "    X_ohe = pd.DataFrame(imp.transform(X_ohe), columns=X_ohe_columns)\n",
        "    return X_ohe, X_ohe_columns"
      ],
      "execution_count": 203,
      "outputs": []
    },
    {
      "cell_type": "markdown",
      "metadata": {
        "colab_type": "text",
        "id": "r6hx_7aztIqU"
      },
      "source": [
        "Feature selection"
      ]
    },
    {
      "cell_type": "code",
      "metadata": {
        "colab_type": "code",
        "id": "sIZgeR_qtKqq",
        "colab": {}
      },
      "source": [
        "from sklearn.feature_selection import RFE\n",
        "# feature selection\n",
        "def feature_selection(X, y, X_ohe_columns, algorithm_name, estimator):\n",
        "    selector = RFE(estimator, n_features_to_select=n_features_to_select, step=.05)\n",
        "    selector.fit(X, y)\n",
        "    dump(selector, './data/' + algorithm_name + '_selector.joblib')\n",
        "    X_fin = X.loc[:, X_ohe_columns[selector.support_]]\n",
        "    return X_fin"
      ],
      "execution_count": 204,
      "outputs": []
    },
    {
      "cell_type": "markdown",
      "metadata": {
        "colab_type": "text",
        "id": "UHYPXUfwbAdZ"
      },
      "source": [
        "Holdout"
      ]
    },
    {
      "cell_type": "code",
      "metadata": {
        "colab_type": "code",
        "id": "URsEj5dea_w5",
        "colab": {}
      },
      "source": [
        "from sklearn.model_selection import train_test_split\n",
        "# holdout\n",
        "def holdout(X_ohe, y):\n",
        "    X_train, X_test, y_train, y_test = train_test_split(X_ohe, y, test_size=0.3, random_state=1)\n",
        "    return X_train, X_test, y_train, y_test"
      ],
      "execution_count": 205,
      "outputs": []
    },
    {
      "cell_type": "markdown",
      "metadata": {
        "colab_type": "text",
        "id": "rjP_XkkP2rXU"
      },
      "source": [
        "Modeling"
      ]
    },
    {
      "cell_type": "code",
      "metadata": {
        "colab_type": "code",
        "id": "C2_BTK_G2TZE",
        "colab": {}
      },
      "source": [
        "from joblib import dump\n",
        "from sklearn.model_selection import GridSearchCV\n",
        "# train\n",
        "def train_model(X, y, X_ohe_columns, evaluation):\n",
        "    for pipe_name, pipeline in pipelines.items():\n",
        "        print(pipe_name)\n",
        "        if pipe_name in feature_selection_rf_list:\n",
        "            X_featured = feature_selection(X, y, X_ohe_columns, pipe_name, pipelines['rf'].named_steps['est'])\n",
        "        else:\n",
        "            X_featured = feature_selection(X, y, X_ohe_columns, pipe_name, pipeline.named_steps['est'])      \n",
        "        if is_holdout:\n",
        "            X_train, X_valid, y_train, y_valid = holdout(X_featured, y)\n",
        "            if pipe_name in tuning_prarameter_list:\n",
        "                gs = GridSearchCV(estimator=pipeline,\n",
        "                            param_grid=tuning_prarameter[pipe_name],\n",
        "                            scoring=evaluation_list[evaluation],\n",
        "                            cv=3,\n",
        "                            return_train_score=False)\n",
        "                gs.fit(X_train, y_train)\n",
        "                dump(gs, './data/' + pipe_name + '_classiffier.joblib')\n",
        "                gs.fit(X_valid, y_valid)\n",
        "                # 探索した結果のベストスコアとパラメータの取得\n",
        "                print(pipe_name + ' Best Score:', gs.best_score_)\n",
        "                print(pipe_name + ' Best Params', gs.best_params_)\n",
        "            else:\n",
        "                clf = pipeline.fit(X_train, y_train)\n",
        "                dump(clf, './data/' + pipe_name + '_classiffier.joblib')\n",
        "        else:\n",
        "            if pipe_name in tuning_prarameter_list:\n",
        "                gs = GridSearchCV(estimator=pipeline,\n",
        "                            param_grid=tuning_prarameter[pipe_name],\n",
        "                            scoring=evaluation_list[evaluation],\n",
        "                            cv=3,\n",
        "                            return_train_score=False)\n",
        "                gs.fit(X_featured, y)\n",
        "                dump(gs, './data/' + pipe_name + '_classiffier.joblib')\n",
        "            else:\n",
        "                clf = pipeline.fit(X_featured, y)\n",
        "                dump(clf, './data/' + pipe_name + '_classiffier.joblib')\n",
        "            X_train = X_featured\n",
        "            X_valid = _\n",
        "            y_train = y\n",
        "            y_valid = _\n",
        "    return X_train, X_valid, y_train, y_valid"
      ],
      "execution_count": 206,
      "outputs": []
    },
    {
      "cell_type": "markdown",
      "metadata": {
        "colab_type": "text",
        "id": "Otjg8_z5iNkF"
      },
      "source": [
        "Scoring"
      ]
    },
    {
      "cell_type": "code",
      "metadata": {
        "colab_type": "code",
        "id": "CP46pKAniJ0W",
        "colab": {}
      },
      "source": [
        "from joblib import load\n",
        "def scoring(algorithm_name :str, X, is_predict_proba = False):\n",
        "    clf = load('./data/' + algorithm_name + '_classiffier.joblib')\n",
        "    if is_predict_proba:\n",
        "        return clf.predict_proba(X)[:, 1]\n",
        "    return clf.predict(X)"
      ],
      "execution_count": 207,
      "outputs": []
    },
    {
      "cell_type": "code",
      "metadata": {
        "colab_type": "code",
        "id": "I0bdyUa4qq2n",
        "colab": {}
      },
      "source": [
        "def evaluation(scores, X_train, y_train, text, function_evaluation):\n",
        "    for pipe_name, pipeline in pipelines.items():\n",
        "        scores[(pipe_name, text)] = function_evaluation(y_train, scoring(pipe_name, X_train))"
      ],
      "execution_count": 208,
      "outputs": []
    },
    {
      "cell_type": "code",
      "metadata": {
        "colab_type": "code",
        "id": "053crigVoBuR",
        "colab": {}
      },
      "source": [
        "def get_input(x):\n",
        "    return x"
      ],
      "execution_count": 209,
      "outputs": []
    },
    {
      "cell_type": "code",
      "metadata": {
        "colab_type": "code",
        "id": "q7edk4EAoCby",
        "colab": {}
      },
      "source": [
        "from ipywidgets import interact, interactive,fixed, interact_manual\n",
        "from IPython.display import display\n",
        "import ipywidgets as widgets\n",
        "def choice(options):\n",
        "    input = get_input(widgets.RadioButtons(options=options))\n",
        "    display(input)\n",
        "    return input"
      ],
      "execution_count": 210,
      "outputs": []
    },
    {
      "cell_type": "code",
      "metadata": {
        "colab_type": "code",
        "id": "zZuSFEidmqPT",
        "colab": {
          "base_uri": "https://localhost:8080/",
          "height": 121,
          "referenced_widgets": [
            "c433b3ab69af489f82c5d7a89697ceba",
            "fcd592361ba8466290e4b85fbe540644",
            "569977923d5d464b81e5cd7933ffefb5"
          ]
        },
        "outputId": "c05b9128-d3d4-4142-d02a-ae2cd6867168"
      },
      "source": [
        "input_evaluation = choice(evaluation_list.keys())"
      ],
      "execution_count": 211,
      "outputs": [
        {
          "output_type": "display_data",
          "data": {
            "application/vnd.jupyter.widget-view+json": {
              "model_id": "c433b3ab69af489f82c5d7a89697ceba",
              "version_minor": 0,
              "version_major": 2
            },
            "text/plain": [
              "RadioButtons(options=('AUC', 'F1', 'Recall', 'Precision', 'Accuracy'), value='AUC')"
            ]
          },
          "metadata": {
            "tags": []
          }
        }
      ]
    },
    {
      "cell_type": "code",
      "metadata": {
        "colab_type": "code",
        "id": "0nIw7PEVPt20",
        "colab": {}
      },
      "source": [
        "X, y = input_train_file(train_file_name, my_dtype, id_label)\n",
        "X_ohe = one_hot_encoding(X, ohe_columns)\n",
        "X_ohe, X_ohe_columns = imputation(X_ohe)\n",
        "pd.DataFrame(X_ohe_columns).to_csv(model_columns_file_name, index=False)"
      ],
      "execution_count": 212,
      "outputs": []
    },
    {
      "cell_type": "code",
      "metadata": {
        "colab_type": "code",
        "id": "8yBQ3rQiZbDh",
        "colab": {
          "base_uri": "https://localhost:8080/",
          "height": 170
        },
        "outputId": "cc6adbb1-cbaf-46e1-fbbe-964730ebc739"
      },
      "source": [
        "# train\n",
        "X_train, X_valid, y_train, y_valid = train_model(X_ohe, y, X_ohe_columns, input_evaluation.value)"
      ],
      "execution_count": 213,
      "outputs": [
        {
          "output_type": "stream",
          "text": [
            "lightgbm\n",
            "xgboost\n",
            "knn\n",
            "logistic\n",
            "rsvc\n",
            "tree\n",
            "rf\n",
            "gb\n",
            "mlp\n"
          ],
          "name": "stdout"
        }
      ]
    },
    {
      "cell_type": "markdown",
      "metadata": {
        "colab_type": "text",
        "id": "FFU6vIcCbMOv"
      },
      "source": [
        "CV Score"
      ]
    },
    {
      "cell_type": "code",
      "metadata": {
        "colab_type": "code",
        "id": "y5abYEsQZ6sH",
        "colab": {}
      },
      "source": [
        "from sklearn.model_selection import cross_val_score\n",
        "from sklearn.model_selection import KFold\n",
        "if is_k_fold:\n",
        "    kf = KFold(n_splits=5, shuffle=True, random_state=0)\n",
        "    for pipe_name, est in pipelines.items():\n",
        "        cv_results = cross_val_score(est,\n",
        "                                    X_ohe, y,\n",
        "                                    cv=kf,\n",
        "                                    scoring=evaluation_list[input_evaluation.value])\n",
        "        print('----------')\n",
        "        print('algorithm:', pipe_name)\n",
        "        print('cv_results:', cv_results)\n",
        "        print('avg +- std_dev', cv_results.mean(),'+-', cv_results.std())"
      ],
      "execution_count": 214,
      "outputs": []
    },
    {
      "cell_type": "code",
      "metadata": {
        "colab_type": "code",
        "id": "Hw6FhMrAmCbe",
        "colab": {
          "base_uri": "https://localhost:8080/",
          "height": 345
        },
        "outputId": "2c0722a1-9e20-4c01-b04a-8c6c7cb9146b"
      },
      "source": [
        "scores = {}\n",
        "if is_holdout:\n",
        "    evaluation(scores, X_train, y_train, 'train', evaluation_function_list[input_evaluation.value])\n",
        "    evaluation(scores, X_valid, y_valid, 'valid', evaluation_function_list[input_evaluation.value])\n",
        "else:\n",
        "    evaluation(scores, X_train, y_train, 'train', evaluation_function_list[input_evaluation.value])\n",
        "# sort score\n",
        "#sorted_score = sorted(scores.items(), key=lambda x:-x[1])\n",
        "print('評価指標:' + input_evaluation.value)\n",
        "display(pd.Series(scores).unstack().sort_values(by='train', ascending=False))"
      ],
      "execution_count": 224,
      "outputs": [
        {
          "output_type": "stream",
          "text": [
            "評価指標:Recall\n"
          ],
          "name": "stdout"
        },
        {
          "output_type": "display_data",
          "data": {
            "text/html": [
              "<div>\n",
              "<style scoped>\n",
              "    .dataframe tbody tr th:only-of-type {\n",
              "        vertical-align: middle;\n",
              "    }\n",
              "\n",
              "    .dataframe tbody tr th {\n",
              "        vertical-align: top;\n",
              "    }\n",
              "\n",
              "    .dataframe thead th {\n",
              "        text-align: right;\n",
              "    }\n",
              "</style>\n",
              "<table border=\"1\" class=\"dataframe\">\n",
              "  <thead>\n",
              "    <tr style=\"text-align: right;\">\n",
              "      <th></th>\n",
              "      <th>train</th>\n",
              "      <th>valid</th>\n",
              "    </tr>\n",
              "  </thead>\n",
              "  <tbody>\n",
              "    <tr>\n",
              "      <th>rf</th>\n",
              "      <td>1.000000</td>\n",
              "      <td>0.939276</td>\n",
              "    </tr>\n",
              "    <tr>\n",
              "      <th>tree</th>\n",
              "      <td>1.000000</td>\n",
              "      <td>0.941860</td>\n",
              "    </tr>\n",
              "    <tr>\n",
              "      <th>lightgbm</th>\n",
              "      <td>0.957362</td>\n",
              "      <td>0.895349</td>\n",
              "    </tr>\n",
              "    <tr>\n",
              "      <th>rsvc</th>\n",
              "      <td>0.936327</td>\n",
              "      <td>0.912145</td>\n",
              "    </tr>\n",
              "    <tr>\n",
              "      <th>knn</th>\n",
              "      <td>0.902217</td>\n",
              "      <td>0.859173</td>\n",
              "    </tr>\n",
              "    <tr>\n",
              "      <th>gb</th>\n",
              "      <td>0.893121</td>\n",
              "      <td>0.877261</td>\n",
              "    </tr>\n",
              "    <tr>\n",
              "      <th>xgboost</th>\n",
              "      <td>0.891984</td>\n",
              "      <td>0.874677</td>\n",
              "    </tr>\n",
              "    <tr>\n",
              "      <th>mlp</th>\n",
              "      <td>0.858442</td>\n",
              "      <td>0.861757</td>\n",
              "    </tr>\n",
              "    <tr>\n",
              "      <th>logistic</th>\n",
              "      <td>0.358158</td>\n",
              "      <td>0.375969</td>\n",
              "    </tr>\n",
              "  </tbody>\n",
              "</table>\n",
              "</div>"
            ],
            "text/plain": [
              "             train     valid\n",
              "rf        1.000000  0.939276\n",
              "tree      1.000000  0.941860\n",
              "lightgbm  0.957362  0.895349\n",
              "rsvc      0.936327  0.912145\n",
              "knn       0.902217  0.859173\n",
              "gb        0.893121  0.877261\n",
              "xgboost   0.891984  0.874677\n",
              "mlp       0.858442  0.861757\n",
              "logistic  0.358158  0.375969"
            ]
          },
          "metadata": {
            "tags": []
          }
        }
      ]
    },
    {
      "cell_type": "code",
      "metadata": {
        "colab_type": "code",
        "id": "WbjWPvuEcfUa",
        "colab": {}
      },
      "source": [
        "def input_test_file(filename, my_dtype, id_label):\n",
        "    df_s = pd.read_csv(filename, header=0, dtype=my_dtype)\n",
        "    df_s = df_s.drop(target_label, axis=1)\n",
        "    ID_s = df_s.iloc[:,[0]]\n",
        "    X_s  = df_s.drop(id_label, axis=1)\n",
        "    return df_s, X_s"
      ],
      "execution_count": 216,
      "outputs": []
    },
    {
      "cell_type": "markdown",
      "metadata": {
        "colab_type": "text",
        "id": "49XhaV4Gbkq1"
      },
      "source": [
        "Preprocessing"
      ]
    },
    {
      "cell_type": "code",
      "metadata": {
        "colab_type": "code",
        "id": "7-Av_oKUbcvF",
        "colab": {}
      },
      "source": [
        "from joblib import load\n",
        "# preprocessing\n",
        "def preprocessing(algorithm_name, X_s, X_ohe_s):\n",
        "    model_columns = pd.read_csv(model_columns_file_name)\n",
        "    X_ohe_columns = model_columns.values.flatten()\n",
        "    cols_model = set(X_ohe_columns)\n",
        "    cols_score = set(X_ohe_s.columns.values)\n",
        "    diff1 = cols_model - cols_score\n",
        "    diff2 = cols_score - cols_model\n",
        "    df1 = pd.DataFrame([[1,2,3]], columns=['c1','c2','c3'])\n",
        "    df2 = pd.DataFrame([[3,2,1]], columns=['c1','c2','c3'])\n",
        "    df_all = pd.concat([df1, df2])\n",
        "    df3 = pd.DataFrame([[0,1,2,3]], columns=['c0','c1','c3','c4'])\n",
        "    df_all = pd.concat([df_all, df3])\n",
        "    df_cols_m = pd.DataFrame(None, columns=X_ohe_columns, dtype=float)\n",
        "    X_ohe_s2 = pd.concat([df_cols_m, X_ohe_s])\n",
        "    set_Xm = set(X_ohe_columns)\n",
        "    set_Xs = set(X_ohe_s.columns.values)\n",
        "    X_ohe_s3 = X_ohe_s2.drop(list(set_Xs-set_Xm), axis=1)\n",
        "    X_ohe_s3.loc[:,list(set_Xm-set_Xs)] = X_ohe_s3.loc[:,list(set_Xm-set_Xs)].fillna(0, axis=1)\n",
        "    test = pd.DataFrame([[1,2,3]], columns=['c1','c2','c3'])\n",
        "    test = test.reindex(['c2','c3','c1'], axis=1)\n",
        "    X_ohe_s3 = X_ohe_s3.reindex(X_ohe_columns, axis=1)\n",
        "    imp = load('./data/imputer.joblib')\n",
        "    X_ohe_s4 = pd.DataFrame(imp.transform(X_ohe_s3), columns=X_ohe_columns)\n",
        "    selector = load('./data/' + algorithm_name + '_selector.joblib')\n",
        "    X_fin_s = X_ohe_s4.loc[:, X_ohe_columns[selector.support_]]\n",
        "    return X_fin_s"
      ],
      "execution_count": 217,
      "outputs": []
    },
    {
      "cell_type": "code",
      "metadata": {
        "colab_type": "code",
        "id": "c9V_1PPdrRpP",
        "colab": {}
      },
      "source": [
        "import datetime\n",
        "def output_file(df, id_label :str, y, model_name :str, extension :str, header=True):\n",
        "    file_name = './data/' + 'submittion_' + model_name + '_' + datetime.datetime.now().strftime('%Y%m%d%H%M%S') + '.' + extension\n",
        "    separator = ','\n",
        "    if extension == 'tsv':\n",
        "        separator = '\\t'\n",
        "    #pd.concat([df[id_label], pd.DataFrame(y, columns=['y'])], axis=1).to_csv(file_name, index=False, sep=separator, header=header)\n",
        "    pd.DataFrame(df[id_label]).join(pd.DataFrame(y)).to_csv(file_name, index=False, sep=separator, header=header)"
      ],
      "execution_count": 218,
      "outputs": []
    },
    {
      "cell_type": "code",
      "metadata": {
        "colab_type": "code",
        "id": "9xaTzyIzTcnX",
        "colab": {
          "base_uri": "https://localhost:8080/",
          "height": 201,
          "referenced_widgets": [
            "7ee927f0228d459aa42e4e68878909cc",
            "1a888caaae1a46e992e49b31dd1aa8b2",
            "700652bb62564082982fd43f66dc9744"
          ]
        },
        "outputId": "17703d6b-34b1-482c-a2b9-b1a52fa107c6"
      },
      "source": [
        "input_algorithm = choice(options_algorithm)"
      ],
      "execution_count": 219,
      "outputs": [
        {
          "output_type": "display_data",
          "data": {
            "application/vnd.jupyter.widget-view+json": {
              "model_id": "7ee927f0228d459aa42e4e68878909cc",
              "version_minor": 0,
              "version_major": 2
            },
            "text/plain": [
              "RadioButtons(options=('knn', 'logistic', 'rsvc', 'tree', 'rf', 'gb', 'mlp', 'lightgbm', 'xgboost'), value='knn…"
            ]
          },
          "metadata": {
            "tags": []
          }
        }
      ]
    },
    {
      "cell_type": "code",
      "metadata": {
        "colab_type": "code",
        "id": "1HW5647I4KCB",
        "colab": {}
      },
      "source": [
        "# 永続化したデータ読込し、 同じ評価指標ではtrain_modelは一度のみ実行で、かつ、選択されたモデルでスコアリングする\n",
        "def main():\n",
        "    algorithm_name = input_algorithm.value\n",
        "    df_s, X_s = input_test_file(test_file_name, my_dtype, id_label)\n",
        "    X_ohe_s = one_hot_encoding(X_s, ohe_columns)\n",
        "    X_predicted = preprocessing(algorithm_name, X_s, X_ohe_s)\n",
        "    predict = scoring(algorithm_name, X_predicted, is_predict_proba);\n",
        "    output_file(df_s, id_label, predict, algorithm_name, file_extention, header=False)\n",
        "    #print(input_evaluation.value + ' selected')\n",
        "    #print(algorithm_name + ' selected')\n",
        "    if algorithm_name in feature_importances_algorithm_list:\n",
        "        feature_importances = pipelines[algorithm_name]['est'].feature_importances_\n",
        "        feature_importances = pd.Series(feature_importances, index=X_predicted.columns.values.tolist())\n",
        "        sorted_feature_importances = sorted(feature_importances.items(), key=lambda x:-x[1])\n",
        "        display(pd.DataFrame(sorted_feature_importances))"
      ],
      "execution_count": 222,
      "outputs": []
    },
    {
      "cell_type": "code",
      "metadata": {
        "colab_type": "code",
        "id": "nalehpK6jyoH",
        "colab": {
          "base_uri": "https://localhost:8080/",
          "height": 731
        },
        "outputId": "e900b8cf-3820-4877-aecb-609a8df06865"
      },
      "source": [
        "if __name__ == '__main__':\n",
        "    main()"
      ],
      "execution_count": 223,
      "outputs": [
        {
          "output_type": "display_data",
          "data": {
            "text/html": [
              "<div>\n",
              "<style scoped>\n",
              "    .dataframe tbody tr th:only-of-type {\n",
              "        vertical-align: middle;\n",
              "    }\n",
              "\n",
              "    .dataframe tbody tr th {\n",
              "        vertical-align: top;\n",
              "    }\n",
              "\n",
              "    .dataframe thead th {\n",
              "        text-align: right;\n",
              "    }\n",
              "</style>\n",
              "<table border=\"1\" class=\"dataframe\">\n",
              "  <thead>\n",
              "    <tr style=\"text-align: right;\">\n",
              "      <th></th>\n",
              "      <th>0</th>\n",
              "      <th>1</th>\n",
              "    </tr>\n",
              "  </thead>\n",
              "  <tbody>\n",
              "    <tr>\n",
              "      <th>0</th>\n",
              "      <td>last_evaluation</td>\n",
              "      <td>0.199616</td>\n",
              "    </tr>\n",
              "    <tr>\n",
              "      <th>1</th>\n",
              "      <td>satisfaction_level</td>\n",
              "      <td>0.195916</td>\n",
              "    </tr>\n",
              "    <tr>\n",
              "      <th>2</th>\n",
              "      <td>Work_accident</td>\n",
              "      <td>0.105593</td>\n",
              "    </tr>\n",
              "    <tr>\n",
              "      <th>3</th>\n",
              "      <td>sales_nan</td>\n",
              "      <td>0.076237</td>\n",
              "    </tr>\n",
              "    <tr>\n",
              "      <th>4</th>\n",
              "      <td>sales_support</td>\n",
              "      <td>0.073964</td>\n",
              "    </tr>\n",
              "    <tr>\n",
              "      <th>5</th>\n",
              "      <td>sales_technical</td>\n",
              "      <td>0.063867</td>\n",
              "    </tr>\n",
              "    <tr>\n",
              "      <th>6</th>\n",
              "      <td>number_project</td>\n",
              "      <td>0.055126</td>\n",
              "    </tr>\n",
              "    <tr>\n",
              "      <th>7</th>\n",
              "      <td>sales_RandD</td>\n",
              "      <td>0.032758</td>\n",
              "    </tr>\n",
              "    <tr>\n",
              "      <th>8</th>\n",
              "      <td>sales_management</td>\n",
              "      <td>0.028286</td>\n",
              "    </tr>\n",
              "    <tr>\n",
              "      <th>9</th>\n",
              "      <td>sales_sales</td>\n",
              "      <td>0.026739</td>\n",
              "    </tr>\n",
              "    <tr>\n",
              "      <th>10</th>\n",
              "      <td>average_montly_hours</td>\n",
              "      <td>0.022700</td>\n",
              "    </tr>\n",
              "    <tr>\n",
              "      <th>11</th>\n",
              "      <td>time_spend_company</td>\n",
              "      <td>0.021044</td>\n",
              "    </tr>\n",
              "    <tr>\n",
              "      <th>12</th>\n",
              "      <td>sales_marketing</td>\n",
              "      <td>0.018035</td>\n",
              "    </tr>\n",
              "    <tr>\n",
              "      <th>13</th>\n",
              "      <td>sales_IT</td>\n",
              "      <td>0.013735</td>\n",
              "    </tr>\n",
              "    <tr>\n",
              "      <th>14</th>\n",
              "      <td>promotion_last_5years</td>\n",
              "      <td>0.013341</td>\n",
              "    </tr>\n",
              "    <tr>\n",
              "      <th>15</th>\n",
              "      <td>salary_high</td>\n",
              "      <td>0.011190</td>\n",
              "    </tr>\n",
              "    <tr>\n",
              "      <th>16</th>\n",
              "      <td>sales_product_mng</td>\n",
              "      <td>0.009871</td>\n",
              "    </tr>\n",
              "    <tr>\n",
              "      <th>17</th>\n",
              "      <td>salary_low</td>\n",
              "      <td>0.009393</td>\n",
              "    </tr>\n",
              "    <tr>\n",
              "      <th>18</th>\n",
              "      <td>sales_accounting</td>\n",
              "      <td>0.008932</td>\n",
              "    </tr>\n",
              "    <tr>\n",
              "      <th>19</th>\n",
              "      <td>sales_hr</td>\n",
              "      <td>0.007539</td>\n",
              "    </tr>\n",
              "    <tr>\n",
              "      <th>20</th>\n",
              "      <td>salary_medium</td>\n",
              "      <td>0.006118</td>\n",
              "    </tr>\n",
              "    <tr>\n",
              "      <th>21</th>\n",
              "      <td>salary_nan</td>\n",
              "      <td>0.000000</td>\n",
              "    </tr>\n",
              "  </tbody>\n",
              "</table>\n",
              "</div>"
            ],
            "text/plain": [
              "                        0         1\n",
              "0         last_evaluation  0.199616\n",
              "1      satisfaction_level  0.195916\n",
              "2           Work_accident  0.105593\n",
              "3               sales_nan  0.076237\n",
              "4           sales_support  0.073964\n",
              "5         sales_technical  0.063867\n",
              "6          number_project  0.055126\n",
              "7             sales_RandD  0.032758\n",
              "8        sales_management  0.028286\n",
              "9             sales_sales  0.026739\n",
              "10   average_montly_hours  0.022700\n",
              "11     time_spend_company  0.021044\n",
              "12        sales_marketing  0.018035\n",
              "13               sales_IT  0.013735\n",
              "14  promotion_last_5years  0.013341\n",
              "15            salary_high  0.011190\n",
              "16      sales_product_mng  0.009871\n",
              "17             salary_low  0.009393\n",
              "18       sales_accounting  0.008932\n",
              "19               sales_hr  0.007539\n",
              "20          salary_medium  0.006118\n",
              "21             salary_nan  0.000000"
            ]
          },
          "metadata": {
            "tags": []
          }
        }
      ]
    }
  ]
}