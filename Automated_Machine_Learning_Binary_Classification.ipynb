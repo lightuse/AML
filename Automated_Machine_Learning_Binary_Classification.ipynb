{
  "nbformat": 4,
  "nbformat_minor": 0,
  "metadata": {
    "colab": {
      "name": "Automated Machine Learning Binary Classification.ipynb",
      "provenance": [],
      "collapsed_sections": [],
      "authorship_tag": "ABX9TyNKLdK13SQpiIhCX/y5Bzxr",
      "include_colab_link": true
    },
    "kernelspec": {
      "name": "python3",
      "display_name": "Python 3"
    },
    "widgets": {
      "application/vnd.jupyter.widget-state+json": {
        "e132a487ef9d4a1a9449e10b34285fc1": {
          "model_module": "@jupyter-widgets/controls",
          "model_name": "RadioButtonsModel",
          "state": {
            "_options_labels": [
              "AUC",
              "F1",
              "Recall",
              "Precision"
            ],
            "_view_name": "RadioButtonsView",
            "style": "IPY_MODEL_65cc9c10ea1c413eb891128bc32299a6",
            "_dom_classes": [],
            "description": "",
            "_model_name": "RadioButtonsModel",
            "index": 0,
            "_view_module": "@jupyter-widgets/controls",
            "_model_module_version": "1.5.0",
            "_view_count": null,
            "disabled": false,
            "_view_module_version": "1.5.0",
            "description_tooltip": null,
            "_model_module": "@jupyter-widgets/controls",
            "layout": "IPY_MODEL_a3ec38a8374441488513fcce3da3344c"
          }
        },
        "65cc9c10ea1c413eb891128bc32299a6": {
          "model_module": "@jupyter-widgets/controls",
          "model_name": "DescriptionStyleModel",
          "state": {
            "_view_name": "StyleView",
            "_model_name": "DescriptionStyleModel",
            "description_width": "",
            "_view_module": "@jupyter-widgets/base",
            "_model_module_version": "1.5.0",
            "_view_count": null,
            "_view_module_version": "1.2.0",
            "_model_module": "@jupyter-widgets/controls"
          }
        },
        "a3ec38a8374441488513fcce3da3344c": {
          "model_module": "@jupyter-widgets/base",
          "model_name": "LayoutModel",
          "state": {
            "_view_name": "LayoutView",
            "grid_template_rows": null,
            "right": null,
            "justify_content": null,
            "_view_module": "@jupyter-widgets/base",
            "overflow": null,
            "_model_module_version": "1.2.0",
            "_view_count": null,
            "flex_flow": null,
            "width": null,
            "min_width": null,
            "border": null,
            "align_items": null,
            "bottom": null,
            "_model_module": "@jupyter-widgets/base",
            "top": null,
            "grid_column": null,
            "overflow_y": null,
            "overflow_x": null,
            "grid_auto_flow": null,
            "grid_area": null,
            "grid_template_columns": null,
            "flex": null,
            "_model_name": "LayoutModel",
            "justify_items": null,
            "grid_row": null,
            "max_height": null,
            "align_content": null,
            "visibility": null,
            "align_self": null,
            "height": null,
            "min_height": null,
            "padding": null,
            "grid_auto_rows": null,
            "grid_gap": null,
            "max_width": null,
            "order": null,
            "_view_module_version": "1.2.0",
            "grid_template_areas": null,
            "object_position": null,
            "object_fit": null,
            "grid_auto_columns": null,
            "margin": null,
            "display": null,
            "left": null
          }
        },
        "098b6c0915ec487c93e546e915047421": {
          "model_module": "@jupyter-widgets/controls",
          "model_name": "RadioButtonsModel",
          "state": {
            "_options_labels": [
              "knn",
              "logistic",
              "rsvc",
              "lsvc",
              "tree",
              "rf",
              "gb",
              "mlp",
              "lightgbm"
            ],
            "_view_name": "RadioButtonsView",
            "style": "IPY_MODEL_c4eaa0e888134b06a6464fb29800a3bb",
            "_dom_classes": [],
            "description": "",
            "_model_name": "RadioButtonsModel",
            "index": 5,
            "_view_module": "@jupyter-widgets/controls",
            "_model_module_version": "1.5.0",
            "_view_count": null,
            "disabled": false,
            "_view_module_version": "1.5.0",
            "description_tooltip": null,
            "_model_module": "@jupyter-widgets/controls",
            "layout": "IPY_MODEL_86092bae544d495fad77e92b11374b93"
          }
        },
        "c4eaa0e888134b06a6464fb29800a3bb": {
          "model_module": "@jupyter-widgets/controls",
          "model_name": "DescriptionStyleModel",
          "state": {
            "_view_name": "StyleView",
            "_model_name": "DescriptionStyleModel",
            "description_width": "",
            "_view_module": "@jupyter-widgets/base",
            "_model_module_version": "1.5.0",
            "_view_count": null,
            "_view_module_version": "1.2.0",
            "_model_module": "@jupyter-widgets/controls"
          }
        },
        "86092bae544d495fad77e92b11374b93": {
          "model_module": "@jupyter-widgets/base",
          "model_name": "LayoutModel",
          "state": {
            "_view_name": "LayoutView",
            "grid_template_rows": null,
            "right": null,
            "justify_content": null,
            "_view_module": "@jupyter-widgets/base",
            "overflow": null,
            "_model_module_version": "1.2.0",
            "_view_count": null,
            "flex_flow": null,
            "width": null,
            "min_width": null,
            "border": null,
            "align_items": null,
            "bottom": null,
            "_model_module": "@jupyter-widgets/base",
            "top": null,
            "grid_column": null,
            "overflow_y": null,
            "overflow_x": null,
            "grid_auto_flow": null,
            "grid_area": null,
            "grid_template_columns": null,
            "flex": null,
            "_model_name": "LayoutModel",
            "justify_items": null,
            "grid_row": null,
            "max_height": null,
            "align_content": null,
            "visibility": null,
            "align_self": null,
            "height": null,
            "min_height": null,
            "padding": null,
            "grid_auto_rows": null,
            "grid_gap": null,
            "max_width": null,
            "order": null,
            "_view_module_version": "1.2.0",
            "grid_template_areas": null,
            "object_position": null,
            "object_fit": null,
            "grid_auto_columns": null,
            "margin": null,
            "display": null,
            "left": null
          }
        }
      }
    }
  },
  "cells": [
    {
      "cell_type": "markdown",
      "metadata": {
        "id": "view-in-github",
        "colab_type": "text"
      },
      "source": [
        "<a href=\"https://colab.research.google.com/github/lightuse/AML/blob/master/Automated_Machine_Learning_Binary_Classification.ipynb\" target=\"_parent\"><img src=\"https://colab.research.google.com/assets/colab-badge.svg\" alt=\"Open In Colab\"/></a>"
      ]
    },
    {
      "cell_type": "markdown",
      "metadata": {
        "id": "ZQ0VKbF0TBSm",
        "colab_type": "text"
      },
      "source": [
        "# supervised learning\n",
        "## binary classification"
      ]
    },
    {
      "cell_type": "markdown",
      "metadata": {
        "id": "2VLl-w9W2BX0",
        "colab_type": "text"
      },
      "source": [
        "Setting"
      ]
    },
    {
      "cell_type": "code",
      "metadata": {
        "id": "W6adj8nKyT9L",
        "colab_type": "code",
        "colab": {}
      },
      "source": [
        "# set pipelines for different algorithms\n",
        "from sklearn.pipeline import Pipeline\n",
        "import numpy as np\n",
        "import lightgbm as lgb\n",
        "from sklearn.preprocessing import StandardScaler\n",
        "from sklearn.neighbors import KNeighborsClassifier\n",
        "from sklearn.linear_model import LogisticRegression\n",
        "from sklearn.svm import SVC, LinearSVC\n",
        "from sklearn.tree import DecisionTreeClassifier\n",
        "from sklearn.ensemble import RandomForestClassifier\n",
        "from sklearn.ensemble import GradientBoostingClassifier\n",
        "from sklearn.neural_network import MLPClassifier\n",
        "from sklearn.decomposition import PCA\n",
        "from sklearn.metrics import roc_auc_score\n",
        "from sklearn.metrics import recall_score\n",
        "from sklearn.metrics import precision_score\n",
        "from sklearn.metrics import f1_score\n",
        "options_algorithm = ['knn', 'logistic', 'rsvc', 'lsvc', 'tree', 'rf', 'gb', 'mlp', 'lightgbm']\n",
        "evaluation_list = {'AUC':'roc_auc',\n",
        "                   'F1':'f1',\n",
        "                   'Recall':'recall',\n",
        "                   'Precision':'precision'}\n",
        "evaluation_function_list = {'AUC':roc_auc_score,\n",
        "                            'F1':f1_score,\n",
        "                            'Recall':recall_score,\n",
        "                            'Precision':precision_score}\n",
        "pipelines = {\n",
        "    'knn':\n",
        "        Pipeline([('scl', StandardScaler()),\n",
        "                  ('pca', PCA(random_state=1)),\n",
        "                  ('est', KNeighborsClassifier(n_neighbors=5, p=2, metric='minkowski'))]),\n",
        "    'logistic':\n",
        "        Pipeline([('scl', StandardScaler()),\n",
        "                  ('pca', PCA(random_state=1)),\n",
        "                  ('est', LogisticRegression(random_state=1))]),\n",
        "    'rsvc':\n",
        "        Pipeline([('scl', StandardScaler()),\n",
        "                  ('pca', PCA(random_state=1)),\n",
        "                  ('est', SVC(C=1.0, kernel='rbf', class_weight='balanced', random_state=1))]),\n",
        "    'lsvc':\n",
        "        Pipeline([('scl', StandardScaler()),\n",
        "                  ('pca', PCA(random_state=1)),\n",
        "                  ('est', LinearSVC(C=1.0, class_weight='balanced', random_state=1, max_iter=10000))]),\n",
        "    'tree':\n",
        "        Pipeline([('pca', PCA(random_state=1)),\n",
        "                  ('est', DecisionTreeClassifier(random_state=1))]),\n",
        "    'rf':\n",
        "        Pipeline([('pca', PCA(random_state=1)),\n",
        "                  ('est', RandomForestClassifier(random_state=1))]),\n",
        "    'gb':\n",
        "        Pipeline([('pca', PCA(random_state=1)),\n",
        "                  ('est', GradientBoostingClassifier(random_state=1))]),\n",
        "    'mlp':\n",
        "        Pipeline([('scl', StandardScaler()),\n",
        "                  ('pca', PCA(random_state=1)),\n",
        "                  ('est', MLPClassifier(hidden_layer_sizes=(3,3), max_iter=10000, random_state=1))]),\n",
        "    'lightgbm':\n",
        "        Pipeline([('scl', StandardScaler()),\n",
        "                  ('pca', PCA(random_state=1)),\n",
        "                  ('est', lgb.LGBMClassifier(random_state=1))])\n",
        "}\n",
        "# Feature selection by RandomForestClassifier\n",
        "feature_selection_rf_list = ['knn',\n",
        "                             'logistic',\n",
        "                             'rsvc',\n",
        "                             'lsvc',\n",
        "                             'mlp']\n",
        "feature_importances_algorithm_list = ['tree',\n",
        "                                       'rf',\n",
        "                                       'gb',\n",
        "                                       'lightgbm']\n",
        "tuning_prarameter_list = ['knn',\n",
        "                          'logistic']\n",
        "# パラメータグリッドの設定\n",
        "tuning_prarameter = {\n",
        "    'knn':{'est__n_neighbors':[1,2,3,4,5,],\n",
        "              'est__weights':['uniform','distance'],\n",
        "              'est__algorithm':['auto','ball_tree','kd_tree','brute'],\n",
        "              'est__leaf_size':[1,10,20,30,40,50],\n",
        "              'est__p':[1,2]\n",
        "    },\n",
        "    'logistic':{'pca__n_components':[5,7,9], 'est__C':[0.1,1.0,10.0,100.0]\n",
        "    },\n",
        "    'rf':{'est__n_estimators':[5,10,20,50,100],\n",
        "             'est__criterion':['gini','entropy'],\n",
        "             'est__max_features':['auto','sqrt','log2'],\n",
        "             'est__max_depth':[1,2,3,4,5],\n",
        "             'est__min_samples_split':[0.1,0.3,0.5,0.7,0.9],\n",
        "             'est__min_samples_leaf':[1,2,4,6,8],\n",
        "             'est__bootstrap':[True,False]\n",
        "    },\n",
        "    'gb':{'est__loss':['deviance','exponential'],\n",
        "             'est__learning_rate':[0.001,0.01,0.1],\n",
        "             'est__n_estimators':[5,10,50,100,500],\n",
        "             'est__max_depth':[1,2,3,4,5],\n",
        "              'est__criterion':['friedman_mse','mae','mse'],\n",
        "              'est__min_samples_split':[0.1,0.3,0.5,0.7,0.9],\n",
        "              'est__min_samples_leaf':[1,2,4,6,8]\n",
        "    },\n",
        "    'mlp':{\n",
        "        \"solver\":[\"lbfgs\", \"sgd\", \"adam\"], \n",
        "        \"hidden_layer_sizes\":[(100,), (100, 10), (100, 100, 10), (100, 100, 100, 10)], \n",
        "    },\n",
        "    'lightgbm':{\n",
        "        'n_estimators': [400, 700, 1000],\n",
        "        'colsample_bytree': [0.7, 0.8],\n",
        "        'max_depth': [15,20,25],\n",
        "        'num_leaves': [50, 100, 200],\n",
        "        'reg_alpha': [1.1, 1.2, 1.3],\n",
        "        'reg_lambda': [1.1, 1.2, 1.3],\n",
        "        'min_split_gain': [0.3, 0.4],\n",
        "        'subsample': [0.7, 0.8, 0.9],\n",
        "        'subsample_freq': [20]\n",
        "    }\n",
        "}\n",
        "# カテゴリ変数をリストで設定\n",
        "ohe_columns = ['Dependents',\n",
        "               'Gender',\n",
        "               'Married',\n",
        "               'Education',\n",
        "               'Self_Employed',\n",
        "               'Property_Area']\n",
        "# カテゴリ変数をobject型で読み込むための準備\n",
        "my_dtype = {'Dependents':object,\n",
        "            'Gender':object,\n",
        "            'Married':object,\n",
        "            'Education':object,\n",
        "            'Self_Employed':object,\n",
        "            'Property_Area':object}\n",
        "# 表示オプションの変更\n",
        "import pandas as pd\n",
        "pd.options.display.max_columns = 50\n",
        "id_label = \"Loan_ID\"\n",
        "train_file_name = './data/av_loan_u6lujuX_CVtuZ9i.csv'\n",
        "test_file_name = './data/av_loan_test_Y3wMUE5_7gLdaTN.csv'\n",
        "# ファイル出力拡張子\n",
        "file_extention = 'csv'\n",
        "# ホールドアウト有無\n",
        "is_holdout = True\n",
        "# 出力ファイルを predict_proba にするか \n",
        "is_predict_proba = True\n",
        "# initialize\n",
        "dict_selector = {}"
      ],
      "execution_count": 39,
      "outputs": []
    },
    {
      "cell_type": "code",
      "metadata": {
        "id": "pTTNkzAE2FWH",
        "colab_type": "code",
        "colab": {}
      },
      "source": [
        "def input_train_file(filename, my_dtype, id_label):\n",
        "    df = pd.read_csv(train_file_name, header=0, dtype=my_dtype)\n",
        "    # データの形式に合わせて適時修正\n",
        "    X  = df.iloc[:,:-1]\n",
        "    ID = X.iloc[:,[0]]\n",
        "    X  = X.drop(id_label, axis=1)\n",
        "    y  = df.iloc[:,-1]\n",
        "    class_mapping = {'N':1, 'Y':0}\n",
        "    y = y.map(class_mapping)\n",
        "    return X, y"
      ],
      "execution_count": 40,
      "outputs": []
    },
    {
      "cell_type": "markdown",
      "metadata": {
        "id": "Uj28528Av2eG",
        "colab_type": "text"
      },
      "source": [
        "One-hot encoding"
      ]
    },
    {
      "cell_type": "code",
      "metadata": {
        "id": "5GNLkqrf2MFs",
        "colab_type": "code",
        "colab": {}
      },
      "source": [
        "import numpy as np\n",
        "# one-hot encoding\n",
        "def one_hot_encoding(X, ohe_columns):\n",
        "    X_ohe = pd.get_dummies(X, dummy_na=True, columns=ohe_columns)\n",
        "    #print(X_ohe.columns.values)\n",
        "    np.save('one_hot_encoding', np.array(X_ohe.columns.values))\n",
        "    return X_ohe"
      ],
      "execution_count": 41,
      "outputs": []
    },
    {
      "cell_type": "markdown",
      "metadata": {
        "id": "Fzed-2ZHv9gi",
        "colab_type": "text"
      },
      "source": [
        "Null imputation"
      ]
    },
    {
      "cell_type": "code",
      "metadata": {
        "id": "a8xSnJYh2Ohp",
        "colab_type": "code",
        "colab": {}
      },
      "source": [
        "from sklearn.impute import SimpleImputer\n",
        "# imputation\n",
        "def imputation(X_ohe):\n",
        "    imp = SimpleImputer(strategy='mean')\n",
        "    imp.fit(X_ohe)\n",
        "    X_ohe_columns = X_ohe.columns.values\n",
        "    X_ohe = pd.DataFrame(imp.transform(X_ohe), columns=X_ohe_columns)\n",
        "    return imp, X_ohe, X_ohe_columns"
      ],
      "execution_count": 42,
      "outputs": []
    },
    {
      "cell_type": "markdown",
      "metadata": {
        "colab_type": "text",
        "id": "r6hx_7aztIqU"
      },
      "source": [
        "Feature selection"
      ]
    },
    {
      "cell_type": "code",
      "metadata": {
        "id": "sIZgeR_qtKqq",
        "colab_type": "code",
        "colab": {}
      },
      "source": [
        "from sklearn.feature_selection import RFE\n",
        "# feature selection\n",
        "def feature_selection(X_ohe, y, X_ohe_columns, estimator):\n",
        "    selector = RFE(estimator, n_features_to_select=100, step=.05)\n",
        "    selector.fit(X_ohe, y)\n",
        "    X_fin = X_ohe.loc[:, X_ohe_columns[selector.support_]]\n",
        "    return X_fin, selector"
      ],
      "execution_count": 43,
      "outputs": []
    },
    {
      "cell_type": "markdown",
      "metadata": {
        "id": "UHYPXUfwbAdZ",
        "colab_type": "text"
      },
      "source": [
        "Holdout"
      ]
    },
    {
      "cell_type": "code",
      "metadata": {
        "id": "URsEj5dea_w5",
        "colab_type": "code",
        "colab": {}
      },
      "source": [
        "from sklearn.model_selection import train_test_split\n",
        "# holdout\n",
        "def holdout(X_ohe, y):\n",
        "    X_train, X_test, y_train, y_test = train_test_split(X_ohe, y, test_size=0.3, random_state=1)\n",
        "    return X_train, X_test, y_train, y_test"
      ],
      "execution_count": 44,
      "outputs": []
    },
    {
      "cell_type": "markdown",
      "metadata": {
        "id": "rjP_XkkP2rXU",
        "colab_type": "text"
      },
      "source": [
        "Modeling"
      ]
    },
    {
      "cell_type": "code",
      "metadata": {
        "id": "C2_BTK_G2TZE",
        "colab_type": "code",
        "colab": {}
      },
      "source": [
        "from joblib import dump\n",
        "from sklearn.model_selection import GridSearchCV\n",
        "# train\n",
        "def train_model(X, y, X_ohe_columns, evaluation, dict_selector):\n",
        "    for pipe_name, pipeline in pipelines.items():\n",
        "        if pipe_name in feature_selection_rf_list:\n",
        "            X_featured, selector = feature_selection(X, y, X_ohe_columns, pipelines['rf'].named_steps['est'])\n",
        "        else:\n",
        "            X_featured, selector = feature_selection(X, y, X_ohe_columns, pipeline.named_steps['est'])      \n",
        "        dict_selector[pipe_name] = selector\n",
        "        if is_holdout:\n",
        "            X_train, X_valid, y_train, y_valid = holdout(X_featured, y)\n",
        "            if pipe_name in tuning_prarameter_list:\n",
        "                gs = GridSearchCV(estimator=pipeline,\n",
        "                            param_grid=tuning_prarameter[pipe_name],\n",
        "                            scoring=evaluation_list[evaluation],\n",
        "                            cv=3,\n",
        "                            return_train_score=False)\n",
        "                gs.fit(X_train, y_train)\n",
        "                dump(gs, pipe_name + '_classiffier.joblib')\n",
        "                gs.fit(X_valid, y_valid)\n",
        "            else:\n",
        "                clf = pipeline.fit(X_train, y_train)\n",
        "                dump(clf, pipe_name + '_classiffier.joblib')\n",
        "        else:\n",
        "            if pipe_name in tuning_prarameter_list:\n",
        "                gs = GridSearchCV(estimator=pipeline,\n",
        "                            param_grid=tuning_prarameter[pipe_name],\n",
        "                            scoring=evaluation_list[evaluation],\n",
        "                            cv=3,\n",
        "                            return_train_score=False)\n",
        "                gs.fit(X_featured, y)\n",
        "                dump(gs, pipe_name + '_classiffier.joblib')\n",
        "            else:\n",
        "                clf = pipeline.fit(X_featured, y)\n",
        "                dump(clf, pipe_name + '_classiffier.joblib')\n",
        "            X_train = X_featured\n",
        "            X_valid = _\n",
        "            y_train = y\n",
        "            y_valid = _\n",
        "    return X_train, X_valid, y_train, y_valid"
      ],
      "execution_count": 45,
      "outputs": []
    },
    {
      "cell_type": "code",
      "metadata": {
        "id": "GlQ7cwebwWI_",
        "colab_type": "code",
        "colab": {}
      },
      "source": [
        "def input_test_file(filename, my_dtype, id_label):\n",
        "    df_s = pd.read_csv(filename, header=0, dtype=my_dtype)\n",
        "    ID_s = df_s.iloc[:,[0]]\n",
        "    X_s  = df_s.drop(id_label, axis=1)\n",
        "    return df_s, X_s"
      ],
      "execution_count": 46,
      "outputs": []
    },
    {
      "cell_type": "markdown",
      "metadata": {
        "id": "rqPw3EoHvtcN",
        "colab_type": "text"
      },
      "source": [
        "Preprocessing"
      ]
    },
    {
      "cell_type": "code",
      "metadata": {
        "id": "5qpOyzr7PeWt",
        "colab_type": "code",
        "colab": {}
      },
      "source": [
        "# preprocessing\n",
        "def preprocessing(X_s, X_ohe, X_ohe_s, imp, X_ohe_columns, selector):\n",
        "    cols_model = set(X_ohe.columns.values)\n",
        "    cols_score = set(X_ohe_s.columns.values)\n",
        "    diff1 = cols_model - cols_score\n",
        "    diff2 = cols_score - cols_model\n",
        "    df1 = pd.DataFrame([[1,2,3]], columns=['c1','c2','c3'])\n",
        "    df2 = pd.DataFrame([[3,2,1]], columns=['c1','c2','c3'])\n",
        "    df_all = pd.concat([df1, df2])\n",
        "    df3 = pd.DataFrame([[0,1,2,3]], columns=['c0','c1','c3','c4'])\n",
        "    df_all = pd.concat([df_all, df3])\n",
        "    df_cols_m = pd.DataFrame(None, columns=X_ohe_columns, dtype=float)\n",
        "    X_ohe_s2 = pd.concat([df_cols_m, X_ohe_s])\n",
        "    set_Xm = set(X_ohe.columns.values)\n",
        "    set_Xs = set(X_ohe_s.columns.values)\n",
        "    X_ohe_s3 = X_ohe_s2.drop(list(set_Xs-set_Xm), axis=1)\n",
        "    X_ohe_s3.loc[:,list(set_Xm-set_Xs)] = X_ohe_s3.loc[:,list(set_Xm-set_Xs)].fillna(0, axis=1)\n",
        "    test = pd.DataFrame([[1,2,3]], columns=['c1','c2','c3'])\n",
        "    test = test.reindex(['c2','c3','c1'], axis=1)\n",
        "    X_ohe_s3 = X_ohe_s3.reindex(X_ohe.columns.values, axis=1)\n",
        "    X_ohe_s4 = pd.DataFrame(imp.transform(X_ohe_s3), columns=X_ohe_columns)\n",
        "    X_fin_s = X_ohe_s4.loc[:, X_ohe_columns[selector.support_]]\n",
        "    return X_fin_s"
      ],
      "execution_count": 47,
      "outputs": []
    },
    {
      "cell_type": "markdown",
      "metadata": {
        "id": "9PWTMgPzvlCH",
        "colab_type": "text"
      },
      "source": [
        "Scoring"
      ]
    },
    {
      "cell_type": "code",
      "metadata": {
        "id": "hG4JHiGchCSV",
        "colab_type": "code",
        "colab": {}
      },
      "source": [
        "from joblib import load\n",
        "def scoring(algorithm_name :str, X, is_predict_proba = False):\n",
        "    clf = load(algorithm_name + '_classiffier.joblib')\n",
        "    if is_predict_proba:\n",
        "        return clf.predict_proba(X)[:, 1]\n",
        "    return clf.predict(X)"
      ],
      "execution_count": 48,
      "outputs": []
    },
    {
      "cell_type": "code",
      "metadata": {
        "id": "I0bdyUa4qq2n",
        "colab_type": "code",
        "colab": {}
      },
      "source": [
        "def evaluation(scores, X_train, y_train, text, function_evaluation):\n",
        "    for pipe_name, pipeline in pipelines.items():\n",
        "        scores[(pipe_name, text)] = function_evaluation(y_train, scoring(pipe_name, X_train))"
      ],
      "execution_count": 49,
      "outputs": []
    },
    {
      "cell_type": "code",
      "metadata": {
        "id": "053crigVoBuR",
        "colab_type": "code",
        "colab": {}
      },
      "source": [
        "def get_input(x):\n",
        "    return x"
      ],
      "execution_count": 50,
      "outputs": []
    },
    {
      "cell_type": "code",
      "metadata": {
        "id": "q7edk4EAoCby",
        "colab_type": "code",
        "colab": {}
      },
      "source": [
        "from ipywidgets import interact, interactive,fixed, interact_manual\n",
        "from IPython.display import display\n",
        "import ipywidgets as widgets\n",
        "def choice(options):\n",
        "    input = get_input(widgets.RadioButtons(options=options))\n",
        "    display(input)\n",
        "    return input"
      ],
      "execution_count": 51,
      "outputs": []
    },
    {
      "cell_type": "code",
      "metadata": {
        "id": "OjZaceOpp4rJ",
        "colab_type": "code",
        "colab": {}
      },
      "source": [
        "import datetime\n",
        "def output_file(df, id_label :str, y :float, model_name :str, extension :str, header=True):\n",
        "    file_name = 'submittion_' + model_name + '_' + datetime.datetime.now().strftime('%Y%m%d%H%M%S') + '.' + extension\n",
        "    separator = ','\n",
        "    if extension == 'tsv':\n",
        "        separator = '\\t'\n",
        "    pd.concat([df[id_label], pd.DataFrame(y, columns=['y'])], axis=1).to_csv(file_name, index=False, sep=separator, header=header)"
      ],
      "execution_count": 52,
      "outputs": []
    },
    {
      "cell_type": "code",
      "metadata": {
        "id": "zZuSFEidmqPT",
        "colab_type": "code",
        "colab": {
          "base_uri": "https://localhost:8080/",
          "height": 101,
          "referenced_widgets": [
            "e132a487ef9d4a1a9449e10b34285fc1",
            "65cc9c10ea1c413eb891128bc32299a6",
            "a3ec38a8374441488513fcce3da3344c"
          ]
        },
        "outputId": "5e31c11b-b293-455b-dc2f-e49e9cd0c5be"
      },
      "source": [
        "input_evaluation = choice(evaluation_list.keys())"
      ],
      "execution_count": 53,
      "outputs": [
        {
          "output_type": "display_data",
          "data": {
            "application/vnd.jupyter.widget-view+json": {
              "model_id": "e132a487ef9d4a1a9449e10b34285fc1",
              "version_minor": 0,
              "version_major": 2
            },
            "text/plain": [
              "RadioButtons(options=('AUC', 'F1', 'Recall', 'Precision'), value='AUC')"
            ]
          },
          "metadata": {
            "tags": []
          }
        }
      ]
    },
    {
      "cell_type": "code",
      "metadata": {
        "id": "0nIw7PEVPt20",
        "colab_type": "code",
        "colab": {}
      },
      "source": [
        "X, y = input_train_file(train_file_name, my_dtype, id_label)\n",
        "X_ohe = one_hot_encoding(X, ohe_columns)\n",
        "imp, X_ohe, X_ohe_columns = imputation(X_ohe)\n",
        "X_train, X_valid, y_train, y_valid = train_model(X_ohe, y, X_ohe_columns, input_evaluation.value, dict_selector)"
      ],
      "execution_count": 54,
      "outputs": []
    },
    {
      "cell_type": "code",
      "metadata": {
        "id": "Hw6FhMrAmCbe",
        "colab_type": "code",
        "colab": {
          "base_uri": "https://localhost:8080/",
          "height": 328
        },
        "outputId": "3db32b57-f603-45e5-b923-0a0e1e40e910"
      },
      "source": [
        "scores = {}\n",
        "if is_holdout:\n",
        "    evaluation(scores, X_train, y_train, 'train', evaluation_function_list[input_evaluation.value])\n",
        "    evaluation(scores, X_valid, y_valid, 'valid', evaluation_function_list[input_evaluation.value])\n",
        "else:\n",
        "    evaluation(scores, X_train, y_train, 'train', evaluation_function_list[input_evaluation.value])\n",
        "# sort score\n",
        "#sorted_score = sorted(scores.items(), key=lambda x:-x[1])\n",
        "display(pd.Series(scores).unstack().sort_values(by='train', ascending=False))"
      ],
      "execution_count": 55,
      "outputs": [
        {
          "output_type": "display_data",
          "data": {
            "text/html": [
              "<div>\n",
              "<style scoped>\n",
              "    .dataframe tbody tr th:only-of-type {\n",
              "        vertical-align: middle;\n",
              "    }\n",
              "\n",
              "    .dataframe tbody tr th {\n",
              "        vertical-align: top;\n",
              "    }\n",
              "\n",
              "    .dataframe thead th {\n",
              "        text-align: right;\n",
              "    }\n",
              "</style>\n",
              "<table border=\"1\" class=\"dataframe\">\n",
              "  <thead>\n",
              "    <tr style=\"text-align: right;\">\n",
              "      <th></th>\n",
              "      <th>train</th>\n",
              "      <th>valid</th>\n",
              "    </tr>\n",
              "  </thead>\n",
              "  <tbody>\n",
              "    <tr>\n",
              "      <th>knn</th>\n",
              "      <td>1.000000</td>\n",
              "      <td>0.570399</td>\n",
              "    </tr>\n",
              "    <tr>\n",
              "      <th>rf</th>\n",
              "      <td>1.000000</td>\n",
              "      <td>0.693086</td>\n",
              "    </tr>\n",
              "    <tr>\n",
              "      <th>tree</th>\n",
              "      <td>1.000000</td>\n",
              "      <td>0.669950</td>\n",
              "    </tr>\n",
              "    <tr>\n",
              "      <th>gb</th>\n",
              "      <td>0.935115</td>\n",
              "      <td>0.685153</td>\n",
              "    </tr>\n",
              "    <tr>\n",
              "      <th>lightgbm</th>\n",
              "      <td>0.861584</td>\n",
              "      <td>0.649656</td>\n",
              "    </tr>\n",
              "    <tr>\n",
              "      <th>rsvc</th>\n",
              "      <td>0.800476</td>\n",
              "      <td>0.668628</td>\n",
              "    </tr>\n",
              "    <tr>\n",
              "      <th>mlp</th>\n",
              "      <td>0.715124</td>\n",
              "      <td>0.672263</td>\n",
              "    </tr>\n",
              "    <tr>\n",
              "      <th>lsvc</th>\n",
              "      <td>0.713651</td>\n",
              "      <td>0.709876</td>\n",
              "    </tr>\n",
              "    <tr>\n",
              "      <th>logistic</th>\n",
              "      <td>0.565219</td>\n",
              "      <td>0.590428</td>\n",
              "    </tr>\n",
              "  </tbody>\n",
              "</table>\n",
              "</div>"
            ],
            "text/plain": [
              "             train     valid\n",
              "knn       1.000000  0.570399\n",
              "rf        1.000000  0.693086\n",
              "tree      1.000000  0.669950\n",
              "gb        0.935115  0.685153\n",
              "lightgbm  0.861584  0.649656\n",
              "rsvc      0.800476  0.668628\n",
              "mlp       0.715124  0.672263\n",
              "lsvc      0.713651  0.709876\n",
              "logistic  0.565219  0.590428"
            ]
          },
          "metadata": {
            "tags": []
          }
        }
      ]
    },
    {
      "cell_type": "code",
      "metadata": {
        "id": "9xaTzyIzTcnX",
        "colab_type": "code",
        "colab": {
          "base_uri": "https://localhost:8080/",
          "height": 201,
          "referenced_widgets": [
            "098b6c0915ec487c93e546e915047421",
            "c4eaa0e888134b06a6464fb29800a3bb",
            "86092bae544d495fad77e92b11374b93"
          ]
        },
        "outputId": "86eb5b64-223c-416d-843b-b2bb057a6a3c"
      },
      "source": [
        "input_algorithm = choice(options_algorithm)"
      ],
      "execution_count": 56,
      "outputs": [
        {
          "output_type": "display_data",
          "data": {
            "application/vnd.jupyter.widget-view+json": {
              "model_id": "098b6c0915ec487c93e546e915047421",
              "version_minor": 0,
              "version_major": 2
            },
            "text/plain": [
              "RadioButtons(options=('knn', 'logistic', 'rsvc', 'lsvc', 'tree', 'rf', 'gb', 'mlp', 'lightgbm'), value='knn')"
            ]
          },
          "metadata": {
            "tags": []
          }
        }
      ]
    },
    {
      "cell_type": "code",
      "metadata": {
        "id": "1HW5647I4KCB",
        "colab_type": "code",
        "colab": {}
      },
      "source": [
        "def main():\n",
        "    algorithm_name = input_algorithm.value\n",
        "    df_s, X_s = input_test_file(test_file_name, my_dtype, id_label)\n",
        "    X_ohe_s = one_hot_encoding(X_s, ohe_columns)\n",
        "    X_predicted = preprocessing(X_s, X_ohe, X_ohe_s, imp, X_ohe_columns, dict_selector[algorithm_name])\n",
        "    predict = scoring(algorithm_name, X_predicted, is_predict_proba);\n",
        "    output_file(df_s, id_label, predict, algorithm_name, file_extention, header=False)\n",
        "    #print(input_evaluation.value + ' selected')\n",
        "    #print(algorithm_name + ' selected')\n",
        "    if algorithm_name in feature_importances_algorithm_list:\n",
        "        feature_importances = pipelines[algorithm_name]['est'].feature_importances_\n",
        "        feature_importances = pd.Series(feature_importances, index=X_predicted.columns.values.tolist())\n",
        "        sorted_feature_importances = sorted(feature_importances.items(), key=lambda x:-x[1])\n",
        "        display(pd.DataFrame(sorted_feature_importances))"
      ],
      "execution_count": 59,
      "outputs": []
    },
    {
      "cell_type": "code",
      "metadata": {
        "id": "nalehpK6jyoH",
        "colab_type": "code",
        "colab": {
          "base_uri": "https://localhost:8080/",
          "height": 855
        },
        "outputId": "d774f966-265a-47fb-8035-0b7a827fed2b"
      },
      "source": [
        "if __name__ == '__main__':\n",
        "    main()"
      ],
      "execution_count": 60,
      "outputs": [
        {
          "output_type": "display_data",
          "data": {
            "text/html": [
              "<div>\n",
              "<style scoped>\n",
              "    .dataframe tbody tr th:only-of-type {\n",
              "        vertical-align: middle;\n",
              "    }\n",
              "\n",
              "    .dataframe tbody tr th {\n",
              "        vertical-align: top;\n",
              "    }\n",
              "\n",
              "    .dataframe thead th {\n",
              "        text-align: right;\n",
              "    }\n",
              "</style>\n",
              "<table border=\"1\" class=\"dataframe\">\n",
              "  <thead>\n",
              "    <tr style=\"text-align: right;\">\n",
              "      <th></th>\n",
              "      <th>0</th>\n",
              "      <th>1</th>\n",
              "    </tr>\n",
              "  </thead>\n",
              "  <tbody>\n",
              "    <tr>\n",
              "      <th>0</th>\n",
              "      <td>Gender_nan</td>\n",
              "      <td>0.189852</td>\n",
              "    </tr>\n",
              "    <tr>\n",
              "      <th>1</th>\n",
              "      <td>Married_No</td>\n",
              "      <td>0.083818</td>\n",
              "    </tr>\n",
              "    <tr>\n",
              "      <th>2</th>\n",
              "      <td>Education_Not Graduate</td>\n",
              "      <td>0.076070</td>\n",
              "    </tr>\n",
              "    <tr>\n",
              "      <th>3</th>\n",
              "      <td>CoapplicantIncome</td>\n",
              "      <td>0.065186</td>\n",
              "    </tr>\n",
              "    <tr>\n",
              "      <th>4</th>\n",
              "      <td>Married_Yes</td>\n",
              "      <td>0.056284</td>\n",
              "    </tr>\n",
              "    <tr>\n",
              "      <th>5</th>\n",
              "      <td>Married_nan</td>\n",
              "      <td>0.051980</td>\n",
              "    </tr>\n",
              "    <tr>\n",
              "      <th>6</th>\n",
              "      <td>Dependents_0</td>\n",
              "      <td>0.048811</td>\n",
              "    </tr>\n",
              "    <tr>\n",
              "      <th>7</th>\n",
              "      <td>ApplicantIncome</td>\n",
              "      <td>0.048422</td>\n",
              "    </tr>\n",
              "    <tr>\n",
              "      <th>8</th>\n",
              "      <td>Loan_Amount_Term</td>\n",
              "      <td>0.046000</td>\n",
              "    </tr>\n",
              "    <tr>\n",
              "      <th>9</th>\n",
              "      <td>LoanAmount</td>\n",
              "      <td>0.041654</td>\n",
              "    </tr>\n",
              "    <tr>\n",
              "      <th>10</th>\n",
              "      <td>Credit_History</td>\n",
              "      <td>0.041220</td>\n",
              "    </tr>\n",
              "    <tr>\n",
              "      <th>11</th>\n",
              "      <td>Education_Graduate</td>\n",
              "      <td>0.040300</td>\n",
              "    </tr>\n",
              "    <tr>\n",
              "      <th>12</th>\n",
              "      <td>Dependents_3+</td>\n",
              "      <td>0.037915</td>\n",
              "    </tr>\n",
              "    <tr>\n",
              "      <th>13</th>\n",
              "      <td>Gender_Male</td>\n",
              "      <td>0.036197</td>\n",
              "    </tr>\n",
              "    <tr>\n",
              "      <th>14</th>\n",
              "      <td>Dependents_nan</td>\n",
              "      <td>0.035430</td>\n",
              "    </tr>\n",
              "    <tr>\n",
              "      <th>15</th>\n",
              "      <td>Dependents_1</td>\n",
              "      <td>0.035320</td>\n",
              "    </tr>\n",
              "    <tr>\n",
              "      <th>16</th>\n",
              "      <td>Dependents_2</td>\n",
              "      <td>0.033986</td>\n",
              "    </tr>\n",
              "    <tr>\n",
              "      <th>17</th>\n",
              "      <td>Gender_Female</td>\n",
              "      <td>0.031555</td>\n",
              "    </tr>\n",
              "    <tr>\n",
              "      <th>18</th>\n",
              "      <td>Education_nan</td>\n",
              "      <td>0.000000</td>\n",
              "    </tr>\n",
              "    <tr>\n",
              "      <th>19</th>\n",
              "      <td>Self_Employed_No</td>\n",
              "      <td>0.000000</td>\n",
              "    </tr>\n",
              "    <tr>\n",
              "      <th>20</th>\n",
              "      <td>Self_Employed_Yes</td>\n",
              "      <td>0.000000</td>\n",
              "    </tr>\n",
              "    <tr>\n",
              "      <th>21</th>\n",
              "      <td>Self_Employed_nan</td>\n",
              "      <td>0.000000</td>\n",
              "    </tr>\n",
              "    <tr>\n",
              "      <th>22</th>\n",
              "      <td>Property_Area_Rural</td>\n",
              "      <td>0.000000</td>\n",
              "    </tr>\n",
              "    <tr>\n",
              "      <th>23</th>\n",
              "      <td>Property_Area_Semiurban</td>\n",
              "      <td>0.000000</td>\n",
              "    </tr>\n",
              "    <tr>\n",
              "      <th>24</th>\n",
              "      <td>Property_Area_Urban</td>\n",
              "      <td>0.000000</td>\n",
              "    </tr>\n",
              "    <tr>\n",
              "      <th>25</th>\n",
              "      <td>Property_Area_nan</td>\n",
              "      <td>0.000000</td>\n",
              "    </tr>\n",
              "  </tbody>\n",
              "</table>\n",
              "</div>"
            ],
            "text/plain": [
              "                          0         1\n",
              "0                Gender_nan  0.189852\n",
              "1                Married_No  0.083818\n",
              "2    Education_Not Graduate  0.076070\n",
              "3         CoapplicantIncome  0.065186\n",
              "4               Married_Yes  0.056284\n",
              "5               Married_nan  0.051980\n",
              "6              Dependents_0  0.048811\n",
              "7           ApplicantIncome  0.048422\n",
              "8          Loan_Amount_Term  0.046000\n",
              "9                LoanAmount  0.041654\n",
              "10           Credit_History  0.041220\n",
              "11       Education_Graduate  0.040300\n",
              "12            Dependents_3+  0.037915\n",
              "13              Gender_Male  0.036197\n",
              "14           Dependents_nan  0.035430\n",
              "15             Dependents_1  0.035320\n",
              "16             Dependents_2  0.033986\n",
              "17            Gender_Female  0.031555\n",
              "18            Education_nan  0.000000\n",
              "19         Self_Employed_No  0.000000\n",
              "20        Self_Employed_Yes  0.000000\n",
              "21        Self_Employed_nan  0.000000\n",
              "22      Property_Area_Rural  0.000000\n",
              "23  Property_Area_Semiurban  0.000000\n",
              "24      Property_Area_Urban  0.000000\n",
              "25        Property_Area_nan  0.000000"
            ]
          },
          "metadata": {
            "tags": []
          }
        }
      ]
    }
  ]
}