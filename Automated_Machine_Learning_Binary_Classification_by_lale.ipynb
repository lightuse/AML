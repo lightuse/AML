{
  "nbformat": 4,
  "nbformat_minor": 0,
  "metadata": {
    "colab": {
      "name": "Automated Machine Learning Binary Classification by lale.ipynb",
      "provenance": [],
      "collapsed_sections": [],
      "include_colab_link": true
    },
    "kernelspec": {
      "display_name": "Python 3",
      "language": "python",
      "name": "python3"
    },
    "language_info": {
      "codemirror_mode": {
        "name": "ipython",
        "version": 3
      },
      "file_extension": ".py",
      "mimetype": "text/x-python",
      "name": "python",
      "nbconvert_exporter": "python",
      "pygments_lexer": "ipython3",
      "version": "3.7.6"
    },
    "widgets": {
      "application/vnd.jupyter.widget-state+json": {
        "db4889695069481193e237c917b10575": {
          "model_module": "@jupyter-widgets/controls",
          "model_name": "RadioButtonsModel",
          "state": {
            "_options_labels": [
              "Accuracy",
              "AUC",
              "F1",
              "Recall",
              "Precision"
            ],
            "_view_name": "RadioButtonsView",
            "style": "IPY_MODEL_6eb4168b810a486cb28e137399c171e0",
            "_dom_classes": [],
            "description": "",
            "_model_name": "RadioButtonsModel",
            "index": 0,
            "_view_module": "@jupyter-widgets/controls",
            "_model_module_version": "1.5.0",
            "_view_count": null,
            "disabled": false,
            "_view_module_version": "1.5.0",
            "description_tooltip": null,
            "_model_module": "@jupyter-widgets/controls",
            "layout": "IPY_MODEL_6d08aadc252c465d9d9ab18f4c0c6ce0"
          }
        },
        "6eb4168b810a486cb28e137399c171e0": {
          "model_module": "@jupyter-widgets/controls",
          "model_name": "DescriptionStyleModel",
          "state": {
            "_view_name": "StyleView",
            "_model_name": "DescriptionStyleModel",
            "description_width": "",
            "_view_module": "@jupyter-widgets/base",
            "_model_module_version": "1.5.0",
            "_view_count": null,
            "_view_module_version": "1.2.0",
            "_model_module": "@jupyter-widgets/controls"
          }
        },
        "6d08aadc252c465d9d9ab18f4c0c6ce0": {
          "model_module": "@jupyter-widgets/base",
          "model_name": "LayoutModel",
          "state": {
            "_view_name": "LayoutView",
            "grid_template_rows": null,
            "right": null,
            "justify_content": null,
            "_view_module": "@jupyter-widgets/base",
            "overflow": null,
            "_model_module_version": "1.2.0",
            "_view_count": null,
            "flex_flow": null,
            "width": null,
            "min_width": null,
            "border": null,
            "align_items": null,
            "bottom": null,
            "_model_module": "@jupyter-widgets/base",
            "top": null,
            "grid_column": null,
            "overflow_y": null,
            "overflow_x": null,
            "grid_auto_flow": null,
            "grid_area": null,
            "grid_template_columns": null,
            "flex": null,
            "_model_name": "LayoutModel",
            "justify_items": null,
            "grid_row": null,
            "max_height": null,
            "align_content": null,
            "visibility": null,
            "align_self": null,
            "height": null,
            "min_height": null,
            "padding": null,
            "grid_auto_rows": null,
            "grid_gap": null,
            "max_width": null,
            "order": null,
            "_view_module_version": "1.2.0",
            "grid_template_areas": null,
            "object_position": null,
            "object_fit": null,
            "grid_auto_columns": null,
            "margin": null,
            "display": null,
            "left": null
          }
        },
        "9dfec55546154c41a7d94ce9dc3c655f": {
          "model_module": "@jupyter-widgets/controls",
          "model_name": "RadioButtonsModel",
          "state": {
            "_options_labels": [
              "lightgbm",
              "xgboost",
              "catboost",
              "rsvc",
              "logistic",
              "rf",
              "gb",
              "mlp"
            ],
            "_view_name": "RadioButtonsView",
            "style": "IPY_MODEL_7696a764579144c585997e29cf0a9035",
            "_dom_classes": [],
            "description": "",
            "_model_name": "RadioButtonsModel",
            "index": 0,
            "_view_module": "@jupyter-widgets/controls",
            "_model_module_version": "1.5.0",
            "_view_count": null,
            "disabled": false,
            "_view_module_version": "1.5.0",
            "description_tooltip": null,
            "_model_module": "@jupyter-widgets/controls",
            "layout": "IPY_MODEL_eafa81c36a4c4923b74293ce7a2d0c23"
          }
        },
        "7696a764579144c585997e29cf0a9035": {
          "model_module": "@jupyter-widgets/controls",
          "model_name": "DescriptionStyleModel",
          "state": {
            "_view_name": "StyleView",
            "_model_name": "DescriptionStyleModel",
            "description_width": "",
            "_view_module": "@jupyter-widgets/base",
            "_model_module_version": "1.5.0",
            "_view_count": null,
            "_view_module_version": "1.2.0",
            "_model_module": "@jupyter-widgets/controls"
          }
        },
        "eafa81c36a4c4923b74293ce7a2d0c23": {
          "model_module": "@jupyter-widgets/base",
          "model_name": "LayoutModel",
          "state": {
            "_view_name": "LayoutView",
            "grid_template_rows": null,
            "right": null,
            "justify_content": null,
            "_view_module": "@jupyter-widgets/base",
            "overflow": null,
            "_model_module_version": "1.2.0",
            "_view_count": null,
            "flex_flow": null,
            "width": null,
            "min_width": null,
            "border": null,
            "align_items": null,
            "bottom": null,
            "_model_module": "@jupyter-widgets/base",
            "top": null,
            "grid_column": null,
            "overflow_y": null,
            "overflow_x": null,
            "grid_auto_flow": null,
            "grid_area": null,
            "grid_template_columns": null,
            "flex": null,
            "_model_name": "LayoutModel",
            "justify_items": null,
            "grid_row": null,
            "max_height": null,
            "align_content": null,
            "visibility": null,
            "align_self": null,
            "height": null,
            "min_height": null,
            "padding": null,
            "grid_auto_rows": null,
            "grid_gap": null,
            "max_width": null,
            "order": null,
            "_view_module_version": "1.2.0",
            "grid_template_areas": null,
            "object_position": null,
            "object_fit": null,
            "grid_auto_columns": null,
            "margin": null,
            "display": null,
            "left": null
          }
        }
      }
    }
  },
  "cells": [
    {
      "cell_type": "markdown",
      "metadata": {
        "id": "view-in-github",
        "colab_type": "text"
      },
      "source": [
        "<a href=\"https://colab.research.google.com/github/lightuse/AML/blob/master/Automated_Machine_Learning_Binary_Classification_by_lale.ipynb\" target=\"_parent\"><img src=\"https://colab.research.google.com/assets/colab-badge.svg\" alt=\"Open In Colab\"/></a>"
      ]
    },
    {
      "cell_type": "code",
      "metadata": {
        "id": "uKQpFiRVo6ot",
        "colab_type": "code",
        "colab": {
          "base_uri": "https://localhost:8080/",
          "height": 640
        },
        "outputId": "74d34b66-a495-49f4-a193-3469af88a7b4"
      },
      "source": [
        "#!pip install lale[full]\n",
        "!pip install lale"
      ],
      "execution_count": null,
      "outputs": [
        {
          "output_type": "stream",
          "text": [
            "Requirement already satisfied: lale in /usr/local/lib/python3.6/dist-packages (0.4.2)\n",
            "Requirement already satisfied: decorator in /usr/local/lib/python3.6/dist-packages (from lale) (4.4.2)\n",
            "Requirement already satisfied: h5py in /usr/local/lib/python3.6/dist-packages (from lale) (2.10.0)\n",
            "Requirement already satisfied: jsonsubschema in /usr/local/lib/python3.6/dist-packages (from lale) (0.0.1)\n",
            "Requirement already satisfied: numpy in /usr/local/lib/python3.6/dist-packages (from lale) (1.18.5)\n",
            "Requirement already satisfied: black in /usr/local/lib/python3.6/dist-packages (from lale) (20.8b1)\n",
            "Requirement already satisfied: scipy in /usr/local/lib/python3.6/dist-packages (from lale) (1.4.1)\n",
            "Requirement already satisfied: hyperopt==0.2.3 in /usr/local/lib/python3.6/dist-packages (from lale) (0.2.3)\n",
            "Requirement already satisfied: pandas<=0.25.3 in /usr/local/lib/python3.6/dist-packages (from lale) (0.25.3)\n",
            "Requirement already satisfied: astunparse in /usr/local/lib/python3.6/dist-packages (from lale) (1.6.3)\n",
            "Requirement already satisfied: graphviz in /usr/local/lib/python3.6/dist-packages (from lale) (0.10.1)\n",
            "Requirement already satisfied: scikit-learn>=0.20.3 in /usr/local/lib/python3.6/dist-packages (from lale) (0.22.2.post1)\n",
            "Requirement already satisfied: jsonschema in /usr/local/lib/python3.6/dist-packages (from lale) (2.6.0)\n",
            "Requirement already satisfied: six in /usr/local/lib/python3.6/dist-packages (from h5py->lale) (1.15.0)\n",
            "Requirement already satisfied: greenery in /usr/local/lib/python3.6/dist-packages (from jsonsubschema->lale) (3.2)\n",
            "Requirement already satisfied: python-intervals in /usr/local/lib/python3.6/dist-packages (from jsonsubschema->lale) (1.10.0.post1)\n",
            "Requirement already satisfied: appdirs in /usr/local/lib/python3.6/dist-packages (from black->lale) (1.4.4)\n",
            "Requirement already satisfied: typed-ast>=1.4.0 in /usr/local/lib/python3.6/dist-packages (from black->lale) (1.4.1)\n",
            "Requirement already satisfied: mypy-extensions>=0.4.3 in /usr/local/lib/python3.6/dist-packages (from black->lale) (0.4.3)\n",
            "Requirement already satisfied: dataclasses>=0.6; python_version < \"3.7\" in /usr/local/lib/python3.6/dist-packages (from black->lale) (0.7)\n",
            "Requirement already satisfied: toml>=0.10.1 in /usr/local/lib/python3.6/dist-packages (from black->lale) (0.10.1)\n",
            "Requirement already satisfied: typing-extensions>=3.7.4 in /usr/local/lib/python3.6/dist-packages (from black->lale) (3.7.4.3)\n",
            "Requirement already satisfied: pathspec<1,>=0.6 in /usr/local/lib/python3.6/dist-packages (from black->lale) (0.8.0)\n",
            "Requirement already satisfied: regex>=2020.1.8 in /usr/local/lib/python3.6/dist-packages (from black->lale) (2020.7.14)\n",
            "Requirement already satisfied: click>=7.1.2 in /usr/local/lib/python3.6/dist-packages (from black->lale) (7.1.2)\n",
            "Requirement already satisfied: networkx==2.2 in /usr/local/lib/python3.6/dist-packages (from hyperopt==0.2.3->lale) (2.2)\n",
            "Requirement already satisfied: future in /usr/local/lib/python3.6/dist-packages (from hyperopt==0.2.3->lale) (0.16.0)\n",
            "Requirement already satisfied: cloudpickle in /usr/local/lib/python3.6/dist-packages (from hyperopt==0.2.3->lale) (1.3.0)\n",
            "Requirement already satisfied: tqdm in /usr/local/lib/python3.6/dist-packages (from hyperopt==0.2.3->lale) (4.41.1)\n",
            "Requirement already satisfied: pytz>=2017.2 in /usr/local/lib/python3.6/dist-packages (from pandas<=0.25.3->lale) (2018.9)\n",
            "Requirement already satisfied: python-dateutil>=2.6.1 in /usr/local/lib/python3.6/dist-packages (from pandas<=0.25.3->lale) (2.8.1)\n",
            "Requirement already satisfied: wheel<1.0,>=0.23.0 in /usr/local/lib/python3.6/dist-packages (from astunparse->lale) (0.35.1)\n",
            "Requirement already satisfied: joblib>=0.11 in /usr/local/lib/python3.6/dist-packages (from scikit-learn>=0.20.3->lale) (0.16.0)\n"
          ],
          "name": "stdout"
        }
      ]
    },
    {
      "cell_type": "code",
      "metadata": {
        "id": "FDxqt439humu",
        "colab_type": "code",
        "colab": {}
      },
      "source": [
        "from common import function"
      ],
      "execution_count": null,
      "outputs": []
    },
    {
      "cell_type": "markdown",
      "metadata": {
        "colab_type": "text",
        "id": "ZQ0VKbF0TBSm"
      },
      "source": [
        "# supervised learning\n",
        "## binary classification"
      ]
    },
    {
      "cell_type": "markdown",
      "metadata": {
        "colab_type": "text",
        "id": "2VLl-w9W2BX0"
      },
      "source": [
        "Setting"
      ]
    },
    {
      "cell_type": "code",
      "metadata": {
        "colab_type": "code",
        "id": "W6adj8nKyT9L",
        "colab": {}
      },
      "source": [
        "# set pipelines for different algorithms\n",
        "from sklearn.pipeline import Pipeline\n",
        "import numpy as np\n",
        "import lightgbm as lgb\n",
        "import xgboost as xgb\n",
        "from catboost import CatBoostClassifier\n",
        "from sklearn.preprocessing import StandardScaler\n",
        "from sklearn.neighbors import KNeighborsClassifier\n",
        "from sklearn.linear_model import LogisticRegression\n",
        "from sklearn.svm import SVC, LinearSVC\n",
        "from sklearn.multiclass import OneVsRestClassifier\n",
        "from sklearn.tree import DecisionTreeClassifier\n",
        "from sklearn.ensemble import RandomForestClassifier\n",
        "from sklearn.ensemble import GradientBoostingClassifier\n",
        "from sklearn.neural_network import MLPClassifier\n",
        "from sklearn.decomposition import PCA\n",
        "from sklearn.metrics import roc_auc_score\n",
        "from sklearn.metrics import recall_score\n",
        "from sklearn.metrics import precision_score\n",
        "from sklearn.metrics import f1_score\n",
        "from sklearn.metrics import accuracy_score\n",
        "evaluation_list = {'AUC':'roc_auc',\n",
        "                   'F1':'f1',\n",
        "                   'Recall':'recall',\n",
        "                   'Precision':'precision',\n",
        "                   'Accuracy':'accuracy'}\n",
        "evaluation_function_list = {'AUC':roc_auc_score,\n",
        "                            'F1':f1_score,\n",
        "                            'Recall':recall_score,\n",
        "                            'Precision':precision_score,\n",
        "                            'Accuracy':accuracy_score}\n",
        "options_evaluation = [ 'Accuracy', 'AUC', 'F1', 'Recall', 'Precision']\n",
        "options_algorithm = ['knn', 'logistic', 'rsvc', 'tree', 'rf', 'gb', 'mlp', 'lightgbm', 'xgboost']\n",
        "options_algorithm = ['lightgbm', 'xgboost', 'catboost', 'rsvc', 'logistic', 'rf', 'gb', 'mlp']\n",
        "#options_algorithm = ['lightgbm', 'rsvc', 'mlp', 'gb', 'xgboost','catboost']\n",
        "#options_algorithm = ['rf', 'gb', 'lightgbm', 'xgboost', 'mlp', 'rsvc']\n",
        "# 出力を predict_proba にするか \n",
        "is_predict_proba = False\n",
        "# \n",
        "is_one_hot_encoding = True\n",
        "is_imputation = False\n",
        "exception_algorithm_list = ['tree', 'knn', 'xgboost', 'logistic', 'rsvc', 'rf', 'gb', 'mlp', 'catboost']\n",
        "exception_algorithm_list = ['tree', 'knn', 'rsvc', 'gb', 'mlp', 'xgboost', 'catboost']\n",
        "pipelines = {\n",
        "    'lightgbm':\n",
        "        Pipeline([('pca', PCA(random_state=1)),\n",
        "                  #('est', lgb.LGBMClassifier(random_state=1, learning_rate=0.1, max_depth=16, n_estimators=1000, num_leaves=31))]),\n",
        "                  ('est', lgb.LGBMClassifier(random_state=1))]),\n",
        "    'xgboost':\n",
        "        Pipeline([('pca', PCA(random_state=1)),\n",
        "                  ('est', xgb.XGBClassifier(random_state=1))]),\n",
        "    'catboost':\n",
        "        Pipeline([('pca', PCA(random_state=1)),\n",
        "                  ('est', CatBoostClassifier(random_state=1))]),\n",
        "    'knn':\n",
        "        Pipeline([('scl', StandardScaler()),\n",
        "                  ('pca', PCA(random_state=1)),\n",
        "                  ('est', KNeighborsClassifier(n_neighbors=5, p=2, metric='minkowski'))]),\n",
        "    'logistic':\n",
        "        Pipeline([('scl', StandardScaler()),\n",
        "                  ('pca', PCA(random_state=1)),\n",
        "                  ('est', LogisticRegression(random_state=1))]),\n",
        "    'rsvc':\n",
        "        Pipeline([('scl', StandardScaler()),\n",
        "                  ('pca', PCA(random_state=1)),\n",
        "                  ('est', SVC(C=1.0, kernel='rbf', class_weight='balanced', probability=is_predict_proba, random_state=1))]),\n",
        "    'tree':\n",
        "        Pipeline([('pca', PCA(random_state=1)),\n",
        "                  ('est', DecisionTreeClassifier(random_state=1))]),\n",
        "    'rf':\n",
        "        Pipeline([('pca', PCA(random_state=1)),\n",
        "                  ('est', RandomForestClassifier(random_state=1))]),\n",
        "    'gb':\n",
        "        Pipeline([('pca', PCA(random_state=1)),\n",
        "                  ('est', GradientBoostingClassifier(random_state=1))]),\n",
        "    'mlp':\n",
        "        Pipeline([('scl', StandardScaler()),\n",
        "                  ('pca', PCA(random_state=1)),\n",
        "                  ('est', MLPClassifier(hidden_layer_sizes=(3,3), max_iter=10000, random_state=1))])\n",
        "}\n",
        "\n",
        "for algorithm in exception_algorithm_list:\n",
        "    if algorithm in pipelines:\n",
        "        pipelines.pop(algorithm)"
      ],
      "execution_count": null,
      "outputs": []
    },
    {
      "cell_type": "code",
      "metadata": {
        "colab_type": "code",
        "id": "y192l2ROoxMM",
        "colab": {}
      },
      "source": [
        "# 表示オプションの変更\n",
        "import pandas as pd\n",
        "pd.set_option('display.max_rows', 100)\n",
        "# カテゴリ変数をリストで設定\n",
        "ohe_columns = ['lobby-mode',\n",
        "               'mode',\n",
        "               'stage',\n",
        "               'A1-weapon',\n",
        "               'A1-rank',\n",
        "               'A2-weapon',\n",
        "               'A2-rank',\n",
        "               'A3-weapon',\n",
        "               'A3-rank',\n",
        "               'A4-weapon',\n",
        "               'A4-rank',\n",
        "               'B1-weapon',\n",
        "               'B1-rank',\n",
        "               'B2-weapon',\n",
        "               'B2-rank',\n",
        "               'B3-weapon',\n",
        "               'B3-rank',\n",
        "               'B4-weapon',\n",
        "               'B4-rank',\n",
        "            ]\n",
        "# カテゴリ変数をobject型で読み込むための準備\n",
        "my_dtype = {'game-ver':object,\n",
        "               'lobby-mode':object,\n",
        "               'lobby':object,\n",
        "               'mode':object,\n",
        "               'stage':object,\n",
        "               'A1-weapon':object,\n",
        "               'A1-rank':object,\n",
        "               'A2-weapon':object,\n",
        "               'A2-rank':object,\n",
        "               'A3-weapon':object,\n",
        "               'A3-rank':object,\n",
        "               'A4-weapon':object,\n",
        "               'A4-rank':object,\n",
        "               'B1-weapon':object,\n",
        "               'B1-rank':object,\n",
        "               'B2-weapon':object,\n",
        "               'B2-rank':object,\n",
        "               'B3-weapon':object,\n",
        "               'B3-rank':object,\n",
        "               'B4-weapon':object,\n",
        "               'B4-rank':object,\n",
        "               'A1-level':float,\n",
        "               'A2-level':float,\n",
        "               'A3-level':float,\n",
        "               'A4-level':float,\n",
        "               'B1-level':float,\n",
        "               'B2-level':float,\n",
        "               'B3-level':float,\n",
        "               'B4-level':float,\n",
        "            }\n",
        "id_label = ['id']\n",
        "target_label = ['y']\n",
        "drop_columns = ['game-ver', 'lobby']\n",
        "train_file_name = out_put_data_dir + 'train_data.csv'\n",
        "test_file_name = out_put_data_dir + 'test_data.csv'\n",
        "model_columns_file_name = out_put_data_dir + 'model_columns.csv'\n",
        "# feature_selection range 50-150\n",
        "n_features_to_select = 200\n",
        "# ファイル出力拡張子\n",
        "file_extention = 'csv'"
      ],
      "execution_count": null,
      "outputs": []
    },
    {
      "cell_type": "code",
      "metadata": {
        "id": "cuKJIFseovOD",
        "colab_type": "code",
        "colab": {}
      },
      "source": [
        "# ホールドアウト有無\n",
        "is_holdout = False\n",
        "# k-fold 法を利用するか\n",
        "is_k_fold = True\n",
        "is_optuna = False\n",
        "is_header = True"
      ],
      "execution_count": null,
      "outputs": []
    },
    {
      "cell_type": "code",
      "metadata": {
        "colab_type": "code",
        "id": "pTTNkzAE2FWH",
        "colab": {}
      },
      "source": [
        "def input_train_file(filename, my_dtype):\n",
        "    df = pd.read_csv(train_file_name, header=0, dtype=my_dtype)\n",
        "    # データの形式に合わせて適時修正\n",
        "    df = df.drop(id_label, axis=1)\n",
        "    y = df.iloc[:,-1]\n",
        "    y.to_csv(out_put_data_dir + 'y.csv')\n",
        "    class_mapping = {0:0, 1:1}\n",
        "    y = y.map(class_mapping)\n",
        "    X = df.drop(target_label, axis=1)\n",
        "    X = X.reset_index(drop=True)\n",
        "    X.to_csv(out_put_data_dir + 'X.csv')\n",
        "    print('欠損個数（数値変数の欠損補完前）:input_train_file', X.isnull().sum().sum())\n",
        "    return X, y"
      ],
      "execution_count": null,
      "outputs": []
    },
    {
      "cell_type": "code",
      "metadata": {
        "id": "Y7rqBCH5vs3I",
        "colab_type": "code",
        "colab": {}
      },
      "source": [
        "import pandas as pd\n",
        "import datetime as dt\n",
        "import re\n",
        "import numpy as np\n",
        "def transform_data(X:pd.core.series.Series):\n",
        "    X['period'] =  pd.to_datetime(X['period']).map(pd.Timestamp.to_julian_date)\n",
        "    publishedAt = pd.to_datetime(X['period'], utc=True)\n",
        "    X[\"year\"] = publishedAt.apply(lambda x: x.year)\n",
        "    X[\"month\"] = publishedAt.apply(lambda x: x.month)\n",
        "    X[\"day\"] = publishedAt.apply(lambda x: x.day)\n",
        "    X[\"week\"] = publishedAt.apply(lambda x: x.weekday())\n",
        "    for column in ohe_columns:\n",
        "        X['frequency_encode_' + column] = function.convert_to_frequency_encode(X, column)\n",
        "        #X['label_encode_' + column] = function.convert_to_label_encode(X, column)\n",
        "        X['count_encode_' + column] = function.convert_to_count_encode(X, column)\n",
        "        X['label_count_encode_' + column] = function.convert_to_label_count_encode(X, column)\n",
        "\n",
        "    # 不要カラム削除\n",
        "    for column in drop_columns:\n",
        "        X = X.drop(column, axis=1)\n",
        "    X = X.reset_index(drop=True)\n",
        "    return X"
      ],
      "execution_count": null,
      "outputs": []
    },
    {
      "cell_type": "markdown",
      "metadata": {
        "colab_type": "text",
        "id": "rjP_XkkP2rXU"
      },
      "source": [
        "Modeling"
      ]
    },
    {
      "cell_type": "code",
      "metadata": {
        "colab_type": "code",
        "id": "C2_BTK_G2TZE",
        "colab": {}
      },
      "source": [
        "def train_model(out_put_data_dir, X, y, X_ohe_columns, evaluation):\n",
        "    X_train, X_valid, y_train, y_valid = X, X, y, y\n",
        "    import warnings\n",
        "    warnings.filterwarnings(\"ignore\")\n",
        "    from lale.lib.lale import NoOp\n",
        "    from lale.lib.sklearn import KNeighborsClassifier\n",
        "    from lale.lib.sklearn import LogisticRegression\n",
        "    from xgboost import XGBClassifier\n",
        "    from lightgbm import LGBMClassifier\n",
        "    from lale.lib.sklearn import Nystroem\n",
        "    from lale.lib.sklearn import PCA\n",
        "    from sklearn.preprocessing import Normalizer as Norm\n",
        "    from sklearn.preprocessing import StandardScaler as Scale\n",
        "    from lale.operators import make_union, make_choice, make_pipeline\n",
        "    kernel_tfm_or_not =  Scale | NoOp | Nystroem | Norm\n",
        "    kernel_tfm_or_not.visualize()\n",
        "    tfm = PCA\n",
        "    #clf = make_choice(LogisticRegression, XGBClassifier, LGBMClassifier)\n",
        "    clf = make_choice(LogisticRegression)\n",
        "    clf.visualize()\n",
        "    optimizable = kernel_tfm_or_not >> tfm >> clf\n",
        "    optimizable.visualize()\n",
        "    from lale.lib.lale import Hyperopt\n",
        "    hpo_trainable = Hyperopt(estimator=optimizable, max_evals=5)\n",
        "    hpo_trained = hpo_trainable.fit(X_train, y_train)\n",
        "    best_estimator = hpo_trained.get_pipeline()\n",
        "    best_estimator.visualize()\n",
        "    dump(best_estimator, out_put_data_dir + 'mixed' + '_classiffier.joblib')\n",
        "    return X_train, X_valid, y_train, y_valid"
      ],
      "execution_count": null,
      "outputs": []
    },
    {
      "cell_type": "markdown",
      "metadata": {
        "colab_type": "text",
        "id": "Otjg8_z5iNkF"
      },
      "source": [
        "Scoring"
      ]
    },
    {
      "cell_type": "code",
      "metadata": {
        "colab_type": "code",
        "id": "CP46pKAniJ0W",
        "colab": {}
      },
      "source": [
        "from joblib import load\n",
        "def scoring(algorithm_name :str, X, input_evaluation, is_predict_proba = False):\n",
        "    clf = load(out_put_data_dir + algorithm_name + '_classiffier.joblib')\n",
        "    print(algorithm_name)\n",
        "    if is_optuna:\n",
        "        if input_evaluation.value == 'Accuracy':\n",
        "            return clf.predict(X).round()\n",
        "        return clf.predict(X)\n",
        "    if is_predict_proba:\n",
        "        return clf.predict_proba(X)[:, 1]\n",
        "    return clf.predict(X)"
      ],
      "execution_count": null,
      "outputs": []
    },
    {
      "cell_type": "code",
      "metadata": {
        "colab_type": "code",
        "id": "I0bdyUa4qq2n",
        "colab": {}
      },
      "source": [
        "def evaluation(scores, X_train, y_train, text, evaluation_function_list, input_evaluation, is_predict_proba):\n",
        "    print(input_evaluation.value)\n",
        "    #for pipe_name, pipeline in pipelines.items():     \n",
        "    scores[('mixed', text)] = evaluation_function_list[input_evaluation.value](y_train, scoring('mixed', X_train, input_evaluation, is_predict_proba))"
      ],
      "execution_count": null,
      "outputs": []
    },
    {
      "cell_type": "code",
      "metadata": {
        "colab_type": "code",
        "id": "zZuSFEidmqPT",
        "colab": {
          "base_uri": "https://localhost:8080/",
          "height": 121,
          "referenced_widgets": [
            "db4889695069481193e237c917b10575",
            "6eb4168b810a486cb28e137399c171e0",
            "6d08aadc252c465d9d9ab18f4c0c6ce0"
          ]
        },
        "outputId": "d2174479-9ced-4932-8c02-1a4c1bb66535"
      },
      "source": [
        "input_evaluation = function.choice(options_evaluation)"
      ],
      "execution_count": null,
      "outputs": [
        {
          "output_type": "display_data",
          "data": {
            "application/vnd.jupyter.widget-view+json": {
              "model_id": "db4889695069481193e237c917b10575",
              "version_minor": 0,
              "version_major": 2
            },
            "text/plain": [
              "RadioButtons(options=('Accuracy', 'AUC', 'F1', 'Recall', 'Precision'), value='Accuracy')"
            ]
          },
          "metadata": {
            "tags": []
          }
        }
      ]
    },
    {
      "cell_type": "code",
      "metadata": {
        "colab_type": "code",
        "id": "0nIw7PEVPt20",
        "colab": {
          "base_uri": "https://localhost:8080/",
          "height": 111
        },
        "outputId": "bd3fd7ae-946e-4740-acfb-85317217e69f"
      },
      "source": [
        "X, y = input_train_file(train_file_name, my_dtype)"
      ],
      "execution_count": null,
      "outputs": [
        {
          "output_type": "stream",
          "text": [
            "/usr/local/lib/python3.6/dist-packages/ipykernel_launcher.py:6: FutureWarning:\n",
            "\n",
            "The signature of `Series.to_csv` was aligned to that of `DataFrame.to_csv`, and argument 'header' will change its default value from False to True: please pass an explicit value to suppress this warning.\n",
            "\n"
          ],
          "name": "stderr"
        },
        {
          "output_type": "stream",
          "text": [
            "欠損個数（数値変数の欠損補完前）:input_train_file 115890\n"
          ],
          "name": "stdout"
        }
      ]
    },
    {
      "cell_type": "code",
      "metadata": {
        "id": "Ig6JybDmvXDe",
        "colab_type": "code",
        "colab": {}
      },
      "source": [
        "X = transform_data(X)"
      ],
      "execution_count": null,
      "outputs": []
    },
    {
      "cell_type": "code",
      "metadata": {
        "id": "AdDkapVu3JHW",
        "colab_type": "code",
        "colab": {
          "base_uri": "https://localhost:8080/",
          "height": 281
        },
        "outputId": "516d5f25-0987-448d-d5c4-79691fd12f04"
      },
      "source": [
        "X_ohe = function.one_hot_encoding(X, ohe_columns)\n",
        "X_ohe.to_csv(out_put_data_dir + \"X_ohe.csv\", index=False, header=True)\n",
        "#pd.DataFrame(X_ohe).to_csv(out_put_data_dir + \"X_ohe.csv\", index=False)\n",
        "print('欠損個数（数値変数の欠損補完前）', X_ohe.isnull().sum().sum())\n",
        "print('')\n",
        "print(X_ohe.isnull().sum())\n",
        "X_ohe, X_ohe_columns = function.imputation(out_put_data_dir, model_columns_file_name, X_ohe)"
      ],
      "execution_count": null,
      "outputs": [
        {
          "output_type": "stream",
          "text": [
            "欠損個数（数値変数の欠損補完前） 115890\n",
            "\n",
            "period          0\n",
            "A1-level        0\n",
            "A2-level        0\n",
            "A3-level        0\n",
            "A4-level       51\n",
            "               ..\n",
            "B4-rank_c-      0\n",
            "B4-rank_s       0\n",
            "B4-rank_s+      0\n",
            "B4-rank_x       0\n",
            "B4-rank_nan     0\n",
            "Length: 1327, dtype: int64\n"
          ],
          "name": "stdout"
        }
      ]
    },
    {
      "cell_type": "code",
      "metadata": {
        "colab_type": "code",
        "id": "8yBQ3rQiZbDh",
        "colab": {
          "base_uri": "https://localhost:8080/",
          "height": 1000
        },
        "outputId": "1ee68955-4a31-462e-e581-7dfa744dc103"
      },
      "source": [
        "# train\n",
        "X_train, X_valid, y_train, y_valid = train_model(out_put_data_dir, X_ohe, y, X_ohe_columns, input_evaluation.value)"
      ],
      "execution_count": null,
      "outputs": [
        {
          "output_type": "display_data",
          "data": {
            "text/plain": [
              "<graphviz.dot.Digraph at 0x7f25f7a4f4e0>"
            ],
            "image/svg+xml": "<?xml version=\"1.0\" encoding=\"UTF-8\" standalone=\"no\"?>\n<!DOCTYPE svg PUBLIC \"-//W3C//DTD SVG 1.1//EN\"\n \"http://www.w3.org/Graphics/SVG/1.1/DTD/svg11.dtd\">\n<!-- Generated by graphviz version 2.40.1 (20161225.0304)\n -->\n<!-- Title: cluster:(root) Pages: 1 -->\n<svg width=\"100pt\" height=\"232pt\"\n viewBox=\"0.00 0.00 100.28 232.00\" xmlns=\"http://www.w3.org/2000/svg\" xmlns:xlink=\"http://www.w3.org/1999/xlink\">\n<g id=\"graph0\" class=\"graph\" transform=\"scale(1 1) rotate(0) translate(4 228)\">\n<title>cluster:(root)</title>\n<polygon fill=\"#ffffff\" stroke=\"transparent\" points=\"-4,4 -4,-228 96.2809,-228 96.2809,4 -4,4\"/>\n<g id=\"clust1\" class=\"cluster\">\n<title>cluster:(root)</title>\n<g id=\"a_clust1\"><a xlink:title=\"(root) = type_0 | no_op | nystroem | type_1\">\n<polygon fill=\"#7ec0ee\" stroke=\"#000000\" points=\"8,-8 8,-216 84.2809,-216 84.2809,-8 8,-8\"/>\n<text text-anchor=\"middle\" x=\"46.1404\" y=\"-200.8\" font-family=\"Times,serif\" font-size=\"14.00\" fill=\"#000000\">Choice</text>\n</a>\n</g>\n</g>\n<!-- type_0 -->\n<g id=\"node1\" class=\"node\">\n<title>type_0</title>\n<g id=\"a_node1\"><a xlink:title=\"type_0 = type\">\n<ellipse fill=\"#7ec0ee\" stroke=\"#000000\" cx=\"46.1404\" cy=\"-167\" rx=\"27\" ry=\"18\"/>\n<text text-anchor=\"middle\" x=\"46.1404\" y=\"-164.2\" font-family=\"Times,serif\" font-size=\"11.00\" fill=\"#000000\">type</text>\n</a>\n</g>\n</g>\n<!-- no_op -->\n<g id=\"node2\" class=\"node\">\n<title>no_op</title>\n<g id=\"a_node2\"><a xlink:href=\"https://lale.readthedocs.io/en/latest/modules/lale.lib.lale.no_op.html\" xlink:title=\"no_op = NoOp\">\n<ellipse fill=\"#ffffff\" stroke=\"#000000\" cx=\"46.1404\" cy=\"-122\" rx=\"27\" ry=\"19.6\"/>\n<text text-anchor=\"middle\" x=\"46.1404\" y=\"-125.2\" font-family=\"Times,serif\" font-size=\"11.00\" fill=\"#000000\">No&#45;</text>\n<text text-anchor=\"middle\" x=\"46.1404\" y=\"-113.2\" font-family=\"Times,serif\" font-size=\"11.00\" fill=\"#000000\">Op</text>\n</a>\n</g>\n</g>\n<!-- nystroem -->\n<g id=\"node3\" class=\"node\">\n<title>nystroem</title>\n<g id=\"a_node3\"><a xlink:href=\"https://lale.readthedocs.io/en/latest/modules/lale.lib.sklearn.nystroem.html\" xlink:title=\"nystroem = Nystroem\">\n<ellipse fill=\"#7ec0ee\" stroke=\"#000000\" cx=\"46.1404\" cy=\"-77\" rx=\"30.2815\" ry=\"18\"/>\n<text text-anchor=\"middle\" x=\"46.1404\" y=\"-74.2\" font-family=\"Times,serif\" font-size=\"11.00\" fill=\"#000000\">Nystroem</text>\n</a>\n</g>\n</g>\n<!-- type_1 -->\n<g id=\"node4\" class=\"node\">\n<title>type_1</title>\n<g id=\"a_node4\"><a xlink:title=\"type_1 = type\">\n<ellipse fill=\"#7ec0ee\" stroke=\"#000000\" cx=\"46.1404\" cy=\"-34\" rx=\"27\" ry=\"18\"/>\n<text text-anchor=\"middle\" x=\"46.1404\" y=\"-31.2\" font-family=\"Times,serif\" font-size=\"11.00\" fill=\"#000000\">type</text>\n</a>\n</g>\n</g>\n</g>\n</svg>\n"
          },
          "metadata": {
            "tags": []
          }
        },
        {
          "output_type": "display_data",
          "data": {
            "text/plain": [
              "<graphviz.dot.Digraph at 0x7f267b20db70>"
            ],
            "image/svg+xml": "<?xml version=\"1.0\" encoding=\"UTF-8\" standalone=\"no\"?>\n<!DOCTYPE svg PUBLIC \"-//W3C//DTD SVG 1.1//EN\"\n \"http://www.w3.org/Graphics/SVG/1.1/DTD/svg11.dtd\">\n<!-- Generated by graphviz version 2.40.1 (20161225.0304)\n -->\n<!-- Title: cluster:(root) Pages: 1 -->\n<svg width=\"125pt\" height=\"103pt\"\n viewBox=\"0.00 0.00 124.85 103.00\" xmlns=\"http://www.w3.org/2000/svg\" xmlns:xlink=\"http://www.w3.org/1999/xlink\">\n<g id=\"graph0\" class=\"graph\" transform=\"scale(1 1) rotate(0) translate(4 99)\">\n<title>cluster:(root)</title>\n<polygon fill=\"#ffffff\" stroke=\"transparent\" points=\"-4,4 -4,-99 120.8528,-99 120.8528,4 -4,4\"/>\n<g id=\"clust1\" class=\"cluster\">\n<title>cluster:(root)</title>\n<g id=\"a_clust1\"><a xlink:title=\"(root) = logistic_regression\">\n<polygon fill=\"#7ec0ee\" stroke=\"#000000\" points=\"8,-8 8,-87 108.8528,-87 108.8528,-8 8,-8\"/>\n<text text-anchor=\"middle\" x=\"58.4264\" y=\"-71.8\" font-family=\"Times,serif\" font-size=\"14.00\" fill=\"#000000\">Choice</text>\n</a>\n</g>\n</g>\n<!-- logistic_regression -->\n<g id=\"node1\" class=\"node\">\n<title>logistic_regression</title>\n<g id=\"a_node1\"><a xlink:href=\"https://lale.readthedocs.io/en/latest/modules/lale.lib.sklearn.logistic_regression.html\" xlink:title=\"logistic_regression = LogisticRegression\">\n<ellipse fill=\"#7ec0ee\" stroke=\"#000000\" cx=\"58.4264\" cy=\"-36\" rx=\"42.3529\" ry=\"19.6\"/>\n<text text-anchor=\"middle\" x=\"58.4264\" y=\"-39.2\" font-family=\"Times,serif\" font-size=\"11.00\" fill=\"#000000\">Logistic&#45;</text>\n<text text-anchor=\"middle\" x=\"58.4264\" y=\"-27.2\" font-family=\"Times,serif\" font-size=\"11.00\" fill=\"#000000\">Regression</text>\n</a>\n</g>\n</g>\n</g>\n</svg>\n"
          },
          "metadata": {
            "tags": []
          }
        },
        {
          "output_type": "display_data",
          "data": {
            "text/plain": [
              "<graphviz.dot.Digraph at 0x7f2682c8d710>"
            ],
            "image/svg+xml": "<?xml version=\"1.0\" encoding=\"UTF-8\" standalone=\"no\"?>\n<!DOCTYPE svg PUBLIC \"-//W3C//DTD SVG 1.1//EN\"\n \"http://www.w3.org/Graphics/SVG/1.1/DTD/svg11.dtd\">\n<!-- Generated by graphviz version 2.40.1 (20161225.0304)\n -->\n<!-- Title: cluster:(root) Pages: 1 -->\n<svg width=\"311pt\" height=\"234pt\"\n viewBox=\"0.00 0.00 311.13 234.00\" xmlns=\"http://www.w3.org/2000/svg\" xmlns:xlink=\"http://www.w3.org/1999/xlink\">\n<g id=\"graph0\" class=\"graph\" transform=\"scale(1 1) rotate(0) translate(4 230)\">\n<title>cluster:(root)</title>\n<g id=\"a_graph0\"><a xlink:title=\"(root) = ...\">\n<polygon fill=\"#ffffff\" stroke=\"transparent\" points=\"-4,4 -4,-230 307.1337,-230 307.1337,4 -4,4\"/>\n</a>\n</g>\n<g id=\"clust1\" class=\"cluster\">\n<title>cluster:choice_0</title>\n<g id=\"a_clust1\"><a xlink:title=\"choice_0 = type_0 | no_op | nystroem | type_1\">\n<polygon fill=\"#7ec0ee\" stroke=\"#000000\" points=\"8,-8 8,-216 84.2809,-216 84.2809,-8 8,-8\"/>\n<text text-anchor=\"middle\" x=\"46.1404\" y=\"-200.8\" font-family=\"Times,serif\" font-size=\"14.00\" fill=\"#000000\">Choice</text>\n</a>\n</g>\n</g>\n<g id=\"clust2\" class=\"cluster\">\n<title>cluster:choice_1</title>\n<g id=\"a_clust2\"><a xlink:title=\"choice_1 = logistic_regression\">\n<polygon fill=\"#7ec0ee\" stroke=\"#000000\" points=\"194.2809,-139 194.2809,-218 295.1337,-218 295.1337,-139 194.2809,-139\"/>\n<text text-anchor=\"middle\" x=\"244.7073\" y=\"-202.8\" font-family=\"Times,serif\" font-size=\"14.00\" fill=\"#000000\">Choice</text>\n</a>\n</g>\n</g>\n<!-- type_0 -->\n<g id=\"node1\" class=\"node\">\n<title>type_0</title>\n<g id=\"a_node1\"><a xlink:title=\"type_0 = type\">\n<ellipse fill=\"#7ec0ee\" stroke=\"#000000\" cx=\"46.1404\" cy=\"-167\" rx=\"27\" ry=\"18\"/>\n<text text-anchor=\"middle\" x=\"46.1404\" y=\"-164.2\" font-family=\"Times,serif\" font-size=\"11.00\" fill=\"#000000\">type</text>\n</a>\n</g>\n</g>\n<!-- tfm -->\n<g id=\"node5\" class=\"node\">\n<title>tfm</title>\n<g id=\"a_node5\"><a xlink:href=\"https://lale.readthedocs.io/en/latest/modules/lale.lib.sklearn.pca.html\" xlink:title=\"tfm = tfm\">\n<ellipse fill=\"#7ec0ee\" stroke=\"#000000\" cx=\"139.2809\" cy=\"-167\" rx=\"27\" ry=\"18\"/>\n<text text-anchor=\"middle\" x=\"139.2809\" y=\"-164.2\" font-family=\"Times,serif\" font-size=\"11.00\" fill=\"#000000\">tfm</text>\n</a>\n</g>\n</g>\n<!-- type_0&#45;&gt;tfm -->\n<g id=\"edge1\" class=\"edge\">\n<title>type_0&#45;&gt;tfm</title>\n<path fill=\"none\" stroke=\"#000000\" d=\"M84.2792,-167C90.138,-167 96.1811,-167 102.0205,-167\"/>\n<polygon fill=\"#000000\" stroke=\"#000000\" points=\"102.0356,-170.5001 112.0356,-167 102.0355,-163.5001 102.0356,-170.5001\"/>\n</g>\n<!-- no_op -->\n<g id=\"node2\" class=\"node\">\n<title>no_op</title>\n<g id=\"a_node2\"><a xlink:href=\"https://lale.readthedocs.io/en/latest/modules/lale.lib.lale.no_op.html\" xlink:title=\"no_op = NoOp\">\n<ellipse fill=\"#ffffff\" stroke=\"#000000\" cx=\"46.1404\" cy=\"-122\" rx=\"27\" ry=\"19.6\"/>\n<text text-anchor=\"middle\" x=\"46.1404\" y=\"-125.2\" font-family=\"Times,serif\" font-size=\"11.00\" fill=\"#000000\">No&#45;</text>\n<text text-anchor=\"middle\" x=\"46.1404\" y=\"-113.2\" font-family=\"Times,serif\" font-size=\"11.00\" fill=\"#000000\">Op</text>\n</a>\n</g>\n</g>\n<!-- nystroem -->\n<g id=\"node3\" class=\"node\">\n<title>nystroem</title>\n<g id=\"a_node3\"><a xlink:href=\"https://lale.readthedocs.io/en/latest/modules/lale.lib.sklearn.nystroem.html\" xlink:title=\"nystroem = Nystroem\">\n<ellipse fill=\"#7ec0ee\" stroke=\"#000000\" cx=\"46.1404\" cy=\"-77\" rx=\"30.2815\" ry=\"18\"/>\n<text text-anchor=\"middle\" x=\"46.1404\" y=\"-74.2\" font-family=\"Times,serif\" font-size=\"11.00\" fill=\"#000000\">Nystroem</text>\n</a>\n</g>\n</g>\n<!-- type_1 -->\n<g id=\"node4\" class=\"node\">\n<title>type_1</title>\n<g id=\"a_node4\"><a xlink:title=\"type_1 = type\">\n<ellipse fill=\"#7ec0ee\" stroke=\"#000000\" cx=\"46.1404\" cy=\"-34\" rx=\"27\" ry=\"18\"/>\n<text text-anchor=\"middle\" x=\"46.1404\" y=\"-31.2\" font-family=\"Times,serif\" font-size=\"11.00\" fill=\"#000000\">type</text>\n</a>\n</g>\n</g>\n<!-- logistic_regression -->\n<g id=\"node6\" class=\"node\">\n<title>logistic_regression</title>\n<g id=\"a_node6\"><a xlink:href=\"https://lale.readthedocs.io/en/latest/modules/lale.lib.sklearn.logistic_regression.html\" xlink:title=\"logistic_regression = LogisticRegression\">\n<ellipse fill=\"#7ec0ee\" stroke=\"#000000\" cx=\"244.7073\" cy=\"-167\" rx=\"42.3529\" ry=\"19.6\"/>\n<text text-anchor=\"middle\" x=\"244.7073\" y=\"-170.2\" font-family=\"Times,serif\" font-size=\"11.00\" fill=\"#000000\">Logistic&#45;</text>\n<text text-anchor=\"middle\" x=\"244.7073\" y=\"-158.2\" font-family=\"Times,serif\" font-size=\"11.00\" fill=\"#000000\">Regression</text>\n</a>\n</g>\n</g>\n<!-- tfm&#45;&gt;logistic_regression -->\n<g id=\"edge2\" class=\"edge\">\n<title>tfm&#45;&gt;logistic_regression</title>\n<path fill=\"none\" stroke=\"#000000\" d=\"M166.4308,-167C174.2363,-167 183.0284,-167 191.8268,-167\"/>\n<polygon fill=\"#000000\" stroke=\"#000000\" points=\"184.281,-170.5004 194.2809,-167 184.2807,-163.5004 184.281,-170.5004\"/>\n</g>\n</g>\n</svg>\n"
          },
          "metadata": {
            "tags": []
          }
        },
        {
          "output_type": "stream",
          "text": [
            "simplifyAll: '{'default': True}' has unknown type\n",
            "simplifyAll: '{'default': True}' has unknown type\n",
            "simplifyAll: '{'default': True}' has unknown type\n",
            "simplifyAll: '{'default': 'l2'}' has unknown type\n",
            "simplifyAll: '{'default': True}' has unknown type\n",
            "simplifyAll: '{'default': True}' has unknown type\n",
            "simplifyAll: '{'default': True}' has unknown type\n",
            "simplifyAll: '{'default': True}' has unknown type\n",
            "simplifyAll: '{'default': 'l2'}' has unknown type\n",
            "simplifyAll: '{'default': True}' has unknown type\n"
          ],
          "name": "stderr"
        },
        {
          "output_type": "stream",
          "text": [
            "100%|██████████| 5/5 [32:13<00:00, 386.70s/trial, best loss: -0.5321739130434782]\n"
          ],
          "name": "stdout"
        },
        {
          "output_type": "display_data",
          "data": {
            "text/plain": [
              "<graphviz.dot.Digraph at 0x7f25f7a77978>"
            ],
            "image/svg+xml": "<?xml version=\"1.0\" encoding=\"UTF-8\" standalone=\"no\"?>\n<!DOCTYPE svg PUBLIC \"-//W3C//DTD SVG 1.1//EN\"\n \"http://www.w3.org/Graphics/SVG/1.1/DTD/svg11.dtd\">\n<!-- Generated by graphviz version 2.40.1 (20161225.0304)\n -->\n<!-- Title: cluster:(root) Pages: 1 -->\n<svg width=\"279pt\" height=\"48pt\"\n viewBox=\"0.00 0.00 279.13 47.60\" xmlns=\"http://www.w3.org/2000/svg\" xmlns:xlink=\"http://www.w3.org/1999/xlink\">\n<g id=\"graph0\" class=\"graph\" transform=\"scale(1 1) rotate(0) translate(4 43.598)\">\n<title>cluster:(root)</title>\n<g id=\"a_graph0\"><a xlink:title=\"(root) = ...\">\n<polygon fill=\"#ffffff\" stroke=\"transparent\" points=\"-4,4 -4,-43.598 275.1337,-43.598 275.1337,4 -4,4\"/>\n</a>\n</g>\n<!-- nystroem -->\n<g id=\"node1\" class=\"node\">\n<title>nystroem</title>\n<g id=\"a_node1\"><a xlink:href=\"https://lale.readthedocs.io/en/latest/modules/lale.lib.sklearn.nystroem.html\" xlink:title=\"nystroem = Nystroem(degree=5, gamma=5.916041823223248, kernel=&#39;additive_chi2&#39;, n_components=175)\">\n<ellipse fill=\"#ffffff\" stroke=\"#000000\" cx=\"30.1404\" cy=\"-19.799\" rx=\"30.2815\" ry=\"18\"/>\n<text text-anchor=\"middle\" x=\"30.1404\" y=\"-16.999\" font-family=\"Times,serif\" font-size=\"11.00\" fill=\"#000000\">Nystroem</text>\n</a>\n</g>\n</g>\n<!-- tfm -->\n<g id=\"node2\" class=\"node\">\n<title>tfm</title>\n<g id=\"a_node2\"><a xlink:href=\"https://lale.readthedocs.io/en/latest/modules/lale.lib.sklearn.pca.html\" xlink:title=\"tfm = tfm(svd_solver=&#39;randomized&#39;)\">\n<ellipse fill=\"#ffffff\" stroke=\"#000000\" cx=\"123.2809\" cy=\"-19.799\" rx=\"27\" ry=\"18\"/>\n<text text-anchor=\"middle\" x=\"123.2809\" y=\"-16.999\" font-family=\"Times,serif\" font-size=\"11.00\" fill=\"#000000\">tfm</text>\n</a>\n</g>\n</g>\n<!-- nystroem&#45;&gt;tfm -->\n<g id=\"edge1\" class=\"edge\">\n<title>nystroem&#45;&gt;tfm</title>\n<path fill=\"none\" stroke=\"#000000\" d=\"M60.3805,-19.799C68.5374,-19.799 77.4596,-19.799 85.9544,-19.799\"/>\n<polygon fill=\"#000000\" stroke=\"#000000\" points=\"86.0239,-23.2991 96.0238,-19.799 86.0238,-16.2991 86.0239,-23.2991\"/>\n</g>\n<!-- logistic_regression -->\n<g id=\"node3\" class=\"node\">\n<title>logistic_regression</title>\n<g id=\"a_node3\"><a xlink:href=\"https://lale.readthedocs.io/en/latest/modules/lale.lib.sklearn.logistic_regression.html\" xlink:title=\"logistic_regression = LogisticRegression(C=18021.232508849822, class_weight=&#39;balanced&#39;, multi_class=&#39;ovr&#39;, solver=&#39;liblinear&#39;, tol=0.0856386428135445)\">\n<ellipse fill=\"#ffffff\" stroke=\"#000000\" cx=\"228.7073\" cy=\"-19.799\" rx=\"42.3529\" ry=\"19.6\"/>\n<text text-anchor=\"middle\" x=\"228.7073\" y=\"-22.999\" font-family=\"Times,serif\" font-size=\"11.00\" fill=\"#000000\">Logistic&#45;</text>\n<text text-anchor=\"middle\" x=\"228.7073\" y=\"-10.999\" font-family=\"Times,serif\" font-size=\"11.00\" fill=\"#000000\">Regression</text>\n</a>\n</g>\n</g>\n<!-- tfm&#45;&gt;logistic_regression -->\n<g id=\"edge2\" class=\"edge\">\n<title>tfm&#45;&gt;logistic_regression</title>\n<path fill=\"none\" stroke=\"#000000\" d=\"M150.4308,-19.799C158.2363,-19.799 167.0284,-19.799 175.8268,-19.799\"/>\n<polygon fill=\"#000000\" stroke=\"#000000\" points=\"176.0994,-23.2991 186.0994,-19.799 176.0993,-16.2991 176.0994,-23.2991\"/>\n</g>\n</g>\n</svg>\n"
          },
          "metadata": {
            "tags": []
          }
        }
      ]
    },
    {
      "cell_type": "markdown",
      "metadata": {
        "colab_type": "text",
        "id": "FFU6vIcCbMOv"
      },
      "source": [
        "CV Score"
      ]
    },
    {
      "cell_type": "code",
      "metadata": {
        "colab_type": "code",
        "id": "y5abYEsQZ6sH",
        "colab": {
          "base_uri": "https://localhost:8080/",
          "height": 130
        },
        "outputId": "60b7ba45-d0f3-4c70-84ab-4997ef753de7"
      },
      "source": [
        "#import optuna.integration.lightgbm as lgb_tuner\n",
        "from sklearn.model_selection import cross_val_score\n",
        "#from sklearn.model_selection import cross_val_predict\n",
        "#from sklearn.model_selection import KFold\n",
        "from sklearn.model_selection import StratifiedKFold\n",
        "str_all_print = 'n_features_to_select:' + str(n_features_to_select) + '\\n'\n",
        "if is_k_fold:\n",
        "    print('評価指標:' + input_evaluation.value)\n",
        "    str_print = ''\n",
        "    kf = StratifiedKFold(n_splits=5, shuffle=True, random_state=0)\n",
        "    #kf = StratifiedKFold(shuffle=True, random_state=0)\n",
        "    clf = load(out_put_data_dir + 'mixed' + '_classiffier.joblib')\n",
        "    cv_results = cross_val_score(clf,\n",
        "                                X_ohe, y,\n",
        "                                cv=kf,\n",
        "                                scoring=evaluation_list[input_evaluation.value])  \n",
        "    str_print = '----------' + '\\n' + 'algorithm:' + str('mixed') + '\\n' + 'cv_results:' + str(cv_results) + '\\n' + 'avg +- std_dev ' + str(cv_results.mean()) + '+-' + str(cv_results.std()) + '\\n'\n",
        "    print(str_print)\n",
        "    str_all_print += str_print\n",
        "    import datetime\n",
        "    with open(out_put_data_dir + 'cv_results' + '_' + datetime.datetime.now().strftime('%Y%m%d%H%M%S') + '.txt', mode='w') as f:\n",
        "        f.write(str_all_print)"
      ],
      "execution_count": null,
      "outputs": [
        {
          "output_type": "stream",
          "text": [
            "評価指標:Accuracy\n",
            "----------\n",
            "algorithm:mixed\n",
            "cv_results:[0.53565217 0.53761815 0.53141777 0.53678639 0.53534972]\n",
            "avg +- std_dev 0.5353648393194707+-0.0021335582110909427\n",
            "\n"
          ],
          "name": "stdout"
        }
      ]
    },
    {
      "cell_type": "code",
      "metadata": {
        "colab_type": "code",
        "id": "Hw6FhMrAmCbe",
        "colab": {
          "base_uri": "https://localhost:8080/",
          "height": 137
        },
        "outputId": "1ab1a143-6d9a-45fc-b423-e58bfb04291d"
      },
      "source": [
        "scores = {}\n",
        "if is_holdout:\n",
        "    evaluation(scores, X_train, y_train, 'train', evaluation_function_list, input_evaluation, is_predict_proba)\n",
        "    evaluation(scores, X_valid, y_valid, 'valid', evaluation_function_list, input_evaluation, is_predict_proba)\n",
        "else:\n",
        "    evaluation(scores, X_train, y_train, 'train', evaluation_function_list, input_evaluation, is_predict_proba)\n",
        "# sort score\n",
        "#sorted_score = sorted(scores.items(), key=lambda x:-x[1])\n",
        "print('評価指標:' + input_evaluation.value)\n",
        "if is_holdout:\n",
        "    display(pd.Series(scores).unstack().sort_values(by=['train', 'valid']))\n",
        "else:\n",
        "    display(pd.Series(scores).unstack().sort_values(by=['train']))"
      ],
      "execution_count": null,
      "outputs": [
        {
          "output_type": "stream",
          "text": [
            "Accuracy\n",
            "mixed\n",
            "評価指標:Accuracy\n"
          ],
          "name": "stdout"
        },
        {
          "output_type": "display_data",
          "data": {
            "text/html": [
              "<div>\n",
              "<style scoped>\n",
              "    .dataframe tbody tr th:only-of-type {\n",
              "        vertical-align: middle;\n",
              "    }\n",
              "\n",
              "    .dataframe tbody tr th {\n",
              "        vertical-align: top;\n",
              "    }\n",
              "\n",
              "    .dataframe thead th {\n",
              "        text-align: right;\n",
              "    }\n",
              "</style>\n",
              "<table border=\"1\" class=\"dataframe\">\n",
              "  <thead>\n",
              "    <tr style=\"text-align: right;\">\n",
              "      <th></th>\n",
              "      <th>train</th>\n",
              "    </tr>\n",
              "  </thead>\n",
              "  <tbody>\n",
              "    <tr>\n",
              "      <th>mixed</th>\n",
              "      <td>0.535365</td>\n",
              "    </tr>\n",
              "  </tbody>\n",
              "</table>\n",
              "</div>"
            ],
            "text/plain": [
              "          train\n",
              "mixed  0.535365"
            ]
          },
          "metadata": {
            "tags": []
          }
        }
      ]
    },
    {
      "cell_type": "code",
      "metadata": {
        "colab_type": "code",
        "id": "WbjWPvuEcfUa",
        "colab": {}
      },
      "source": [
        "def input_test_file(filename, my_dtype, id_label):\n",
        "    df_s = pd.read_csv(filename, header=0, dtype=my_dtype)\n",
        "    display(df_s.head())\n",
        "    X_s  = df_s.drop(id_label, axis=1)\n",
        "    df_s = df_s.reset_index(drop=True)\n",
        "    return df_s, X_s"
      ],
      "execution_count": null,
      "outputs": []
    },
    {
      "cell_type": "code",
      "metadata": {
        "id": "cpG09kQtLnyO",
        "colab_type": "code",
        "colab": {}
      },
      "source": [
        "import datetime\n",
        "def output_file(output_data_dir, n_features_to_select, target_label, df, id_label, y, model_name, extension, header=True):\n",
        "    publish_file_name = output_data_dir + \"submission_\" + model_name + \"_\" + str(n_features_to_select) + \"_\" +  datetime.datetime.now().strftime('%Y%m%d%H%M%S') + \".\" + extension\n",
        "    file_name = output_data_dir + \"submission_\" + model_name + \".\" + extension\n",
        "    separator = ','\n",
        "    df_output = pd.concat([df[id_label], pd.DataFrame(y, columns=target_label)], axis=1)\n",
        "    df_output.to_csv(publish_file_name, index=False, sep=separator, header=header)\n",
        "    df_output.to_csv(file_name, index=False, sep=separator, header=header)"
      ],
      "execution_count": null,
      "outputs": []
    },
    {
      "cell_type": "code",
      "metadata": {
        "colab_type": "code",
        "id": "9xaTzyIzTcnX",
        "colab": {
          "base_uri": "https://localhost:8080/",
          "height": 181,
          "referenced_widgets": [
            "9dfec55546154c41a7d94ce9dc3c655f",
            "7696a764579144c585997e29cf0a9035",
            "eafa81c36a4c4923b74293ce7a2d0c23"
          ]
        },
        "outputId": "2597d9ba-1c74-41c5-876f-477af455db99"
      },
      "source": [
        "input_algorithm = function.choice(options_algorithm)"
      ],
      "execution_count": null,
      "outputs": [
        {
          "output_type": "display_data",
          "data": {
            "application/vnd.jupyter.widget-view+json": {
              "model_id": "9dfec55546154c41a7d94ce9dc3c655f",
              "version_minor": 0,
              "version_major": 2
            },
            "text/plain": [
              "RadioButtons(options=('lightgbm', 'xgboost', 'catboost', 'rsvc', 'logistic', 'rf', 'gb', 'mlp'), value='lightg…"
            ]
          },
          "metadata": {
            "tags": []
          }
        }
      ]
    },
    {
      "cell_type": "code",
      "metadata": {
        "colab_type": "code",
        "id": "1HW5647I4KCB",
        "colab": {}
      },
      "source": [
        "import datetime\n",
        "# 永続化したデータ読込し、 同じ評価指標ではtrain_modelは一度のみ実行で、かつ、選択されたモデルでスコアリングする\n",
        "def main():\n",
        "    algorithm_name = 'mixed'\n",
        "    df_s, X_s = input_test_file(test_file_name, my_dtype, id_label)\n",
        "    X_s = transform_data(X_s)\n",
        "    X_ohe_s = function.one_hot_encoding(X_s, ohe_columns)\n",
        "    X_predicted = function.preprocessing2(out_put_data_dir, model_columns_file_name, algorithm_name, X_ohe, X_ohe_s)\n",
        "    predict = scoring(algorithm_name, X_predicted, input_evaluation, is_predict_proba);\n",
        "    output_file(out_put_data_dir, n_features_to_select, target_label, df_s, id_label, predict, algorithm_name, file_extention, header=is_header)\n",
        "    print(input_evaluation.value + ' selected')\n",
        "    print(algorithm_name + ' selected')"
      ],
      "execution_count": null,
      "outputs": []
    },
    {
      "cell_type": "code",
      "metadata": {
        "colab_type": "code",
        "id": "nalehpK6jyoH",
        "colab": {
          "base_uri": "https://localhost:8080/",
          "height": 338
        },
        "outputId": "bd134c91-e378-42a8-e419-5267ff5adcd2"
      },
      "source": [
        "if __name__ == '__main__':\n",
        "    main()"
      ],
      "execution_count": null,
      "outputs": [
        {
          "output_type": "display_data",
          "data": {
            "text/html": [
              "<div>\n",
              "<style scoped>\n",
              "    .dataframe tbody tr th:only-of-type {\n",
              "        vertical-align: middle;\n",
              "    }\n",
              "\n",
              "    .dataframe tbody tr th {\n",
              "        vertical-align: top;\n",
              "    }\n",
              "\n",
              "    .dataframe thead th {\n",
              "        text-align: right;\n",
              "    }\n",
              "</style>\n",
              "<table border=\"1\" class=\"dataframe\">\n",
              "  <thead>\n",
              "    <tr style=\"text-align: right;\">\n",
              "      <th></th>\n",
              "      <th>id</th>\n",
              "      <th>period</th>\n",
              "      <th>game-ver</th>\n",
              "      <th>lobby-mode</th>\n",
              "      <th>lobby</th>\n",
              "      <th>mode</th>\n",
              "      <th>stage</th>\n",
              "      <th>A1-weapon</th>\n",
              "      <th>A1-rank</th>\n",
              "      <th>A1-level</th>\n",
              "      <th>A2-weapon</th>\n",
              "      <th>A2-rank</th>\n",
              "      <th>A2-level</th>\n",
              "      <th>A3-weapon</th>\n",
              "      <th>A3-rank</th>\n",
              "      <th>A3-level</th>\n",
              "      <th>A4-weapon</th>\n",
              "      <th>A4-rank</th>\n",
              "      <th>A4-level</th>\n",
              "      <th>B1-weapon</th>\n",
              "      <th>B1-rank</th>\n",
              "      <th>B1-level</th>\n",
              "      <th>B2-weapon</th>\n",
              "      <th>B2-rank</th>\n",
              "      <th>B2-level</th>\n",
              "      <th>B3-weapon</th>\n",
              "      <th>B3-rank</th>\n",
              "      <th>B3-level</th>\n",
              "      <th>B4-weapon</th>\n",
              "      <th>B4-rank</th>\n",
              "      <th>B4-level</th>\n",
              "    </tr>\n",
              "  </thead>\n",
              "  <tbody>\n",
              "    <tr>\n",
              "      <th>0</th>\n",
              "      <td>1</td>\n",
              "      <td>2019-12-17T12:00:00+00:00</td>\n",
              "      <td>5.0.1</td>\n",
              "      <td>gachi</td>\n",
              "      <td>standard</td>\n",
              "      <td>area</td>\n",
              "      <td>hakofugu</td>\n",
              "      <td>prime_collabo</td>\n",
              "      <td>x</td>\n",
              "      <td>174.0</td>\n",
              "      <td>herospinner_replica</td>\n",
              "      <td>x</td>\n",
              "      <td>130.0</td>\n",
              "      <td>nzap89</td>\n",
              "      <td>x</td>\n",
              "      <td>127.0</td>\n",
              "      <td>nova_becchu</td>\n",
              "      <td>x</td>\n",
              "      <td>233.0</td>\n",
              "      <td>furo</td>\n",
              "      <td>x</td>\n",
              "      <td>160.0</td>\n",
              "      <td>nautilus47</td>\n",
              "      <td>x</td>\n",
              "      <td>151.0</td>\n",
              "      <td>l3reelgun_d</td>\n",
              "      <td>x</td>\n",
              "      <td>213.0</td>\n",
              "      <td>nzap89</td>\n",
              "      <td>x</td>\n",
              "      <td>306.0</td>\n",
              "    </tr>\n",
              "    <tr>\n",
              "      <th>1</th>\n",
              "      <td>2</td>\n",
              "      <td>2019-11-25T16:00:00+00:00</td>\n",
              "      <td>5.0.1</td>\n",
              "      <td>gachi</td>\n",
              "      <td>standard</td>\n",
              "      <td>asari</td>\n",
              "      <td>anchovy</td>\n",
              "      <td>prime_becchu</td>\n",
              "      <td>s+</td>\n",
              "      <td>363.0</td>\n",
              "      <td>nzap89</td>\n",
              "      <td>s+</td>\n",
              "      <td>59.0</td>\n",
              "      <td>dynamo_becchu</td>\n",
              "      <td>s+</td>\n",
              "      <td>36.0</td>\n",
              "      <td>rapid_becchu</td>\n",
              "      <td>s+</td>\n",
              "      <td>225.0</td>\n",
              "      <td>furo</td>\n",
              "      <td>s+</td>\n",
              "      <td>326.0</td>\n",
              "      <td>dualsweeper_custom</td>\n",
              "      <td>s+</td>\n",
              "      <td>289.0</td>\n",
              "      <td>prime_becchu</td>\n",
              "      <td>s+</td>\n",
              "      <td>147.0</td>\n",
              "      <td>splatroller</td>\n",
              "      <td>s+</td>\n",
              "      <td>156.0</td>\n",
              "    </tr>\n",
              "    <tr>\n",
              "      <th>2</th>\n",
              "      <td>3</td>\n",
              "      <td>2019-10-22T08:00:00+00:00</td>\n",
              "      <td>5.0.1</td>\n",
              "      <td>gachi</td>\n",
              "      <td>standard</td>\n",
              "      <td>area</td>\n",
              "      <td>mutsugoro</td>\n",
              "      <td>furo_deco</td>\n",
              "      <td>s</td>\n",
              "      <td>116.0</td>\n",
              "      <td>bold</td>\n",
              "      <td>s</td>\n",
              "      <td>125.0</td>\n",
              "      <td>nzap85</td>\n",
              "      <td>s</td>\n",
              "      <td>124.0</td>\n",
              "      <td>wakaba</td>\n",
              "      <td>s</td>\n",
              "      <td>181.0</td>\n",
              "      <td>splatroller</td>\n",
              "      <td>s</td>\n",
              "      <td>76.0</td>\n",
              "      <td>momiji</td>\n",
              "      <td>s</td>\n",
              "      <td>232.0</td>\n",
              "      <td>nzap83</td>\n",
              "      <td>s</td>\n",
              "      <td>183.0</td>\n",
              "      <td>promodeler_pg</td>\n",
              "      <td>s</td>\n",
              "      <td>105.0</td>\n",
              "    </tr>\n",
              "    <tr>\n",
              "      <th>3</th>\n",
              "      <td>4</td>\n",
              "      <td>2019-12-30T04:00:00+00:00</td>\n",
              "      <td>5.0.1</td>\n",
              "      <td>gachi</td>\n",
              "      <td>standard</td>\n",
              "      <td>asari</td>\n",
              "      <td>devon</td>\n",
              "      <td>prime_becchu</td>\n",
              "      <td>s+</td>\n",
              "      <td>192.0</td>\n",
              "      <td>splatspinner_collabo</td>\n",
              "      <td>s+</td>\n",
              "      <td>115.0</td>\n",
              "      <td>pablo</td>\n",
              "      <td>s+</td>\n",
              "      <td>171.0</td>\n",
              "      <td>dualsweeper_custom</td>\n",
              "      <td>s+</td>\n",
              "      <td>170.0</td>\n",
              "      <td>momiji</td>\n",
              "      <td>s+</td>\n",
              "      <td>90.0</td>\n",
              "      <td>quadhopper_black</td>\n",
              "      <td>s+</td>\n",
              "      <td>119.0</td>\n",
              "      <td>soytuber</td>\n",
              "      <td>s+</td>\n",
              "      <td>172.0</td>\n",
              "      <td>prime</td>\n",
              "      <td>s+</td>\n",
              "      <td>70.0</td>\n",
              "    </tr>\n",
              "    <tr>\n",
              "      <th>4</th>\n",
              "      <td>5</td>\n",
              "      <td>2019-10-15T16:00:00+00:00</td>\n",
              "      <td>5.0.1</td>\n",
              "      <td>gachi</td>\n",
              "      <td>standard</td>\n",
              "      <td>yagura</td>\n",
              "      <td>anchovy</td>\n",
              "      <td>l3reelgun_d</td>\n",
              "      <td>x</td>\n",
              "      <td>267.0</td>\n",
              "      <td>rapid_becchu</td>\n",
              "      <td>x</td>\n",
              "      <td>223.0</td>\n",
              "      <td>heroroller_replica</td>\n",
              "      <td>x</td>\n",
              "      <td>240.0</td>\n",
              "      <td>hydra_custom</td>\n",
              "      <td>x</td>\n",
              "      <td>190.0</td>\n",
              "      <td>nzap83</td>\n",
              "      <td>x</td>\n",
              "      <td>259.0</td>\n",
              "      <td>sshooter_becchu</td>\n",
              "      <td>x</td>\n",
              "      <td>198.0</td>\n",
              "      <td>splatscope</td>\n",
              "      <td>x</td>\n",
              "      <td>50.0</td>\n",
              "      <td>screwslosher_becchu</td>\n",
              "      <td>x</td>\n",
              "      <td>287.0</td>\n",
              "    </tr>\n",
              "  </tbody>\n",
              "</table>\n",
              "</div>"
            ],
            "text/plain": [
              "   id                     period game-ver lobby-mode     lobby    mode  \\\n",
              "0   1  2019-12-17T12:00:00+00:00    5.0.1      gachi  standard    area   \n",
              "1   2  2019-11-25T16:00:00+00:00    5.0.1      gachi  standard   asari   \n",
              "2   3  2019-10-22T08:00:00+00:00    5.0.1      gachi  standard    area   \n",
              "3   4  2019-12-30T04:00:00+00:00    5.0.1      gachi  standard   asari   \n",
              "4   5  2019-10-15T16:00:00+00:00    5.0.1      gachi  standard  yagura   \n",
              "\n",
              "       stage      A1-weapon A1-rank  A1-level             A2-weapon A2-rank  \\\n",
              "0   hakofugu  prime_collabo       x     174.0   herospinner_replica       x   \n",
              "1    anchovy   prime_becchu      s+     363.0                nzap89      s+   \n",
              "2  mutsugoro      furo_deco       s     116.0                  bold       s   \n",
              "3      devon   prime_becchu      s+     192.0  splatspinner_collabo      s+   \n",
              "4    anchovy    l3reelgun_d       x     267.0          rapid_becchu       x   \n",
              "\n",
              "   A2-level           A3-weapon A3-rank  A3-level           A4-weapon A4-rank  \\\n",
              "0     130.0              nzap89       x     127.0         nova_becchu       x   \n",
              "1      59.0       dynamo_becchu      s+      36.0        rapid_becchu      s+   \n",
              "2     125.0              nzap85       s     124.0              wakaba       s   \n",
              "3     115.0               pablo      s+     171.0  dualsweeper_custom      s+   \n",
              "4     223.0  heroroller_replica       x     240.0        hydra_custom       x   \n",
              "\n",
              "   A4-level    B1-weapon B1-rank  B1-level           B2-weapon B2-rank  \\\n",
              "0     233.0         furo       x     160.0          nautilus47       x   \n",
              "1     225.0         furo      s+     326.0  dualsweeper_custom      s+   \n",
              "2     181.0  splatroller       s      76.0              momiji       s   \n",
              "3     170.0       momiji      s+      90.0    quadhopper_black      s+   \n",
              "4     190.0       nzap83       x     259.0     sshooter_becchu       x   \n",
              "\n",
              "   B2-level     B3-weapon B3-rank  B3-level            B4-weapon B4-rank  \\\n",
              "0     151.0   l3reelgun_d       x     213.0               nzap89       x   \n",
              "1     289.0  prime_becchu      s+     147.0          splatroller      s+   \n",
              "2     232.0        nzap83       s     183.0        promodeler_pg       s   \n",
              "3     119.0      soytuber      s+     172.0                prime      s+   \n",
              "4     198.0    splatscope       x      50.0  screwslosher_becchu       x   \n",
              "\n",
              "   B4-level  \n",
              "0     306.0  \n",
              "1     156.0  \n",
              "2     105.0  \n",
              "3      70.0  \n",
              "4     287.0  "
            ]
          },
          "metadata": {
            "tags": []
          }
        },
        {
          "output_type": "stream",
          "text": [
            "モデルのみに存在する項目: set()\n",
            "スコアのみに存在する項目: set()\n",
            "mixed\n",
            "Accuracy selected\n",
            "mixed selected\n"
          ],
          "name": "stdout"
        }
      ]
    }
  ]
}