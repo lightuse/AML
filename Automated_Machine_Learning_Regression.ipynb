{
  "nbformat": 4,
  "nbformat_minor": 0,
  "metadata": {
    "colab": {
      "name": "Automated Machine Learning Regression",
      "provenance": [],
      "collapsed_sections": [],
      "authorship_tag": "ABX9TyM//TljJPyJ0mBsAyD9ZLaD",
      "include_colab_link": true
    },
    "kernelspec": {
      "name": "python3",
      "display_name": "Python 3"
    },
    "widgets": {
      "application/vnd.jupyter.widget-state+json": {
        "e24726ddcb6b4376a20d8107fc8bf586": {
          "model_module": "@jupyter-widgets/controls",
          "model_name": "RadioButtonsModel",
          "state": {
            "_options_labels": [
              "RMSE",
              "MAE",
              "R2"
            ],
            "_view_name": "RadioButtonsView",
            "style": "IPY_MODEL_32422fdbd6604ea6ae016b8889196102",
            "_dom_classes": [],
            "description": "",
            "_model_name": "RadioButtonsModel",
            "index": 0,
            "_view_module": "@jupyter-widgets/controls",
            "_model_module_version": "1.5.0",
            "_view_count": null,
            "disabled": false,
            "_view_module_version": "1.5.0",
            "description_tooltip": null,
            "_model_module": "@jupyter-widgets/controls",
            "layout": "IPY_MODEL_0109decd1c7d40999f82912b6ed810db"
          }
        },
        "32422fdbd6604ea6ae016b8889196102": {
          "model_module": "@jupyter-widgets/controls",
          "model_name": "DescriptionStyleModel",
          "state": {
            "_view_name": "StyleView",
            "_model_name": "DescriptionStyleModel",
            "description_width": "",
            "_view_module": "@jupyter-widgets/base",
            "_model_module_version": "1.5.0",
            "_view_count": null,
            "_view_module_version": "1.2.0",
            "_model_module": "@jupyter-widgets/controls"
          }
        },
        "0109decd1c7d40999f82912b6ed810db": {
          "model_module": "@jupyter-widgets/base",
          "model_name": "LayoutModel",
          "state": {
            "_view_name": "LayoutView",
            "grid_template_rows": null,
            "right": null,
            "justify_content": null,
            "_view_module": "@jupyter-widgets/base",
            "overflow": null,
            "_model_module_version": "1.2.0",
            "_view_count": null,
            "flex_flow": null,
            "width": null,
            "min_width": null,
            "border": null,
            "align_items": null,
            "bottom": null,
            "_model_module": "@jupyter-widgets/base",
            "top": null,
            "grid_column": null,
            "overflow_y": null,
            "overflow_x": null,
            "grid_auto_flow": null,
            "grid_area": null,
            "grid_template_columns": null,
            "flex": null,
            "_model_name": "LayoutModel",
            "justify_items": null,
            "grid_row": null,
            "max_height": null,
            "align_content": null,
            "visibility": null,
            "align_self": null,
            "height": null,
            "min_height": null,
            "padding": null,
            "grid_auto_rows": null,
            "grid_gap": null,
            "max_width": null,
            "order": null,
            "_view_module_version": "1.2.0",
            "grid_template_areas": null,
            "object_position": null,
            "object_fit": null,
            "grid_auto_columns": null,
            "margin": null,
            "display": null,
            "left": null
          }
        },
        "01fe06e29b5c4e73b319ada467582bc0": {
          "model_module": "@jupyter-widgets/controls",
          "model_name": "RadioButtonsModel",
          "state": {
            "_options_labels": [
              "ols",
              "ridge",
              "tree",
              "rf",
              "gbr1",
              "gbr2",
              "lightgbm"
            ],
            "_view_name": "RadioButtonsView",
            "style": "IPY_MODEL_1ac1585c344348f0b216f3c2724036c4",
            "_dom_classes": [],
            "description": "",
            "_model_name": "RadioButtonsModel",
            "index": 0,
            "_view_module": "@jupyter-widgets/controls",
            "_model_module_version": "1.5.0",
            "_view_count": null,
            "disabled": false,
            "_view_module_version": "1.5.0",
            "description_tooltip": null,
            "_model_module": "@jupyter-widgets/controls",
            "layout": "IPY_MODEL_6dc727a4715e4ab3a7b9ff476f75259d"
          }
        },
        "1ac1585c344348f0b216f3c2724036c4": {
          "model_module": "@jupyter-widgets/controls",
          "model_name": "DescriptionStyleModel",
          "state": {
            "_view_name": "StyleView",
            "_model_name": "DescriptionStyleModel",
            "description_width": "",
            "_view_module": "@jupyter-widgets/base",
            "_model_module_version": "1.5.0",
            "_view_count": null,
            "_view_module_version": "1.2.0",
            "_model_module": "@jupyter-widgets/controls"
          }
        },
        "6dc727a4715e4ab3a7b9ff476f75259d": {
          "model_module": "@jupyter-widgets/base",
          "model_name": "LayoutModel",
          "state": {
            "_view_name": "LayoutView",
            "grid_template_rows": null,
            "right": null,
            "justify_content": null,
            "_view_module": "@jupyter-widgets/base",
            "overflow": null,
            "_model_module_version": "1.2.0",
            "_view_count": null,
            "flex_flow": null,
            "width": null,
            "min_width": null,
            "border": null,
            "align_items": null,
            "bottom": null,
            "_model_module": "@jupyter-widgets/base",
            "top": null,
            "grid_column": null,
            "overflow_y": null,
            "overflow_x": null,
            "grid_auto_flow": null,
            "grid_area": null,
            "grid_template_columns": null,
            "flex": null,
            "_model_name": "LayoutModel",
            "justify_items": null,
            "grid_row": null,
            "max_height": null,
            "align_content": null,
            "visibility": null,
            "align_self": null,
            "height": null,
            "min_height": null,
            "padding": null,
            "grid_auto_rows": null,
            "grid_gap": null,
            "max_width": null,
            "order": null,
            "_view_module_version": "1.2.0",
            "grid_template_areas": null,
            "object_position": null,
            "object_fit": null,
            "grid_auto_columns": null,
            "margin": null,
            "display": null,
            "left": null
          }
        }
      }
    }
  },
  "cells": [
    {
      "cell_type": "markdown",
      "metadata": {
        "id": "view-in-github",
        "colab_type": "text"
      },
      "source": [
        "<a href=\"https://colab.research.google.com/github/lightuse/AML/blob/master/Automated_Machine_Learning_Regression.ipynb\" target=\"_parent\"><img src=\"https://colab.research.google.com/assets/colab-badge.svg\" alt=\"Open In Colab\"/></a>"
      ]
    },
    {
      "cell_type": "markdown",
      "metadata": {
        "id": "ZQ0VKbF0TBSm",
        "colab_type": "text"
      },
      "source": [
        "# supervised learning\n",
        "## Regression"
      ]
    },
    {
      "cell_type": "markdown",
      "metadata": {
        "id": "2VLl-w9W2BX0",
        "colab_type": "text"
      },
      "source": [
        "Setting"
      ]
    },
    {
      "cell_type": "code",
      "metadata": {
        "id": "W6adj8nKyT9L",
        "colab_type": "code",
        "colab": {}
      },
      "source": [
        "options_evaluation = ['R2', 'MAE:neg_mean_absolute_error',\n",
        "                      'RMSE:neg_root_mean_squared_error',\n",
        "                      'MAPE:Mean Absolute Persentage Error',\n",
        "                      'RMSPE:Root Mean Squared Persentage Error']\n",
        "options_evaluation = ['RMSE', 'MAE', 'R2']\n",
        "options_algorithm = ['ols', 'ridge', 'tree', 'rf', 'gbr1', 'gbr2', 'lightgbm']\n",
        "import numpy as np\n",
        "import lightgbm as lgb\n",
        "from sklearn.preprocessing import StandardScaler\n",
        "from sklearn.linear_model import LinearRegression,Ridge\n",
        "from sklearn.tree import DecisionTreeRegressor\n",
        "from sklearn.ensemble import RandomForestRegressor,GradientBoostingRegressor\n",
        "from sklearn.pipeline import Pipeline\n",
        "from sklearn.decomposition import PCA\n",
        "from sklearn.feature_selection import RFE\n",
        "# set pipelines for different algorithms\n",
        "pipelines = {\n",
        "    'ols': Pipeline([('scl', StandardScaler()),\n",
        "                      ('reduct', PCA(random_state=1)),\n",
        "                      ('est', LinearRegression())]),\n",
        "    'ridge':Pipeline([('scl', StandardScaler()),\n",
        "                      ('reduct', PCA(random_state=1)),\n",
        "                      ('est', Ridge(random_state=0))]),\n",
        "    'tree': Pipeline([('scl', StandardScaler()),\n",
        "                      ('reduct', PCA(random_state=1)),\n",
        "                      ('est', DecisionTreeRegressor(random_state=0))]),\n",
        "    'rf': Pipeline([('scl', StandardScaler()),\n",
        "                    ('reduct', PCA(random_state=1)),\n",
        "                    ('est', RandomForestRegressor(random_state=0))]),\n",
        "    'gbr1': Pipeline([('scl', StandardScaler()),\n",
        "                      ('reduct', PCA(random_state=1)),\n",
        "                      ('est', GradientBoostingRegressor(random_state=0))]),\n",
        "    'gbr2': Pipeline([('scl', StandardScaler()),\n",
        "                      ('reduct', PCA(random_state=1)),\n",
        "                      ('est', GradientBoostingRegressor(n_estimators=250, random_state=0))]),\n",
        "    'lightgbm': Pipeline([('scl', StandardScaler()),\n",
        "                          ('reduct', PCA(random_state=1)),\n",
        "                          ('est', lgb.LGBMRegressor(random_state=0))])     \n",
        "}\n",
        "# カテゴリ変数をリストで設定\n",
        "ohe_columns = ['bed_type',\n",
        "               'cancellation_policy',\n",
        "               'city',\n",
        "               'room_type',\n",
        "               'cleaning_fee',\n",
        "               #'property_type',\n",
        "               'instant_bookable',\n",
        "               'host_identity_verified',\n",
        "               'host_has_profile_pic']\n",
        "# カテゴリ変数をobject型で読み込むための準備\n",
        "my_dtype = {'bed_type':object,\n",
        "            'cancellation_policy':object,\n",
        "            'city':object,\n",
        "            'room_type':object,\n",
        "            'cleaning_fee':object,\n",
        "            #'property_type':object,\n",
        "            'instant_bookable':object,\n",
        "            'host_identity_verified':object,\n",
        "            'host_has_profile_pic':object}\n",
        "# 表示オプションの変更\n",
        "import pandas as pd\n",
        "pd.options.display.max_columns = 50\n",
        "id_label = 'id'\n",
        "drop_columns = []\n",
        "train_file_name = 'train.csv'\n",
        "test_file_name = 'test.csv'\n",
        "out_put_dir = ''\n",
        "# ファイル出力拡張子\n",
        "file_extention = 'csv'\n",
        "# ホールドアウト有無\n",
        "is_holdout = True"
      ],
      "execution_count": 0,
      "outputs": []
    },
    {
      "cell_type": "code",
      "metadata": {
        "id": "pTTNkzAE2FWH",
        "colab_type": "code",
        "colab": {}
      },
      "source": [
        "import pandas as pd\n",
        "import numpy as np\n",
        "def input_train_file(filename, my_dtype, id_label):\n",
        "    # set data by role\n",
        "    df = pd.read_csv(train_file_name, header=0, dtype=my_dtype)\n",
        "    # データの形式に合わせて適時修正\n",
        "    X  = df.iloc[:,:-1]\n",
        "    X = X.drop(id_label, axis=1)\n",
        "    ID = X.iloc[:,[0]]\n",
        "    y  = df.iloc[:,-1]\n",
        "    return X, y"
      ],
      "execution_count": 0,
      "outputs": []
    },
    {
      "cell_type": "code",
      "metadata": {
        "id": "5GNLkqrf2MFs",
        "colab_type": "code",
        "colab": {}
      },
      "source": [
        "# one-hot encoding\n",
        "def one_hot(X, ohe_columns):\n",
        "    X_ohe = pd.get_dummies(X,\n",
        "                          dummy_na=True,\n",
        "                          columns=ohe_columns)\n",
        "    return X_ohe"
      ],
      "execution_count": 0,
      "outputs": []
    },
    {
      "cell_type": "code",
      "metadata": {
        "id": "a8xSnJYh2Ohp",
        "colab_type": "code",
        "colab": {}
      },
      "source": [
        "# imputation\n",
        "from sklearn.impute import SimpleImputer\n",
        "def imputation(X_ohe):\n",
        "    imp = SimpleImputer(strategy='mean')\n",
        "    imp.fit(X_ohe)\n",
        "    X_ohe_columns = X_ohe.columns.values\n",
        "    X_ohe = pd.DataFrame(imp.transform(X_ohe), columns=X_ohe_columns)\n",
        "    return imp, X_ohe, X_ohe_columns"
      ],
      "execution_count": 0,
      "outputs": []
    },
    {
      "cell_type": "code",
      "metadata": {
        "id": "C2_BTK_G2TZE",
        "colab_type": "code",
        "colab": {}
      },
      "source": [
        "# train\n",
        "from joblib import dump\n",
        "def train_model(X_train, y_train):\n",
        "    # fit\n",
        "    for pipe_name, pipeline in pipelines.items():\n",
        "        clf = pipeline.fit(X_train, y_train)\n",
        "        dump(clf, pipe_name + '_regressor.joblib')"
      ],
      "execution_count": 0,
      "outputs": []
    },
    {
      "cell_type": "code",
      "metadata": {
        "id": "GlQ7cwebwWI_",
        "colab_type": "code",
        "colab": {}
      },
      "source": [
        "def input_test_file(filename, my_dtype, id_label):\n",
        "    df_s = pd.read_csv(filename,\n",
        "                      header=0,\n",
        "                      dtype=my_dtype)\n",
        "    ID_s = df_s.iloc[:,[0]]\n",
        "    X_s  = df_s.drop(id_label, axis=1)\n",
        "    return df_s, X_s"
      ],
      "execution_count": 0,
      "outputs": []
    },
    {
      "cell_type": "code",
      "metadata": {
        "id": "5qpOyzr7PeWt",
        "colab_type": "code",
        "colab": {}
      },
      "source": [
        "# preprocessing\n",
        "def preprocessing(X_s, X_ohe, X_ohe_s, imp, X_ohe_columns):\n",
        "    cols_model = set(X_ohe.columns.values)\n",
        "    cols_score = set(X_ohe_s.columns.values)\n",
        "    diff1 = cols_model - cols_score\n",
        "    diff2 = cols_score - cols_model\n",
        "    df1 = pd.DataFrame([[1,2,3]], columns=['c1','c2','c3'])\n",
        "    df2 = pd.DataFrame([[3,2,1]], columns=['c1','c2','c3'])\n",
        "    df_all = pd.concat([df1, df2])\n",
        "    df3 = pd.DataFrame([[0,1,2,3]], columns=['c0','c1','c3','c4'])\n",
        "    df_all = pd.concat([df_all, df3])\n",
        "    df_cols_m = pd.DataFrame(None, columns=X_ohe_columns, dtype=float)\n",
        "    X_ohe_s2 = pd.concat([df_cols_m, X_ohe_s])\n",
        "    set_Xm = set(X_ohe.columns.values)\n",
        "    set_Xs = set(X_ohe_s.columns.values)\n",
        "    X_ohe_s3 = X_ohe_s2.drop(list(set_Xs-set_Xm), axis=1)\n",
        "    X_ohe_s3.loc[:,list(set_Xm-set_Xs)] = X_ohe_s3.loc[:,list(set_Xm-set_Xs)].fillna(0, axis=1)\n",
        "    test = pd.DataFrame([[1,2,3]], columns=['c1','c2','c3'])\n",
        "    test = test.reindex(['c2','c3','c1'], axis=1)\n",
        "    X_ohe_s3 = X_ohe_s3.reindex(X_ohe.columns.values,axis=1)\n",
        "    X_ohe_s4 = pd.DataFrame(imp.transform(X_ohe_s3), columns=X_ohe_columns)\n",
        "    return X_ohe_s4"
      ],
      "execution_count": 0,
      "outputs": []
    },
    {
      "cell_type": "code",
      "metadata": {
        "id": "xczmTRCd1LQx",
        "colab_type": "code",
        "colab": {}
      },
      "source": [
        "import pandas as pd\n",
        "import datetime as dt\n",
        "def transform_data(X):\n",
        "    X = X.drop('amenities', axis=1)\n",
        "    X = X.drop('description', axis=1)\n",
        "    X = X.drop('name', axis=1)\n",
        "    X = X.drop('neighbourhood', axis=1)\n",
        "    X = X.drop('thumbnail_url', axis=1)\n",
        "    X = X.drop('zipcode', axis=1)\n",
        "    X = X.drop('property_type', axis=1)\n",
        "    #X = X.drop('room_type', axis=1)\n",
        "    #X = X.drop('host_since', axis=1)\n",
        "    X['first_review'] = pd.to_datetime(X['first_review']).map(pd.Timestamp.to_julian_date)\n",
        "    X['last_review'] = pd.to_datetime(X['last_review']).map(pd.Timestamp.to_julian_date)\n",
        "    X['host_since'] = pd.to_datetime(X['host_since']).map(pd.Timestamp.to_julian_date)\n",
        "    X['host_response_rate'] = X['host_response_rate'].str.strip('%')\n",
        "    return X"
      ],
      "execution_count": 0,
      "outputs": []
    },
    {
      "cell_type": "code",
      "metadata": {
        "id": "HyOEFvJP5dOU",
        "colab_type": "code",
        "colab": {}
      },
      "source": [
        "# holdout\n",
        "from sklearn.model_selection import train_test_split\n",
        "def holdout(X_ohe, y):\n",
        "    X_train, X_test, y_train, y_test = train_test_split(X_ohe,\n",
        "                                                y,\n",
        "                                                test_size=0.3,\n",
        "                                                random_state=1)\n",
        "    return X_train, X_test, y_train, y_test"
      ],
      "execution_count": 0,
      "outputs": []
    },
    {
      "cell_type": "code",
      "metadata": {
        "id": "hG4JHiGchCSV",
        "colab_type": "code",
        "colab": {}
      },
      "source": [
        "from joblib import load\n",
        "def scoring(algorithm_name, X):\n",
        "    clf = load(algorithm_name + '_regressor.joblib')\n",
        "    return clf.predict(X)"
      ],
      "execution_count": 0,
      "outputs": []
    },
    {
      "cell_type": "code",
      "metadata": {
        "id": "HJvMrGa4vGTe",
        "colab_type": "code",
        "colab": {}
      },
      "source": [
        "def evaluation(scores, X_train, y_train, text, function_evaluation):\n",
        "    for pipe_name, pipeline in pipelines.items():\n",
        "        scores[(pipe_name,text)] = function_evaluation(y_train, scoring(pipe_name, X_train))"
      ],
      "execution_count": 0,
      "outputs": []
    },
    {
      "cell_type": "code",
      "metadata": {
        "id": "053crigVoBuR",
        "colab_type": "code",
        "colab": {}
      },
      "source": [
        "def get_input(x):\n",
        "    return x"
      ],
      "execution_count": 0,
      "outputs": []
    },
    {
      "cell_type": "code",
      "metadata": {
        "id": "q7edk4EAoCby",
        "colab_type": "code",
        "colab": {}
      },
      "source": [
        "from ipywidgets import interact,interactive,fixed,interact_manual\n",
        "from IPython.display import display\n",
        "import ipywidgets as widgets\n",
        "def choice(options):\n",
        "    input = get_input(widgets.RadioButtons(options=options))\n",
        "    display(input)\n",
        "    return input"
      ],
      "execution_count": 0,
      "outputs": []
    },
    {
      "cell_type": "code",
      "metadata": {
        "id": "OjZaceOpp4rJ",
        "colab_type": "code",
        "colab": {}
      },
      "source": [
        "import datetime\n",
        "def output_file(df, id_label, y, model_name, extension, header=True):\n",
        "    file_name = \"submittion_\" + model_name + \"_\" + datetime.datetime.now().strftime('%Y%m%d%H%M%S') + \".\" + extension\n",
        "    separator = ','\n",
        "    if extension == 'tsv':\n",
        "        separator = '\\t'\n",
        "    if id_label != '':\n",
        "        pd.concat([df[id_label], pd.DataFrame(y, columns=[\"y\"])], axis=1).to_csv(file_name, index=False, sep=separator, header=header)\n",
        "    else:\n",
        "        pd.concat([df, pd.DataFrame(y, columns=[\"y\"])], axis=1).to_csv(file_name, index=False, sep=separator, header=header)"
      ],
      "execution_count": 0,
      "outputs": []
    },
    {
      "cell_type": "code",
      "metadata": {
        "id": "98a5OJ7uuezd",
        "colab_type": "code",
        "outputId": "9b4b44df-b26f-4de7-b1e1-43c736ad9535",
        "colab": {
          "base_uri": "https://localhost:8080/",
          "height": 51
        }
      },
      "source": [
        "X, y = input_train_file(train_file_name, my_dtype, id_label)\n",
        "X = transform_data(X)\n",
        "X_ohe = one_hot(X, ohe_columns)\n",
        "imp, X_ohe, X_ohe_columns = imputation(X_ohe)\n",
        "if is_holdout:\n",
        "    X_train, X_valid, y_train, y_valid = holdout(X_ohe, y)\n",
        "    train_model(X_train, y_train)\n",
        "    train_model(X_valid, y_valid)\n",
        "else:\n",
        "    train_model(X_train, y_train)"
      ],
      "execution_count": 17,
      "outputs": [
        {
          "output_type": "stream",
          "text": [
            "欠損個数（数値変数の欠損補完前）:input_train_file 62827\n",
            "欠損個数（数値変数の欠損補完前1）:hokan 50806\n"
          ],
          "name": "stdout"
        }
      ]
    },
    {
      "cell_type": "code",
      "metadata": {
        "id": "U_gDmZT3uk1S",
        "colab_type": "code",
        "outputId": "ee1e624f-2d00-4698-e4a8-3c6c13c827f7",
        "colab": {
          "base_uri": "https://localhost:8080/",
          "height": 81,
          "referenced_widgets": [
            "e24726ddcb6b4376a20d8107fc8bf586",
            "32422fdbd6604ea6ae016b8889196102",
            "0109decd1c7d40999f82912b6ed810db"
          ]
        }
      },
      "source": [
        "input_evaluation = choice(options_evaluation)"
      ],
      "execution_count": 18,
      "outputs": [
        {
          "output_type": "display_data",
          "data": {
            "application/vnd.jupyter.widget-view+json": {
              "model_id": "e24726ddcb6b4376a20d8107fc8bf586",
              "version_minor": 0,
              "version_major": 2
            },
            "text/plain": [
              "RadioButtons(options=('RMSE', 'MAE', 'R2'), value='RMSE')"
            ]
          },
          "metadata": {
            "tags": []
          }
        }
      ]
    },
    {
      "cell_type": "code",
      "metadata": {
        "id": "T0CJNwtJilLt",
        "colab_type": "code",
        "colab": {}
      },
      "source": [
        "from sklearn.metrics import mean_squared_error\n",
        "from sklearn.metrics import mean_absolute_error\n",
        "from sklearn.metrics import r2_score\n",
        "function_evaluation = mean_squared_error\n",
        "if input_evaluation.value == 'RMSE':\n",
        "    function_evaluation = mean_squared_error\n",
        "elif input_evaluation.value == 'MAE':\n",
        "    function_evaluation = mean_absolute_error\n",
        "elif input_evaluation.value == 'R2':\n",
        "    function_evaluation = r2_score"
      ],
      "execution_count": 0,
      "outputs": []
    },
    {
      "cell_type": "code",
      "metadata": {
        "id": "Mnzm8pTJvsGP",
        "colab_type": "code",
        "outputId": "11f31cb7-26c0-470d-b272-7f29e296db01",
        "colab": {
          "base_uri": "https://localhost:8080/",
          "height": 266
        }
      },
      "source": [
        "scores = {}\n",
        "if is_holdout:\n",
        "    evaluation(scores, X_train, y_train, 'train', function_evaluation)\n",
        "    evaluation(scores, X_valid, y_valid, 'valid', function_evaluation)\n",
        "else:\n",
        "    evaluation(scores, X_train, y_train, 'train', function_evaluation)\n",
        "# sort score\n",
        "#sorted_score = sorted(scores.items(), key=lambda x:-x[1])\n",
        "ascending = True\n",
        "if input_evaluation.value == 'R2':\n",
        "    ascending = False\n",
        "display(pd.Series(scores).unstack().sort_values(by='train', ascending=ascending))"
      ],
      "execution_count": 20,
      "outputs": [
        {
          "output_type": "display_data",
          "data": {
            "text/html": [
              "<div>\n",
              "<style scoped>\n",
              "    .dataframe tbody tr th:only-of-type {\n",
              "        vertical-align: middle;\n",
              "    }\n",
              "\n",
              "    .dataframe tbody tr th {\n",
              "        vertical-align: top;\n",
              "    }\n",
              "\n",
              "    .dataframe thead th {\n",
              "        text-align: right;\n",
              "    }\n",
              "</style>\n",
              "<table border=\"1\" class=\"dataframe\">\n",
              "  <thead>\n",
              "    <tr style=\"text-align: right;\">\n",
              "      <th></th>\n",
              "      <th>train</th>\n",
              "      <th>valid</th>\n",
              "    </tr>\n",
              "  </thead>\n",
              "  <tbody>\n",
              "    <tr>\n",
              "      <th>lightgbm</th>\n",
              "      <td>13597.441826</td>\n",
              "      <td>7.888959e+03</td>\n",
              "    </tr>\n",
              "    <tr>\n",
              "      <th>gbr2</th>\n",
              "      <td>13825.065761</td>\n",
              "      <td>9.356464e+03</td>\n",
              "    </tr>\n",
              "    <tr>\n",
              "      <th>rf</th>\n",
              "      <td>14080.251321</td>\n",
              "      <td>2.042016e+03</td>\n",
              "    </tr>\n",
              "    <tr>\n",
              "      <th>gbr1</th>\n",
              "      <td>14214.259734</td>\n",
              "      <td>1.179320e+04</td>\n",
              "    </tr>\n",
              "    <tr>\n",
              "      <th>ols</th>\n",
              "      <td>16116.768526</td>\n",
              "      <td>1.622624e+04</td>\n",
              "    </tr>\n",
              "    <tr>\n",
              "      <th>ridge</th>\n",
              "      <td>16318.685603</td>\n",
              "      <td>1.637708e+04</td>\n",
              "    </tr>\n",
              "    <tr>\n",
              "      <th>tree</th>\n",
              "      <td>30174.622211</td>\n",
              "      <td>1.341655e-31</td>\n",
              "    </tr>\n",
              "  </tbody>\n",
              "</table>\n",
              "</div>"
            ],
            "text/plain": [
              "                 train         valid\n",
              "lightgbm  13597.441826  7.888959e+03\n",
              "gbr2      13825.065761  9.356464e+03\n",
              "rf        14080.251321  2.042016e+03\n",
              "gbr1      14214.259734  1.179320e+04\n",
              "ols       16116.768526  1.622624e+04\n",
              "ridge     16318.685603  1.637708e+04\n",
              "tree      30174.622211  1.341655e-31"
            ]
          },
          "metadata": {
            "tags": []
          }
        }
      ]
    },
    {
      "cell_type": "code",
      "metadata": {
        "id": "9xaTzyIzTcnX",
        "colab_type": "code",
        "outputId": "5db55617-b3e8-45c9-a8c2-98ced37216ff",
        "colab": {
          "base_uri": "https://localhost:8080/",
          "height": 161,
          "referenced_widgets": [
            "01fe06e29b5c4e73b319ada467582bc0",
            "1ac1585c344348f0b216f3c2724036c4",
            "6dc727a4715e4ab3a7b9ff476f75259d"
          ]
        }
      },
      "source": [
        "input_algorithm = choice(options_algorithm)"
      ],
      "execution_count": 21,
      "outputs": [
        {
          "output_type": "display_data",
          "data": {
            "application/vnd.jupyter.widget-view+json": {
              "model_id": "01fe06e29b5c4e73b319ada467582bc0",
              "version_minor": 0,
              "version_major": 2
            },
            "text/plain": [
              "RadioButtons(options=('ols', 'ridge', 'tree', 'rf', 'gbr1', 'gbr2', 'lightgbm'), value='ols')"
            ]
          },
          "metadata": {
            "tags": []
          }
        }
      ]
    },
    {
      "cell_type": "code",
      "metadata": {
        "id": "idj1JgkxTaGb",
        "colab_type": "code",
        "outputId": "ef7a28ed-04a6-4700-c183-4819c6bde6c9",
        "colab": {
          "base_uri": "https://localhost:8080/",
          "height": 85
        }
      },
      "source": [
        "df_s, X_s = input_test_file(test_file_name, my_dtype, id_label)\n",
        "X_s = hokan(X_s)\n",
        "X_ohe_s = one_hot(X_s, ohe_columns)\n",
        "X_predicted = preprocessing(X_s, X_ohe, X_ohe_s, imp, X_ohe_columns)"
      ],
      "execution_count": 22,
      "outputs": [
        {
          "output_type": "stream",
          "text": [
            "欠損個数（数値変数の欠損補完前1）:hokan 16892\n",
            "モデルのみに存在する項目: set()\n",
            "スコアのみに存在する項目: set()\n",
            "欠損個数（数値変数の欠損補完前） 50806\n"
          ],
          "name": "stdout"
        }
      ]
    },
    {
      "cell_type": "code",
      "metadata": {
        "id": "1HW5647I4KCB",
        "colab_type": "code",
        "colab": {}
      },
      "source": [
        "def main():\n",
        "    algorithm_name = input_algorithm.value\n",
        "    predict = scoring(algorithm_name, X_predicted);\n",
        "    output_file(df_s, id_label, predict, algorithm_name, file_extention, header=False)\n",
        "    print(algorithm_name + ' selected')\n",
        "    print(input_evaluation.value + ' selected')"
      ],
      "execution_count": 0,
      "outputs": []
    },
    {
      "cell_type": "code",
      "metadata": {
        "id": "nalehpK6jyoH",
        "colab_type": "code",
        "outputId": "ea3ea7f4-9b84-4dbb-b84d-78dfed4767be",
        "colab": {
          "base_uri": "https://localhost:8080/",
          "height": 51
        }
      },
      "source": [
        "if __name__ == '__main__':\n",
        "    main()"
      ],
      "execution_count": 24,
      "outputs": [
        {
          "output_type": "stream",
          "text": [
            "ols selected\n",
            "RMSE selected\n"
          ],
          "name": "stdout"
        }
      ]
    }
  ]
}