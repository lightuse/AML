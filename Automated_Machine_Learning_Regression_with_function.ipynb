{
  "nbformat": 4,
  "nbformat_minor": 0,
  "metadata": {
    "colab": {
      "name": "Automated_Machine_Learning_Regression_with_function.ipynb",
      "provenance": [],
      "collapsed_sections": [],
      "include_colab_link": true
    },
    "kernelspec": {
      "display_name": "Python 3",
      "language": "python",
      "name": "python3"
    }
  },
  "cells": [
    {
      "cell_type": "markdown",
      "metadata": {
        "id": "view-in-github",
        "colab_type": "text"
      },
      "source": [
        "<a href=\"https://colab.research.google.com/github/lightuse/AML/blob/master/Automated_Machine_Learning_Regression_with_function.ipynb\" target=\"_parent\"><img src=\"https://colab.research.google.com/assets/colab-badge.svg\" alt=\"Open In Colab\"/></a>"
      ]
    },
    {
      "cell_type": "markdown",
      "metadata": {
        "colab_type": "text",
        "id": "ZQ0VKbF0TBSm"
      },
      "source": [
        "# supervised learning\n",
        "## Regression"
      ]
    },
    {
      "cell_type": "code",
      "metadata": {
        "id": "FUt5LuN8fayE",
        "colab_type": "code",
        "colab": {}
      },
      "source": [
        "!pip install optuna"
      ],
      "execution_count": null,
      "outputs": []
    },
    {
      "cell_type": "code",
      "metadata": {
        "id": "i9iMmuHyP18A",
        "colab_type": "code",
        "colab": {}
      },
      "source": [
        "!pip install catboost"
      ],
      "execution_count": null,
      "outputs": []
    },
    {
      "cell_type": "markdown",
      "metadata": {
        "colab_type": "text",
        "id": "2VLl-w9W2BX0"
      },
      "source": [
        "Setting"
      ]
    },
    {
      "cell_type": "code",
      "metadata": {
        "id": "Ps8tsBL9t8rI",
        "colab_type": "code",
        "colab": {}
      },
      "source": [
        "from common import function"
      ],
      "execution_count": null,
      "outputs": []
    },
    {
      "cell_type": "code",
      "metadata": {
        "id": "Sp_j1H_X3sK3",
        "colab_type": "code",
        "colab": {}
      },
      "source": [
        "pipelines = function.setup_algorithm(pipelines)"
      ],
      "execution_count": null,
      "outputs": []
    },
    {
      "cell_type": "code",
      "metadata": {
        "colab_type": "code",
        "id": "W6adj8nKyT9L",
        "colab": {}
      },
      "source": [
        "exception_algorithm_list = ['tree', 'gbr1', 'gbr2', 'ols', 'ridge', 'knn', 'xgboost', 'catboost', 'rf']\n",
        "for algorithm in exception_algorithm_list:\n",
        "    if algorithm in pipelines:\n",
        "        pipelines.pop(algorithm)\n",
        "# Feature selection by RandomForestClassifier\n",
        "feature_selection_rf_list = ['knn']\n",
        "tuning_prarameter_list = ['lightgbm', 'rf', 'tree']\n",
        "tuning_prarameter_list = []\n",
        "options_evaluation = ['R2', 'MAE:neg_mean_absolute_error',\n",
        "                      'RMSE:neg_root_mean_squared_error',\n",
        "                      'MAPE:Mean Absolute Persentage Error',\n",
        "                      'RMSLE:Root Mean Squared Logarithmic Error',\n",
        "                      'RMSPE:Root Mean Squared Persentage Error']\n",
        "options_evaluation = ['RMSE', 'MAE', 'R2', 'RMSLE']\n",
        "# カテゴリ変数をリストで設定\n",
        "ohe_columns = ['bed_type', 'city', 'cleaning_fee', 'host_identity_verified', 'property_type', 'room_type', 'neighbourhood']\n",
        "# カテゴリ変数をobject型で読み込むための準備\n",
        "my_dtype = {'thumbnail_url':object, 'amenities':object}\n",
        "id_label = 'id'\n",
        "target_label = 'y'\n",
        "drop_columns = ['amenities', 'description', 'name', 'thumbnail_url', 'host_since', 'first_review', 'last_review', 'cancellation_policy', 'host_has_profile_pic']\n",
        "out_put_data_dir = \"/content/drive/My Drive/Colab Notebooks/AIQuest/data/\"\n",
        "train_file_name = out_put_data_dir + 'train.csv'\n",
        "test_file_name = out_put_data_dir + 'test.csv'\n",
        "model_columns_file_name = out_put_data_dir + 'model_columns.csv'\n",
        "# feature_selection range 50-100\n",
        "n_features_to_select = 100\n",
        "# ファイル出力拡張子\n",
        "file_extention = 'csv'\n",
        "# ホールドアウト有無\n",
        "is_holdout = False\n",
        "# k-fold 法を利用するか\n",
        "is_k_fold = True\n",
        "# optuna を利用するかどうか \n",
        "is_optuna = True\n",
        "# 目的変数をマイナスから0にするかどうか\n",
        "is_target_minus_to_zero = True"
      ],
      "execution_count": null,
      "outputs": []
    },
    {
      "cell_type": "code",
      "metadata": {
        "colab_type": "code",
        "id": "pTTNkzAE2FWH",
        "colab": {}
      },
      "source": [
        "import pandas as pd\n",
        "import numpy as np\n",
        "def input_train_file(filename, my_dtype, id_label):\n",
        "    df = pd.read_csv(train_file_name, header=0, dtype=my_dtype)\n",
        "    #df = df[df['room_type'] == 'Shared room']\n",
        "    #df = df[df['room_type'] == 'Entire home/apt']\n",
        "    #df = df[df['room_type'] == 'Private room']\n",
        "    df['y'] = np.log1p(df['y'])\n",
        "    df = df[(df['y'] >= 1) & (df['y'] <= 8)]\n",
        "    df = df.reset_index(drop=True)\n",
        "    # データの形式に合わせて適時修正\n",
        "    X  = df.iloc[:,:-1]\n",
        "    X = X.drop(id_label, axis=1)\n",
        "    X = X.reset_index(drop=True)\n",
        "    ID = X.iloc[:,[0]]\n",
        "    y  = df.iloc[:,-1]\n",
        "    print('欠損個数（数値変数の欠損補完前）:input_train_file', X.isnull().sum().sum())\n",
        "    print(X.isnull().sum())\n",
        "    return X, y"
      ],
      "execution_count": null,
      "outputs": []
    },
    {
      "cell_type": "code",
      "metadata": {
        "id": "F_4BmtVDyzpa",
        "colab_type": "code",
        "colab": {}
      },
      "source": [
        "def input_test_file(filename, my_dtype, id_label):\n",
        "    df_s = pd.read_csv(filename, header=0, dtype=my_dtype)\n",
        "    #df_s = df_s[df_s['room_type'] == 'Shared room']\n",
        "    #df_s = df_s[df_s['room_type'] == 'Entire home/apt']\n",
        "    #df_s = df_s[df_s['room_type'] == 'Private room']\n",
        "    df_s = df_s.reset_index(drop=True)\n",
        "    ID_s = df_s.iloc[:,[0]]\n",
        "    X_s  = df_s.drop(id_label, axis=1)\n",
        "    return df_s, X_s"
      ],
      "execution_count": null,
      "outputs": []
    },
    {
      "cell_type": "code",
      "metadata": {
        "colab_type": "code",
        "id": "xczmTRCd1LQx",
        "colab": {}
      },
      "source": [
        "import pandas as pd\n",
        "import datetime as dt\n",
        "import re\n",
        "def transform_data(X:pd.core.series.Series):\n",
        "    X['log_beds'] = np.log1p(X['beds'])\n",
        "    X['log_bathrooms'] = np.log1p(X['bathrooms'])\n",
        "    X['log_bedrooms'] = np.log1p(X['bedrooms'])\n",
        "    X['log_number_of_reviews'] = np.log1p(X['number_of_reviews'])\n",
        "    X['log_review_scores_rating'] = np.log1p(X['review_scores_rating'])\n",
        "    #X = X.drop('beds', axis=1)\n",
        "    #X = X.drop('bathrooms', axis=1)\n",
        "    #X = X.drop('bedrooms', axis=1)\n",
        "    #X = X.drop('number_of_reviews', axis=1)\n",
        "    #X = X.drop('review_scores_rating', axis=1)\n",
        "    def change_tf(x):\n",
        "        if x == 't':\n",
        "            return 1\n",
        "        elif x == 'f':\n",
        "            return 0\n",
        "    X['cleaning_fee'] = X['cleaning_fee'].apply(change_tf)\n",
        "    X['host_identity_verified'] = X['host_identity_verified'].apply(change_tf)\n",
        "    X['instant_bookable'] = X['instant_bookable'].apply(change_tf)\n",
        "    X['host_since'] =  pd.to_datetime(X['host_since']).map(pd.Timestamp.to_julian_date)\n",
        "    X['first_review'] =  pd.to_datetime(X['first_review']).map(pd.Timestamp.to_julian_date)\n",
        "    X['last_review'] =  pd.to_datetime(X['last_review']).map(pd.Timestamp.to_julian_date)\n",
        "    X['host_response_rate'] = X['host_response_rate'].str.strip('%')\n",
        "    X[\"length_description\"] = X[\"description\"].apply(lambda x: len(x))\n",
        "    X[\"log_length_description\"] = np.log1p(X[\"length_description\"])\n",
        "    X[\"length_name\"] = X[\"name\"].apply(lambda x: len(x))\n",
        "    X[\"amenities\"] = X[\"amenities\"].str.replace('{', '')\n",
        "    X[\"amenities\"] = X[\"amenities\"].str.replace('}', '')\n",
        "    X[\"amenities\"] = X[\"amenities\"].str.replace('\"', '')\n",
        "    X[\"amenities\"] = X[\"amenities\"].str.replace(\"'\", '')\n",
        "    X[\"amenities\"] = X[\"amenities\"].str.replace(\"’\", '')\n",
        "    X[\"amenities\"] = X[\"amenities\"].str.strip(\"'\")\n",
        "    X[\"amenities\"] = X[\"amenities\"].str.strip(\"[\")\n",
        "    X[\"amenities\"] = X[\"amenities\"].str.strip(\"]\")\n",
        "    X[\"amenities\"] = X[\"amenities\"].str.strip(\"’\")\n",
        "    X[\"count_amenities\"] = X[\"amenities\"].astype(str).apply(lambda x: len(x.split(\",\")))\n",
        "    X[\"log_count_amenities\"] = np.log1p(X[\"count_amenities\"])\n",
        "    X['thumbnail_url'] = X['thumbnail_url'].astype(str)\n",
        "    X['thumbnail_url'] = X['thumbnail_url'].fillna('')\n",
        "    X[\"has_url\"] = X[\"thumbnail_url\"].apply(lambda x : 1 if len(x) == 0 else 0)\n",
        "    #X[\"length_url\"] = X[\"thumbnail_url\"].apply(lambda x: len(x))\n",
        "    #X[\"log_length_url\"] = np.log1p(X[\"length_url\"])\n",
        "    X['zipcode'] = X['zipcode'].replace(\"11385-2308\", 11385-2308)\n",
        "    X['zipcode'] = X['zipcode'].replace(\"91606-1412\", 91606-1412)\n",
        "    X['zipcode'] = X['zipcode'].replace(\"91606-1412\", 91606-1412)\n",
        "    X['zipcode'] = X['zipcode'].replace(\"1m\", 1000)\n",
        "    X['zipcode'] = X['zipcode'].replace(\"Near 91304\", 91304)\n",
        "    X['zipcode'] = X['zipcode'].replace(\"11249\\r\\r\\r\\r\\r\\r\\n11249\", 11249)\n",
        "    X['zipcode'] = X['zipcode'].replace(\"11426-1175\", 11426-1175)\n",
        "    X['zipcode'] = X['zipcode'].replace(\"90039-2715\", 90039-2715)\n",
        "    X['zipcode'] = X['zipcode'].replace(\"90403-2638\", 90403-2638)\n",
        "    X['zipcode'] = X['zipcode'].replace(\"60660-1448\", 60660-1448)\n",
        "    X['zipcode'] = X['zipcode'].replace(\"90036-2514\", 90036-2514)\n",
        "    X['zipcode'] = X['zipcode'].replace(\"11103-3233\", 11103-3233)\n",
        "    X['zipcode'] = X['zipcode'].replace('10002-2289', 10002-2289)\n",
        "    X['zipcode'] = X['zipcode'].replace('20007-3413', 20007-3413)\n",
        "    X['zipcode'] = X['zipcode'].replace('91001-2243', 91001-2243)\n",
        "    X['zipcode'] = X['zipcode'].replace('20001-4044', 20001-4044)\n",
        "    X['zipcode'] = X['zipcode'].replace('10003-8623', 10003-8623)\n",
        "    X['zipcode'] = X['zipcode'].replace('95202\\r\\r\\r\\r\\r\\r\\n\\r\\r\\r\\r\\r\\r\\n\\r\\r\\r\\r\\r\\r\\n94158', 94158)\n",
        "    X['zipcode'] = X['zipcode'].replace('90035-4475', 90035-4475)\n",
        "    X['zipcode'] = X['zipcode'].replace('90034-2203', 90034-2203)\n",
        "    X['zipcode'] = X['zipcode'].replace(' ', 0)\n",
        "    X['zipcode'] = X['zipcode'].fillna(0)\n",
        "    X['zipcode'] = X['zipcode'].astype(str)\n",
        "    X['zipcode'] = X['zipcode'].astype(float)\n",
        "    X['zipcode'] = X['zipcode'].round().astype(int)\n",
        "    #X['log_zipcode'] = np.log1p(X['zipcode'])\n",
        "    #X['log_latitude'] = np.log1p(X['latitude'])\n",
        "    #X['log_longitude'] = np.log1p(X['longitude'])\n",
        "    df_amenities = X[\"amenities\"].astype(str).str.split(',', expand=False)\n",
        "    nd = df_amenities.values.tolist()\n",
        "    import itertools\n",
        "    nd = list(itertools.chain.from_iterable(nd))\n",
        "    def contain_item(item, word):\n",
        "        if word in item:\n",
        "            return 1\n",
        "        return 0\n",
        "    for word in np.unique(nd):\n",
        "        if word != '':      \n",
        "            X[\"amenities_\" + word] = X[\"amenities\"].apply(contain_item, args=(word,)).astype(str)\n",
        "    # \n",
        "    X['frequency_encode_city'] = function.convert_to_frequency_encode(X, 'city')\n",
        "    X['frequency_encode_amenities'] = function.convert_to_frequency_encode(X, 'amenities')\n",
        "    X['frequency_encode_zipcode'] = function.convert_to_frequency_encode(X, 'zipcode')\n",
        "    X['frequency_encode_bed_type'] = function.convert_to_frequency_encode(X, 'bed_type')\n",
        "    X['frequency_encode_room_type'] = function.convert_to_frequency_encode(X, 'room_type')\n",
        "    X['frequency_encode_neighbourhood'] = function.convert_to_frequency_encode(X, 'neighbourhood')\n",
        "    X['frequency_encode_cancellation_policy'] = function.convert_to_frequency_encode(X, 'cancellation_policy')\n",
        "\n",
        "    X['label_encode_city'] = function.convert_to_label_encode(X, 'city')\n",
        "    X['label_encode_amenities'] = function.convert_to_label_encode(X, 'amenities')\n",
        "    X['label_encode_zipcode'] = function.convert_to_label_encode(X, 'zipcode')\n",
        "    X['label_encode_bed_type'] = function.convert_to_label_encode(X, 'bed_type')\n",
        "    X['label_encode_room_type'] = function.convert_to_label_encode(X, 'room_type')\n",
        "    X['label_encode_neighbourhood'] = function.convert_to_label_encode(X, 'neighbourhood')\n",
        "    X['label_encode_cancellation_policy'] = function.convert_to_label_encode(X, 'cancellation_policy')\n",
        "\n",
        "    X['count_encode_city'] = function.convert_to_count_encode(X, 'city')\n",
        "    X['count_encode_amenities'] = function.convert_to_count_encode(X, 'amenities')\n",
        "    X['count_encode_zipcode'] = function.convert_to_count_encode(X, 'zipcode')\n",
        "    X['count_encode_bed_type'] = function.convert_to_count_encode(X, 'bed_type')\n",
        "    X['count_encode_room_type'] = function.convert_to_count_encode(X, 'room_type')\n",
        "    X['count_encode_neighbourhood'] = function.convert_to_count_encode(X, 'neighbourhood')\n",
        "    X['count_encode_cancellation_policy'] = function.convert_to_count_encode(X, 'cancellation_policy')\n",
        "\n",
        "    X['label_count_encode_city'] = function.convert_to_label_count_encode(X, 'city')\n",
        "    X['label_count_encode_amenities'] = function.convert_to_label_count_encode(X, 'amenities')\n",
        "    X['label_count_encode_zipcode'] = function.convert_to_label_count_encode(X, 'zipcode')\n",
        "    X['label_count_encode_bed_type'] = function.convert_to_label_count_encode(X, 'bed_type')\n",
        "    X['label_count_encode_room_type'] = function.convert_to_label_count_encode(X, 'room_type')\n",
        "    X['label_count_encode_neighbourhood'] = function.convert_to_label_count_encode(X, 'neighbourhood')\n",
        "    X['label_count_encode_cancellation_policy'] = function.convert_to_label_count_encode(X, 'cancellation_policy')\n",
        "\n",
        "    #X['target_encode_amenities'] = convert_to_target_encode(X, 'amenities')\n",
        "    #X['target_encode_zipcode'] = convert_to_target_encode(X, 'zipcode')\n",
        "    #X['target_encode_bed_type'] = convert_to_target_encode(X, 'bed_type')\n",
        "    #X['target_encode_room_type'] = convert_to_target_encode(X, 'room_type')\n",
        "    #X['target_encode_neighbourhood'] = convert_to_target_encode(X, 'neighbourhood')\n",
        "    #X['target_encode_cancellation_policy'] = convert_to_target_encode(X, 'cancellation_policy')\n",
        "    #X['label_count_encode_city'] = convert_to_label_encode(X, 'amenities')\n",
        "    #X['label_count_encode_city'] = convert_to_label_encode(X, 'amenities')\n",
        "    #X['label_count_encode_city'] = convert_to_label_encode(X, 'amenities')\n",
        "\n",
        "    # 不要カラム削除\n",
        "    #X = X.drop('zipcode', axis=1)\n",
        "    #X = X.drop('city', axis=1)\n",
        "    #X = X.drop('amenities', axis=1)\n",
        "    for column in drop_columns:\n",
        "        X = X.drop(column, axis=1)\n",
        "    X = X.reset_index(drop=True)\n",
        "\n",
        "    return X"
      ],
      "execution_count": null,
      "outputs": []
    },
    {
      "cell_type": "code",
      "metadata": {
        "colab_type": "code",
        "id": "dORWVrXXFnHv",
        "colab": {}
      },
      "source": [
        "input_evaluation = function.choice(options_evaluation)"
      ],
      "execution_count": null,
      "outputs": []
    },
    {
      "cell_type": "code",
      "metadata": {
        "colab_type": "code",
        "id": "98a5OJ7uuezd",
        "colab": {}
      },
      "source": [
        "X, y = input_train_file(train_file_name, my_dtype, id_label)"
      ],
      "execution_count": null,
      "outputs": []
    },
    {
      "cell_type": "markdown",
      "metadata": {
        "id": "vlBn_LLVRG0c",
        "colab_type": "text"
      },
      "source": [
        "Preprocessing"
      ]
    },
    {
      "cell_type": "code",
      "metadata": {
        "colab_type": "code",
        "id": "4rp3liWoJyzd",
        "colab": {}
      },
      "source": [
        "X = transform_data(X)"
      ],
      "execution_count": null,
      "outputs": []
    },
    {
      "cell_type": "code",
      "metadata": {
        "colab_type": "code",
        "id": "BQX6ByBJJvuf",
        "colab": {}
      },
      "source": [
        "X_ohe = function.one_hot_encoding(X, ohe_columns)\n",
        "print('欠損個数（数値変数の欠損補完前）', X_ohe.isnull().sum().sum())\n",
        "print('')\n",
        "print(X_ohe.isnull().sum())\n",
        "X_ohe, X_ohe_columns = function.imputation(out_put_data_dir, model_columns_file_name, X_ohe)"
      ],
      "execution_count": null,
      "outputs": []
    },
    {
      "cell_type": "markdown",
      "metadata": {
        "id": "zPs1VZYMRcDc",
        "colab_type": "text"
      },
      "source": [
        "Train"
      ]
    },
    {
      "cell_type": "code",
      "metadata": {
        "colab_type": "code",
        "id": "LEw7_LSWJI34",
        "scrolled": true,
        "colab": {}
      },
      "source": [
        "import time\n",
        "start_at = time.time()\n",
        "X_train, X_valid, y_train, y_valid = function.train_model(out_put_data_dir, pipelines, feature_selection_rf_list, n_features_to_select, X_ohe, y, X_ohe_columns, input_evaluation.value, is_holdout, is_optuna)\n",
        "end_at = time.time()\n",
        "print(\"Elapsed time: {:.2f} [sec]\".format(end_at - start_at))"
      ],
      "execution_count": null,
      "outputs": []
    },
    {
      "cell_type": "code",
      "metadata": {
        "colab_type": "code",
        "id": "T0CJNwtJilLt",
        "colab": {}
      },
      "source": [
        "function_evaluation = function.decide_evaluation(input_evaluation)"
      ],
      "execution_count": null,
      "outputs": []
    },
    {
      "cell_type": "code",
      "metadata": {
        "colab_type": "code",
        "id": "Mnzm8pTJvsGP",
        "colab": {}
      },
      "source": [
        "function.display_evaluation(is_holdout, out_put_data_dir, pipelines, function_evaluation, input_evaluation, X_train, y_train, X_valid, y_valid)"
      ],
      "execution_count": null,
      "outputs": []
    },
    {
      "cell_type": "code",
      "metadata": {
        "colab_type": "code",
        "id": "9xaTzyIzTcnX",
        "colab": {}
      },
      "source": [
        "input_algorithm = function.choice(function.options_algorithm)"
      ],
      "execution_count": null,
      "outputs": []
    },
    {
      "cell_type": "code",
      "metadata": {
        "id": "IzL-BhDST__k",
        "colab_type": "code",
        "colab": {}
      },
      "source": [
        "if is_k_fold:\n",
        "    from sklearn.metrics import make_scorer\n",
        "    scorer = make_scorer(function.root_mean_squared_error, greater_is_better=False)\n",
        "    function.cross_validatior(scorer, out_put_data_dir, n_features_to_select, pipelines, input_evaluation, X_ohe, y)"
      ],
      "execution_count": null,
      "outputs": []
    },
    {
      "cell_type": "code",
      "metadata": {
        "colab_type": "code",
        "id": "1HW5647I4KCB",
        "colab": {}
      },
      "source": [
        "def main():\n",
        "    algorithm_name = input_algorithm.value\n",
        "    df_s, X_s = input_test_file(test_file_name, my_dtype, id_label)\n",
        "    X_s = transform_data(X_s)\n",
        "    X_ohe_s = function.one_hot_encoding(X_s, ohe_columns)\n",
        "    X_predicted = function.preprocessing(out_put_data_dir, model_columns_file_name, algorithm_name, X_ohe, X_ohe_s)\n",
        "    predict = function.scoring(out_put_data_dir, algorithm_name, X_predicted);\n",
        "    predict = np.expm1(predict)\n",
        "    if is_target_minus_to_zero:\n",
        "        predict = [i if i > 0 else 0 for i in predict]\n",
        "    function.output_file(out_put_data_dir, n_features_to_select, target_label, df_s, id_label, predict, algorithm_name, file_extention, header=False)\n",
        "    print(input_evaluation.value + ' selected')\n",
        "    print(algorithm_name + ' selected')\n",
        "    if algorithm_name in function.feature_importances_algorithm_list:\n",
        "        pd.options.display.max_columns = 100\n",
        "        pd.set_option('display.max_rows', 100)\n",
        "        feature_importances = pipelines[algorithm_name]['est'].feature_importances_\n",
        "        feature_importances = pd.Series(feature_importances, index=X_predicted.columns.values.tolist())\n",
        "        sorted_feature_importances = sorted(feature_importances.items(), key=lambda x:-x[1])\n",
        "        #print(sorted_feature_importances)\n",
        "        str_all_print = 'n_features_to_select,' + str(n_features_to_select) + '\\n'\n",
        "        str_all_print += 'Evaluation index' + ',' + input_evaluation.value + '\\n'\n",
        "        print('評価指標:' + input_evaluation.value)\n",
        "        for index, value in sorted_feature_importances:\n",
        "            str_print = str(index) + ',' + str(value) + '\\n'\n",
        "            str_all_print += str_print\n",
        "        import datetime\n",
        "        with open(out_put_data_dir + 'feature_importances' + '_' + str(n_features_to_select) + \"_\" +  datetime.datetime.now().strftime('%Y%m%d%H%M%S') + '.csv', mode='w') as f:\n",
        "            f.write(str_all_print)\n",
        "        display(pd.DataFrame(sorted_feature_importances))"
      ],
      "execution_count": null,
      "outputs": []
    },
    {
      "cell_type": "code",
      "metadata": {
        "colab_type": "code",
        "id": "nalehpK6jyoH",
        "colab": {}
      },
      "source": [
        "if __name__ == '__main__':\n",
        "    main()"
      ],
      "execution_count": null,
      "outputs": []
    }
  ]
}