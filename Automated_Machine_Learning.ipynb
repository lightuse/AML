{
  "nbformat": 4,
  "nbformat_minor": 0,
  "metadata": {
    "colab": {
      "name": "Automated Machine Learning",
      "provenance": [],
      "collapsed_sections": [],
      "authorship_tag": "ABX9TyNoSYYUi6ftb7cRjnZVNh1q",
      "include_colab_link": true
    },
    "kernelspec": {
      "name": "python3",
      "display_name": "Python 3"
    },
    "widgets": {
      "application/vnd.jupyter.widget-state+json": {
        "299cdbd0aab3484a96347d4c23d02fa7": {
          "model_module": "@jupyter-widgets/controls",
          "model_name": "RadioButtonsModel",
          "state": {
            "_options_labels": [
              "AUC",
              "Recall",
              "Precision",
              "F1"
            ],
            "_view_name": "RadioButtonsView",
            "style": "IPY_MODEL_10235a88fcd441e4b68e71c3b90c23a3",
            "_dom_classes": [],
            "description": "",
            "_model_name": "RadioButtonsModel",
            "index": 0,
            "_view_module": "@jupyter-widgets/controls",
            "_model_module_version": "1.5.0",
            "_view_count": null,
            "disabled": false,
            "_view_module_version": "1.5.0",
            "description_tooltip": null,
            "_model_module": "@jupyter-widgets/controls",
            "layout": "IPY_MODEL_fafdbcd09efc457daad7c8906cbb8785"
          }
        },
        "10235a88fcd441e4b68e71c3b90c23a3": {
          "model_module": "@jupyter-widgets/controls",
          "model_name": "DescriptionStyleModel",
          "state": {
            "_view_name": "StyleView",
            "_model_name": "DescriptionStyleModel",
            "description_width": "",
            "_view_module": "@jupyter-widgets/base",
            "_model_module_version": "1.5.0",
            "_view_count": null,
            "_view_module_version": "1.2.0",
            "_model_module": "@jupyter-widgets/controls"
          }
        },
        "fafdbcd09efc457daad7c8906cbb8785": {
          "model_module": "@jupyter-widgets/base",
          "model_name": "LayoutModel",
          "state": {
            "_view_name": "LayoutView",
            "grid_template_rows": null,
            "right": null,
            "justify_content": null,
            "_view_module": "@jupyter-widgets/base",
            "overflow": null,
            "_model_module_version": "1.2.0",
            "_view_count": null,
            "flex_flow": null,
            "width": null,
            "min_width": null,
            "border": null,
            "align_items": null,
            "bottom": null,
            "_model_module": "@jupyter-widgets/base",
            "top": null,
            "grid_column": null,
            "overflow_y": null,
            "overflow_x": null,
            "grid_auto_flow": null,
            "grid_area": null,
            "grid_template_columns": null,
            "flex": null,
            "_model_name": "LayoutModel",
            "justify_items": null,
            "grid_row": null,
            "max_height": null,
            "align_content": null,
            "visibility": null,
            "align_self": null,
            "height": null,
            "min_height": null,
            "padding": null,
            "grid_auto_rows": null,
            "grid_gap": null,
            "max_width": null,
            "order": null,
            "_view_module_version": "1.2.0",
            "grid_template_areas": null,
            "object_position": null,
            "object_fit": null,
            "grid_auto_columns": null,
            "margin": null,
            "display": null,
            "left": null
          }
        },
        "902ae42599574976afbd828b6d438587": {
          "model_module": "@jupyter-widgets/controls",
          "model_name": "RadioButtonsModel",
          "state": {
            "_options_labels": [
              "knn",
              "logistic",
              "rsvc",
              "lsvc",
              "tree",
              "rf",
              "gb",
              "mlp",
              "lightgbm"
            ],
            "_view_name": "RadioButtonsView",
            "style": "IPY_MODEL_9513625abea94413bc6466750ea440c6",
            "_dom_classes": [],
            "description": "",
            "_model_name": "RadioButtonsModel",
            "index": 0,
            "_view_module": "@jupyter-widgets/controls",
            "_model_module_version": "1.5.0",
            "_view_count": null,
            "disabled": false,
            "_view_module_version": "1.5.0",
            "description_tooltip": null,
            "_model_module": "@jupyter-widgets/controls",
            "layout": "IPY_MODEL_420f6e55904046ee954c3f573a214358"
          }
        },
        "9513625abea94413bc6466750ea440c6": {
          "model_module": "@jupyter-widgets/controls",
          "model_name": "DescriptionStyleModel",
          "state": {
            "_view_name": "StyleView",
            "_model_name": "DescriptionStyleModel",
            "description_width": "",
            "_view_module": "@jupyter-widgets/base",
            "_model_module_version": "1.5.0",
            "_view_count": null,
            "_view_module_version": "1.2.0",
            "_model_module": "@jupyter-widgets/controls"
          }
        },
        "420f6e55904046ee954c3f573a214358": {
          "model_module": "@jupyter-widgets/base",
          "model_name": "LayoutModel",
          "state": {
            "_view_name": "LayoutView",
            "grid_template_rows": null,
            "right": null,
            "justify_content": null,
            "_view_module": "@jupyter-widgets/base",
            "overflow": null,
            "_model_module_version": "1.2.0",
            "_view_count": null,
            "flex_flow": null,
            "width": null,
            "min_width": null,
            "border": null,
            "align_items": null,
            "bottom": null,
            "_model_module": "@jupyter-widgets/base",
            "top": null,
            "grid_column": null,
            "overflow_y": null,
            "overflow_x": null,
            "grid_auto_flow": null,
            "grid_area": null,
            "grid_template_columns": null,
            "flex": null,
            "_model_name": "LayoutModel",
            "justify_items": null,
            "grid_row": null,
            "max_height": null,
            "align_content": null,
            "visibility": null,
            "align_self": null,
            "height": null,
            "min_height": null,
            "padding": null,
            "grid_auto_rows": null,
            "grid_gap": null,
            "max_width": null,
            "order": null,
            "_view_module_version": "1.2.0",
            "grid_template_areas": null,
            "object_position": null,
            "object_fit": null,
            "grid_auto_columns": null,
            "margin": null,
            "display": null,
            "left": null
          }
        }
      }
    }
  },
  "cells": [
    {
      "cell_type": "markdown",
      "metadata": {
        "id": "view-in-github",
        "colab_type": "text"
      },
      "source": [
        "<a href=\"https://colab.research.google.com/github/lightuse/AML/blob/master/Automated_Machine_Learning.ipynb\" target=\"_parent\"><img src=\"https://colab.research.google.com/assets/colab-badge.svg\" alt=\"Open In Colab\"/></a>"
      ]
    },
    {
      "cell_type": "markdown",
      "metadata": {
        "id": "ZQ0VKbF0TBSm",
        "colab_type": "text"
      },
      "source": [
        "# supervised learning\n",
        "## binary classification"
      ]
    },
    {
      "cell_type": "markdown",
      "metadata": {
        "id": "2VLl-w9W2BX0",
        "colab_type": "text"
      },
      "source": [
        "Setting"
      ]
    },
    {
      "cell_type": "code",
      "metadata": {
        "id": "W6adj8nKyT9L",
        "colab_type": "code",
        "colab": {}
      },
      "source": [
        "import pandas as pd\n",
        "options_evaluation = ['AUC', 'Recall', 'Precision', 'F1']\n",
        "options_algorithm = ['knn', 'logistic', 'rsvc', 'lsvc', 'tree', 'rf', 'gb', 'mlp', 'lightgbm']\n",
        "# カテゴリ変数をリストで設定\n",
        "ohe_columns = ['sex', 'embarked']\n",
        "# カテゴリ変数をobject型で読み込むための準備\n",
        "my_dtype = {'sex':object, 'embarked':object}\n",
        "# 表示オプションの変更\n",
        "pd.options.display.max_columns = 50\n",
        "id_label = \"id\"\n",
        "train_file_name = './data/train.csv'\n",
        "test_file_name = './data/test.csv'\n",
        "# ファイル出力拡張子\n",
        "file_extention = 'tsv'\n",
        "# ホールドアウト有無\n",
        "is_holdout = True\n",
        "#is_holdout = False"
      ],
      "execution_count": 0,
      "outputs": []
    },
    {
      "cell_type": "code",
      "metadata": {
        "id": "pTTNkzAE2FWH",
        "colab_type": "code",
        "colab": {}
      },
      "source": [
        "def input_train_file(filename, my_dtype, id_label):\n",
        "    df = pd.read_csv(train_file_name,\n",
        "                    header=0,\n",
        "                    dtype=my_dtype)\n",
        "    pd.DataFrame(df).to_csv('df.csv')\n",
        "    X  = df.iloc[:,2:]            # 最終列以前を特徴量\n",
        "    ID = X.iloc[:,[0]]            # 第0列はPKなのでIDとしてセット\n",
        "    y  = df.iloc[:,1]             # 最終列を正解データ\n",
        "    return X, y"
      ],
      "execution_count": 0,
      "outputs": []
    },
    {
      "cell_type": "code",
      "metadata": {
        "id": "5GNLkqrf2MFs",
        "colab_type": "code",
        "colab": {}
      },
      "source": [
        "# one-hot encoding\n",
        "def one_hot(X, ohe_columns):\n",
        "    X_ohe = pd.get_dummies(X,\n",
        "                          dummy_na=True,\n",
        "                          columns=ohe_columns)\n",
        "    return X_ohe"
      ],
      "execution_count": 0,
      "outputs": []
    },
    {
      "cell_type": "code",
      "metadata": {
        "id": "a8xSnJYh2Ohp",
        "colab_type": "code",
        "colab": {}
      },
      "source": [
        "# imputation\n",
        "from sklearn.impute import SimpleImputer\n",
        "def imputation(X_ohe):\n",
        "    imp = SimpleImputer(strategy='mean')\n",
        "    imp.fit(X_ohe)\n",
        "    X_ohe_columns = X_ohe.columns.values\n",
        "    X_ohe = pd.DataFrame(imp.transform(X_ohe), columns=X_ohe_columns)\n",
        "    return imp, X_ohe, X_ohe_columns"
      ],
      "execution_count": 0,
      "outputs": []
    },
    {
      "cell_type": "code",
      "metadata": {
        "id": "C2_BTK_G2TZE",
        "colab_type": "code",
        "colab": {}
      },
      "source": [
        "# train\n",
        "from sklearn.feature_selection import RFE\n",
        "import numpy as np\n",
        "import lightgbm as lgb\n",
        "from sklearn.preprocessing import StandardScaler\n",
        "from sklearn.neighbors import KNeighborsClassifier\n",
        "from sklearn.linear_model import LogisticRegression\n",
        "from sklearn.svm import SVC, LinearSVC\n",
        "from sklearn.tree import DecisionTreeClassifier\n",
        "from sklearn.ensemble import RandomForestClassifier\n",
        "from sklearn.ensemble import GradientBoostingClassifier\n",
        "from sklearn.neural_network import MLPClassifier\n",
        "from sklearn.pipeline import Pipeline\n",
        "from sklearn.decomposition import PCA\n",
        "def train_model(X_train, y_train, score, text, function_evaluation):\n",
        "    # set pipelines for different algorithms\n",
        "    pipelines = {\n",
        "        'knn':\n",
        "            Pipeline([('scl', StandardScaler()),\n",
        "                      ('reduct', PCA(random_state=1)),\n",
        "                      ('est', KNeighborsClassifier())]),\n",
        "        'logistic':\n",
        "            Pipeline([('scl', StandardScaler()),\n",
        "                      ('reduct', PCA(random_state=1)),\n",
        "                      ('est', LogisticRegression(random_state=1))]),\n",
        "        'rsvc':\n",
        "            Pipeline([('scl', StandardScaler()),\n",
        "                      ('reduct', PCA(random_state=1)),\n",
        "                      ('est', SVC(C=1.0, kernel='rbf', class_weight='balanced', random_state=1))]),\n",
        "        'lsvc':\n",
        "            Pipeline([('scl', StandardScaler()),\n",
        "                      ('reduct', PCA(random_state=1)),\n",
        "                      ('est', LinearSVC(C=1.0, class_weight='balanced', random_state=1, max_iter=10000))]),\n",
        "        'tree':\n",
        "            Pipeline([('scl', StandardScaler()),\n",
        "                      ('reduct', PCA(random_state=1)),\n",
        "                      ('est', DecisionTreeClassifier(random_state=1))]),\n",
        "        'rf':\n",
        "            Pipeline([('scl', StandardScaler()),\n",
        "                      ('reduct', PCA(random_state=1)),\n",
        "                      ('est', RandomForestClassifier(random_state=1))]),\n",
        "        'gb':\n",
        "            Pipeline([('scl', StandardScaler()),\n",
        "                      ('reduct', PCA(random_state=1)),\n",
        "                      ('est', GradientBoostingClassifier(random_state=1))]),\n",
        "        'mlp':\n",
        "            Pipeline([('scl', StandardScaler()),\n",
        "                      ('reduct', PCA(random_state=1)),\n",
        "                      ('est', MLPClassifier(hidden_layer_sizes=(3,3), max_iter=10000, random_state=1))]),\n",
        "        'lightgbm':\n",
        "            Pipeline([('scl', StandardScaler()),\n",
        "                      ('reduct', PCA(random_state=1)),\n",
        "                      ('est', lgb.LGBMClassifier(random_state=1))])\n",
        "    }\n",
        "    from joblib import dump\n",
        "    # fit & evaluation\n",
        "    for pipe_name, pipeline in pipelines.items():\n",
        "        clf = pipeline.fit(X_train, y_train)\n",
        "        if text == 'train':\n",
        "            dump(clf, pipe_name + '_classiffier.joblib')\n",
        "        scores[(pipe_name,text)] = function_evaluation(y_train, pipeline.predict(X_train))"
      ],
      "execution_count": 0,
      "outputs": []
    },
    {
      "cell_type": "code",
      "metadata": {
        "id": "GlQ7cwebwWI_",
        "colab_type": "code",
        "colab": {}
      },
      "source": [
        "def input_test_file(filename, my_dtype, id_label):\n",
        "    df_s = pd.read_csv(filename,\n",
        "                      header=0,\n",
        "                      dtype=my_dtype)\n",
        "    ID_s = df_s.iloc[:,[0]]\n",
        "    X_s  = df_s.drop(id_label, axis=1)\n",
        "    return df_s, X_s"
      ],
      "execution_count": 0,
      "outputs": []
    },
    {
      "cell_type": "code",
      "metadata": {
        "id": "5qpOyzr7PeWt",
        "colab_type": "code",
        "colab": {}
      },
      "source": [
        "# preprocessing\n",
        "def preprocessing(X_s, X_ohe, X_ohe_s, imp, X_ohe_columns):\n",
        "    cols_model = set(X_ohe.columns.values)\n",
        "    cols_score = set(X_ohe_s.columns.values)\n",
        "    diff1 = cols_model - cols_score\n",
        "    diff2 = cols_score - cols_model\n",
        "    df1 = pd.DataFrame([[1,2,3]], columns=['c1','c2','c3'])\n",
        "    df2 = pd.DataFrame([[3,2,1]], columns=['c1','c2','c3'])\n",
        "    df_all = pd.concat([df1, df2])\n",
        "    df3 = pd.DataFrame([[0,1,2,3]],columns=['c0','c1','c3','c4'])\n",
        "    df_all = pd.concat([df_all, df3])\n",
        "    df_cols_m = pd.DataFrame(None,\n",
        "                         columns=X_ohe_columns,\n",
        "                         dtype=float)\n",
        "    X_ohe_s2 = pd.concat([df_cols_m, X_ohe_s])\n",
        "    set_Xm = set(X_ohe.columns.values)\n",
        "    set_Xs = set(X_ohe_s.columns.values)\n",
        "    X_ohe_s3 = X_ohe_s2.drop(list(set_Xs-set_Xm),axis=1)\n",
        "    X_ohe_s3.loc[:,list(set_Xm-set_Xs)] = X_ohe_s3.loc[:,list(set_Xm-set_Xs)].fillna(0,axis=1)\n",
        "    test = pd.DataFrame([[1,2,3]], columns=['c1','c2','c3'])\n",
        "    test = test.reindex(['c2','c3','c1'], axis=1)\n",
        "    X_ohe_s3 = X_ohe_s3.reindex(X_ohe.columns.values,axis=1)\n",
        "    X_ohe_s4 = pd.DataFrame(imp.transform(X_ohe_s3), columns=X_ohe_columns)\n",
        "    return X_ohe_s4"
      ],
      "execution_count": 0,
      "outputs": []
    },
    {
      "cell_type": "code",
      "metadata": {
        "id": "HyOEFvJP5dOU",
        "colab_type": "code",
        "colab": {}
      },
      "source": [
        "# holdout\n",
        "from sklearn.model_selection import train_test_split\n",
        "def holdout(X_ohe, y):\n",
        "    X_train, X_test, y_train, y_test = train_test_split(X_ohe,\n",
        "                                                y,\n",
        "                                                test_size=0.3,\n",
        "                                                random_state=1)\n",
        "    return X_train, X_test, y_train, y_test"
      ],
      "execution_count": 0,
      "outputs": []
    },
    {
      "cell_type": "code",
      "metadata": {
        "id": "hG4JHiGchCSV",
        "colab_type": "code",
        "colab": {}
      },
      "source": [
        "from joblib import load\n",
        "def scoring(algorithm_name, X):\n",
        "    clf = load(algorithm_name + '_classiffier.joblib')\n",
        "    return clf.predict(X)"
      ],
      "execution_count": 0,
      "outputs": []
    },
    {
      "cell_type": "code",
      "metadata": {
        "id": "053crigVoBuR",
        "colab_type": "code",
        "colab": {}
      },
      "source": [
        "def get_input(x):\n",
        "    return x"
      ],
      "execution_count": 0,
      "outputs": []
    },
    {
      "cell_type": "code",
      "metadata": {
        "id": "q7edk4EAoCby",
        "colab_type": "code",
        "colab": {}
      },
      "source": [
        "from ipywidgets import interact,interactive,fixed,interact_manual\n",
        "from IPython.display import display\n",
        "import ipywidgets as widgets\n",
        "def choice(options):\n",
        "    input = get_input(widgets.RadioButtons(options=options))\n",
        "    display(input)\n",
        "    return input"
      ],
      "execution_count": 0,
      "outputs": []
    },
    {
      "cell_type": "code",
      "metadata": {
        "id": "OjZaceOpp4rJ",
        "colab_type": "code",
        "colab": {}
      },
      "source": [
        "import datetime\n",
        "def output_file(df, id_label, y, model_name, extension, header=True):\n",
        "    file_name = \"submittion_\" + model_name + \"_\" + datetime.datetime.now().strftime('%Y%m%d%H%M%S') + \".\" + extension\n",
        "    separator = ','\n",
        "    if extension == 'tsv':\n",
        "        separator = '\\t'\n",
        "    pd.concat([df[id_label], pd.DataFrame(y, columns=[\"y\"])], axis=1).to_csv(file_name, index=False, sep=separator, header=header)"
      ],
      "execution_count": 0,
      "outputs": []
    },
    {
      "cell_type": "code",
      "metadata": {
        "id": "myzBjVOVSa33",
        "colab_type": "code",
        "colab": {
          "base_uri": "https://localhost:8080/",
          "height": 101,
          "referenced_widgets": [
            "299cdbd0aab3484a96347d4c23d02fa7",
            "10235a88fcd441e4b68e71c3b90c23a3",
            "fafdbcd09efc457daad7c8906cbb8785"
          ]
        },
        "outputId": "b1e1bdb8-ed77-4efa-c963-1be86e8bc801"
      },
      "source": [
        "input_evaluation = choice(options_evaluation)"
      ],
      "execution_count": 1169,
      "outputs": [
        {
          "output_type": "display_data",
          "data": {
            "application/vnd.jupyter.widget-view+json": {
              "model_id": "299cdbd0aab3484a96347d4c23d02fa7",
              "version_minor": 0,
              "version_major": 2
            },
            "text/plain": [
              "RadioButtons(options=('AUC', 'Recall', 'Precision', 'F1'), value='AUC')"
            ]
          },
          "metadata": {
            "tags": []
          }
        }
      ]
    },
    {
      "cell_type": "code",
      "metadata": {
        "id": "BPQXOsBeVNeD",
        "colab_type": "code",
        "colab": {}
      },
      "source": [
        "from sklearn.metrics import accuracy_score\n",
        "from sklearn.metrics import recall_score\n",
        "from sklearn.metrics import precision_score\n",
        "from sklearn.metrics import f1_score\n",
        "function_evaluation = accuracy_score\n",
        "if input_evaluation.value == 'AUC':\n",
        "    function_evaluation = accuracy_score\n",
        "elif input_evaluation.value == 'Recall':\n",
        "    function_evaluation = recall_score\n",
        "elif input_evaluation.value == 'Precision':\n",
        "    function_evaluation = precision_score\n",
        "elif input_evaluation.value == 'F1':\n",
        "    function_evaluation = f1_score"
      ],
      "execution_count": 0,
      "outputs": []
    },
    {
      "cell_type": "code",
      "metadata": {
        "id": "ZfQu4mbXpKrR",
        "colab_type": "code",
        "outputId": "829bad3d-614f-4153-f549-fa2273ee4583",
        "colab": {
          "base_uri": "https://localhost:8080/",
          "height": 328
        }
      },
      "source": [
        "X, y = input_train_file(train_file_name, my_dtype, id_label)\n",
        "X_ohe = one_hot(X, ohe_columns)\n",
        "imp, X_ohe, X_ohe_columns = imputation(X_ohe)\n",
        "scores = {}\n",
        "if is_holdout:\n",
        "    X_train, X_valid, y_train, y_valid = holdout(X_ohe, y)\n",
        "    train_model(X_train, y_train, scores, 'train', function_evaluation)\n",
        "    train_model(X_valid, y_valid, scores, 'valid', function_evaluation)\n",
        "else:\n",
        "    train_model(X_train, y_train, scores, 'train', function_evaluation)\n",
        "# sort score\n",
        "#sorted_score = sorted(scores.items(), key=lambda x:-x[1])\n",
        "display(pd.Series(scores).unstack().sort_values(by='train', ascending=False))"
      ],
      "execution_count": 1171,
      "outputs": [
        {
          "output_type": "display_data",
          "data": {
            "text/html": [
              "<div>\n",
              "<style scoped>\n",
              "    .dataframe tbody tr th:only-of-type {\n",
              "        vertical-align: middle;\n",
              "    }\n",
              "\n",
              "    .dataframe tbody tr th {\n",
              "        vertical-align: top;\n",
              "    }\n",
              "\n",
              "    .dataframe thead th {\n",
              "        text-align: right;\n",
              "    }\n",
              "</style>\n",
              "<table border=\"1\" class=\"dataframe\">\n",
              "  <thead>\n",
              "    <tr style=\"text-align: right;\">\n",
              "      <th></th>\n",
              "      <th>train</th>\n",
              "      <th>valid</th>\n",
              "    </tr>\n",
              "  </thead>\n",
              "  <tbody>\n",
              "    <tr>\n",
              "      <th>rf</th>\n",
              "      <td>0.993569</td>\n",
              "      <td>1.000000</td>\n",
              "    </tr>\n",
              "    <tr>\n",
              "      <th>tree</th>\n",
              "      <td>0.993569</td>\n",
              "      <td>1.000000</td>\n",
              "    </tr>\n",
              "    <tr>\n",
              "      <th>gb</th>\n",
              "      <td>0.983923</td>\n",
              "      <td>1.000000</td>\n",
              "    </tr>\n",
              "    <tr>\n",
              "      <th>lightgbm</th>\n",
              "      <td>0.926045</td>\n",
              "      <td>0.761194</td>\n",
              "    </tr>\n",
              "    <tr>\n",
              "      <th>knn</th>\n",
              "      <td>0.871383</td>\n",
              "      <td>0.873134</td>\n",
              "    </tr>\n",
              "    <tr>\n",
              "      <th>mlp</th>\n",
              "      <td>0.848875</td>\n",
              "      <td>0.880597</td>\n",
              "    </tr>\n",
              "    <tr>\n",
              "      <th>rsvc</th>\n",
              "      <td>0.839228</td>\n",
              "      <td>0.865672</td>\n",
              "    </tr>\n",
              "    <tr>\n",
              "      <th>logistic</th>\n",
              "      <td>0.810289</td>\n",
              "      <td>0.820896</td>\n",
              "    </tr>\n",
              "    <tr>\n",
              "      <th>lsvc</th>\n",
              "      <td>0.800643</td>\n",
              "      <td>0.828358</td>\n",
              "    </tr>\n",
              "  </tbody>\n",
              "</table>\n",
              "</div>"
            ],
            "text/plain": [
              "             train     valid\n",
              "rf        0.993569  1.000000\n",
              "tree      0.993569  1.000000\n",
              "gb        0.983923  1.000000\n",
              "lightgbm  0.926045  0.761194\n",
              "knn       0.871383  0.873134\n",
              "mlp       0.848875  0.880597\n",
              "rsvc      0.839228  0.865672\n",
              "logistic  0.810289  0.820896\n",
              "lsvc      0.800643  0.828358"
            ]
          },
          "metadata": {
            "tags": []
          }
        }
      ]
    },
    {
      "cell_type": "code",
      "metadata": {
        "id": "9xaTzyIzTcnX",
        "colab_type": "code",
        "colab": {
          "base_uri": "https://localhost:8080/",
          "height": 201,
          "referenced_widgets": [
            "902ae42599574976afbd828b6d438587",
            "9513625abea94413bc6466750ea440c6",
            "420f6e55904046ee954c3f573a214358"
          ]
        },
        "outputId": "bb719b37-9aaf-406c-ba47-4b45604a5d86"
      },
      "source": [
        "input_algorithm = choice(options_algorithm)"
      ],
      "execution_count": 1172,
      "outputs": [
        {
          "output_type": "display_data",
          "data": {
            "application/vnd.jupyter.widget-view+json": {
              "model_id": "902ae42599574976afbd828b6d438587",
              "version_minor": 0,
              "version_major": 2
            },
            "text/plain": [
              "RadioButtons(options=('knn', 'logistic', 'rsvc', 'lsvc', 'tree', 'rf', 'gb', 'mlp', 'lightgbm'), value='knn')"
            ]
          },
          "metadata": {
            "tags": []
          }
        }
      ]
    },
    {
      "cell_type": "code",
      "metadata": {
        "id": "idj1JgkxTaGb",
        "colab_type": "code",
        "colab": {}
      },
      "source": [
        "df_s, X_s = input_test_file(test_file_name, my_dtype, id_label)\n",
        "X_ohe_s = one_hot(X_s, ohe_columns)\n",
        "X_predicted = preprocessing(X_s, X_ohe, X_ohe_s, imp, X_ohe_columns)"
      ],
      "execution_count": 0,
      "outputs": []
    },
    {
      "cell_type": "code",
      "metadata": {
        "id": "1HW5647I4KCB",
        "colab_type": "code",
        "colab": {}
      },
      "source": [
        "def main():\n",
        "    algorithm_name = input_algorithm.value\n",
        "    predict = scoring(algorithm_name, X_predicted);\n",
        "    output_file(df_s, id_label, predict, algorithm_name, file_extention, header=False)\n",
        "    print(algorithm_name + ' selected')\n",
        "    print(input_evaluation.value + ' selected')"
      ],
      "execution_count": 0,
      "outputs": []
    },
    {
      "cell_type": "code",
      "metadata": {
        "id": "nalehpK6jyoH",
        "colab_type": "code",
        "outputId": "c81bf4cd-dfbd-4551-80f3-4171faebfd96",
        "colab": {
          "base_uri": "https://localhost:8080/",
          "height": 51
        }
      },
      "source": [
        "if __name__ == '__main__':\n",
        "    main()"
      ],
      "execution_count": 1175,
      "outputs": [
        {
          "output_type": "stream",
          "text": [
            "knn selected\n",
            "AUC selected\n"
          ],
          "name": "stdout"
        }
      ]
    }
  ]
}